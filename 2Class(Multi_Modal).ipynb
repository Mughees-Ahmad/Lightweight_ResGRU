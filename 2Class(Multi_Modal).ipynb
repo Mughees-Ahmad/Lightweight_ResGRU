{
  "nbformat": 4,
  "nbformat_minor": 0,
  "metadata": {
    "colab": {
      "name": "2C(Multi_Modal)_Residual_Bi_RNN_Without_KFold(Updated_DataSet).ipynb",
      "provenance": [],
      "collapsed_sections": [],
      "machine_shape": "hm"
    },
    "kernelspec": {
      "name": "python3",
      "display_name": "Python 3"
    },
    "language_info": {
      "name": "python"
    },
    "accelerator": "GPU"
  },
  "cells": [
    {
      "cell_type": "code",
      "metadata": {
        "id": "KatDq58z4qe2"
      },
      "source": [
        "import numpy as np # linear algebra\n",
        "import pandas as pd # data processing, CSV file I/O (e.g. pd.read_csv)\n",
        "import math\n",
        "import cv2\n",
        "import matplotlib.pyplot as plt\n",
        "import os\n",
        "import seaborn as sns\n",
        "from PIL import Image\n",
        "from tensorflow.keras import models\n",
        "from scipy import misc\n",
        "from os import listdir\n",
        "from os.path import isfile, join\n",
        "import numpy as np\n",
        "from scipy import misc\n",
        "from random import shuffle\n",
        "from collections import Counter\n",
        "import matplotlib.pyplot as plt\n",
        "from sklearn.decomposition import PCA\n",
        "from sklearn.manifold import TSNE\n",
        "import tensorflow as tf\n",
        "from keras.models import Sequential\n",
        "from tensorflow.keras.applications import ResNet50, DenseNet121, Xception, EfficientNetB7\n",
        "from keras.layers import Conv2D, MaxPooling2D\n",
        "from keras.layers import Activation, Dropout, Flatten, Dense,GlobalAveragePooling2D,LSTM\n",
        "from keras.utils.np_utils import to_categorical\n",
        "from sklearn.model_selection import KFold\n",
        "from keras.preprocessing.image import ImageDataGenerator\n",
        "import gc"
      ],
      "execution_count": null,
      "outputs": []
    },
    {
      "cell_type": "code",
      "metadata": {
        "colab": {
          "base_uri": "https://localhost:8080/"
        },
        "id": "q8bBar0k5C1b",
        "outputId": "2f238144-9a93-44fc-884b-9dc760994244"
      },
      "source": [
        "from google.colab import drive\n",
        "drive.mount('/content/drive')"
      ],
      "execution_count": null,
      "outputs": [
        {
          "output_type": "stream",
          "name": "stdout",
          "text": [
            "Mounted at /content/drive\n"
          ]
        }
      ]
    },
    {
      "cell_type": "code",
      "metadata": {
        "colab": {
          "base_uri": "https://localhost:8080/"
        },
        "id": "7xnvG0-t5OHJ",
        "outputId": "0cf04d32-3ba2-49b7-ba19-407f2e4abe4c"
      },
      "source": [
        "os.listdir('/content/drive/MyDrive/Datasets/X_Rays_CTs_2Class_Updated')\n",
        "NORMAL=os.listdir('/content/drive/MyDrive/Datasets/X_Rays_CTs_2Class_Updated/Normal')\n",
        "COVID=os.listdir('/content/drive/MyDrive/Datasets/X_Rays_CTs_2Class_Updated/COVID')\n",
        "\n",
        "data=np.concatenate([NORMAL,COVID])\n",
        "len(data)==len(COVID)+len(NORMAL) "
      ],
      "execution_count": null,
      "outputs": [
        {
          "output_type": "execute_result",
          "data": {
            "text/plain": [
              "True"
            ]
          },
          "metadata": {},
          "execution_count": 3
        }
      ]
    },
    {
      "cell_type": "code",
      "metadata": {
        "colab": {
          "base_uri": "https://localhost:8080/"
        },
        "id": "UDPTd5mk5oha",
        "outputId": "151c77af-bc7e-4df0-d3f6-f27fc76f4614"
      },
      "source": [
        "np.size(COVID)"
      ],
      "execution_count": null,
      "outputs": [
        {
          "output_type": "execute_result",
          "data": {
            "text/plain": [
              "4868"
            ]
          },
          "metadata": {},
          "execution_count": 4
        }
      ]
    },
    {
      "cell_type": "code",
      "metadata": {
        "colab": {
          "base_uri": "https://localhost:8080/"
        },
        "id": "BPL2E8iA5rcW",
        "outputId": "5e4a869f-e0c8-402d-c27d-ea0cc642c3a7"
      },
      "source": [
        "np.size(NORMAL)"
      ],
      "execution_count": null,
      "outputs": [
        {
          "output_type": "execute_result",
          "data": {
            "text/plain": [
              "11421"
            ]
          },
          "metadata": {},
          "execution_count": 5
        }
      ]
    },
    {
      "cell_type": "code",
      "metadata": {
        "colab": {
          "base_uri": "https://localhost:8080/"
        },
        "id": "ap0MM97V5xfq",
        "outputId": "d09f8127-bb10-47f0-e28f-32135c2c2851"
      },
      "source": [
        "target_x=np.full(len(NORMAL),0)\n",
        "target_y=np.full(len(COVID),1)\n",
        "data_target=np.concatenate([target_x,target_y])\n",
        "len(data_target)==len(target_x)+len(target_y)"
      ],
      "execution_count": null,
      "outputs": [
        {
          "output_type": "execute_result",
          "data": {
            "text/plain": [
              "True"
            ]
          },
          "metadata": {},
          "execution_count": 4
        }
      ]
    },
    {
      "cell_type": "code",
      "metadata": {
        "id": "39lECtiK58T9"
      },
      "source": [
        "X_data = []\n",
        "for file in NORMAL:\n",
        "    \n",
        "    img = cv2.imread('/content/drive/MyDrive/Datasets/X_Rays_CTs_2Class_Updated/Normal/'+file)\n",
        "    face = cv2.resize(img, (224, 224) )\n",
        "    (b, g, r)=cv2.split(face) \n",
        "    img=cv2.merge([r,g,b])\n",
        "   \n",
        "    X_data.append(img)"
      ],
      "execution_count": null,
      "outputs": []
    },
    {
      "cell_type": "code",
      "metadata": {
        "id": "Lvk2sbDc69_G"
      },
      "source": [
        "np.save('/content/drive/MyDrive/Datasets/X_Rays_CTs_2Class_Updated/Normal', X_data, allow_pickle=True, fix_imports=True)"
      ],
      "execution_count": null,
      "outputs": []
    },
    {
      "cell_type": "code",
      "metadata": {
        "id": "3i-43_lD7Kgv"
      },
      "source": [
        "COVID_data=[]"
      ],
      "execution_count": null,
      "outputs": []
    },
    {
      "cell_type": "code",
      "metadata": {
        "colab": {
          "base_uri": "https://localhost:8080/"
        },
        "id": "jkvsvndA6f2p",
        "outputId": "3e1571e5-f1f1-4596-bba3-c1e3351de8fc"
      },
      "source": [
        "for file in COVID:\n",
        "    \n",
        "    img = cv2.imread('/content/drive/MyDrive/Datasets/X_Rays_CTs_2Class_Updated/COVID/'+file)\n",
        "    face = cv2.resize(img, (224, 224) )\n",
        "    (b, g, r)=cv2.split(face) \n",
        "    img=cv2.merge([r,g,b])\n",
        "    COVID_data.append(img)\n",
        "    X_data.append(img)\n",
        "  \n",
        "len(X_data)"
      ],
      "execution_count": null,
      "outputs": [
        {
          "output_type": "execute_result",
          "data": {
            "text/plain": [
              "16289"
            ]
          },
          "metadata": {},
          "execution_count": 11
        }
      ]
    },
    {
      "cell_type": "code",
      "metadata": {
        "id": "CIroICM-7XhU"
      },
      "source": [
        "np.save('/content/drive/MyDrive/Datasets/X_Rays_CTs_2Class_Updated/COVID', COVID_data, allow_pickle=True, fix_imports=True)"
      ],
      "execution_count": null,
      "outputs": []
    },
    {
      "cell_type": "code",
      "metadata": {
        "id": "GR-0ZCSadu8h"
      },
      "source": [
        "N_data= np.load('/content/drive/MyDrive/Datasets/X_Rays_CTs_2Class_Updated/Normal.npy', mmap_mode=None, allow_pickle=False, fix_imports=True, encoding='ASCII')"
      ],
      "execution_count": null,
      "outputs": []
    },
    {
      "cell_type": "code",
      "metadata": {
        "id": "TKTVPdX3eAv_"
      },
      "source": [
        "C_data= np.load('/content/drive/MyDrive/Datasets/X_Rays_CTs_2Class_Updated/COVID.npy', mmap_mode=None, allow_pickle=False, fix_imports=True, encoding='ASCII')"
      ],
      "execution_count": null,
      "outputs": []
    },
    {
      "cell_type": "code",
      "metadata": {
        "id": "7JpQE-8zeKKA"
      },
      "source": [
        "X_data = np.concatenate([N_data,C_data])"
      ],
      "execution_count": null,
      "outputs": []
    },
    {
      "cell_type": "code",
      "metadata": {
        "id": "iKwB2zcq6wOV"
      },
      "source": [
        "X = np.squeeze(X_data)"
      ],
      "execution_count": null,
      "outputs": []
    },
    {
      "cell_type": "code",
      "metadata": {
        "id": "A5_SLDAU6zxd"
      },
      "source": [
        "# normalize data\n",
        "X = X.astype('float16')\n",
        "X /= 255\n"
      ],
      "execution_count": null,
      "outputs": []
    },
    {
      "cell_type": "code",
      "metadata": {
        "id": "CJnWMBi767QC"
      },
      "source": [
        "from sklearn.datasets import make_blobs\n",
        "from sklearn.model_selection import train_test_split\n",
        "X_train, X_rem, y_train, y_rem = train_test_split(X,data_target, train_size=0.8)\n",
        "\n",
        "# Now since we want the valid and test size to be equal (10% each of overall data). \n",
        "# we have to define valid_size=0.5 (that is 50% of remaining data)\n",
        "\n",
        "test_size = 0.5\n",
        "X_valid, X_test, y_valid, y_test = train_test_split(X_rem,y_rem, test_size=0.5)\n"
      ],
      "execution_count": null,
      "outputs": []
    },
    {
      "cell_type": "code",
      "metadata": {
        "colab": {
          "base_uri": "https://localhost:8080/"
        },
        "id": "V-qbOenB7hMA",
        "outputId": "bad0c1bc-ce8b-4ffe-95c3-d3dbf6a90cf0"
      },
      "source": [
        "print(X_train.shape, X_test.shape,X_valid.shape, y_train.shape,y_valid.shape, y_test.shape)"
      ],
      "execution_count": null,
      "outputs": [
        {
          "output_type": "stream",
          "name": "stdout",
          "text": [
            "(13031, 224, 224, 3) (1629, 224, 224, 3) (1629, 224, 224, 3) (13031,) (1629,) (1629,)\n"
          ]
        }
      ]
    },
    {
      "cell_type": "code",
      "metadata": {
        "id": "Ky8mzQgJHXp4"
      },
      "source": [
        "N_data=C_data=X_data=X=[]"
      ],
      "execution_count": null,
      "outputs": []
    },
    {
      "cell_type": "code",
      "metadata": {
        "id": "XOpBrvM97jHG"
      },
      "source": [
        "IMAGE_SIZE = [224, 224]"
      ],
      "execution_count": null,
      "outputs": []
    },
    {
      "cell_type": "code",
      "metadata": {
        "id": "NrgunMdbrkDf"
      },
      "source": [
        "\n",
        "#from d2l import tensorflow as d2l\n",
        "\n",
        "class Residual(tf.keras.Model):  \n",
        "    \"\"\"The Residual block of ResNet.\"\"\"\n",
        "    def __init__(self, num_channels, use_1x1conv=False, strides=1):\n",
        "        super().__init__()\n",
        "        self.conv1 = tf.keras.layers.Conv2D(num_channels, padding='same',\n",
        "                                            kernel_size=3, strides=strides)\n",
        "        self.conv2 = tf.keras.layers.Conv2D(num_channels, kernel_size=3,\n",
        "                                            padding='same')\n",
        "        self.conv3 = None\n",
        "        if use_1x1conv:\n",
        "            self.conv3 =  tf.keras.layers.Conv2D(num_channels, kernel_size=1,\n",
        "                                                strides=strides)\n",
        "        self.bn1 = tf.keras.layers.BatchNormalization()\n",
        "        self.bn2 = tf.keras.layers.BatchNormalization()\n",
        "\n",
        "    def call(self, X):\n",
        "        Y = tf.keras.activations.relu(self.bn1(self.conv1(X)))\n",
        "        Y = self.bn2(self.conv2(Y))\n",
        "        if self.conv3 is not None:\n",
        "            X = self.conv3(X)\n",
        "        Y += X\n",
        "        return tf.keras.activations.relu(Y)\n"
      ],
      "execution_count": null,
      "outputs": []
    },
    {
      "cell_type": "code",
      "metadata": {
        "id": "w5ha2oMGr2oy"
      },
      "source": [
        "class ResnetBlock(tf.keras.layers.Layer):\n",
        "    def __init__(self, num_channels, num_residuals, first_block=False,\n",
        "                 **kwargs):\n",
        "        super(ResnetBlock, self).__init__(**kwargs)\n",
        "        self.residual_layers = []\n",
        "        for i in range(num_residuals):\n",
        "            if i == 0 and not first_block:\n",
        "                self.residual_layers.append(\n",
        "                    Residual(num_channels, use_1x1conv=True, strides=2))\n",
        "            else:\n",
        "                self.residual_layers.append(Residual(num_channels))\n",
        "\n",
        "    def call(self, X):\n",
        "        for layer in self.residual_layers.layers:\n",
        "            X = layer(X)\n",
        "        return X"
      ],
      "execution_count": null,
      "outputs": []
    },
    {
      "cell_type": "code",
      "metadata": {
        "colab": {
          "base_uri": "https://localhost:8080/"
        },
        "id": "_9DQpG0iEb3Z",
        "outputId": "109b771b-bf35-4a44-d8b9-4b5949ee6433"
      },
      "source": [
        "from keras.models import Sequential\n",
        "from keras.layers import Dense, Dropout, Flatten, Conv2D, MaxPool2D, BatchNormalization,Permute, TimeDistributed, Bidirectional,GRU\n",
        "from keras.layers import LeakyReLU\n",
        "from keras.optimizers import rmsprop_v2\n",
        "from keras.preprocessing.image import ImageDataGenerator\n",
        "from keras.callbacks import ReduceLROnPlateau\n",
        "hidden_unit = 32\n",
        "kernel_size = 3\n",
        "model = Sequential()\n",
        "model.add(Conv2D(filters = 64, kernel_size = (3,3),padding = 'Same' , activation ='relu',input_shape = (224,224,3)))\n",
        "model.add(BatchNormalization())\n",
        "\n",
        "model.add(ResnetBlock(64, 2, first_block=True))\n",
        "model.add(ResnetBlock(64, 2, first_block=True))\n",
        "model.add(BatchNormalization())\n",
        "\n",
        "model.add(MaxPool2D(pool_size=(2,2),strides=(2,2)))\n",
        "model.add(Dropout(0.25))\n",
        "\n",
        "model.add(ResnetBlock(128, 2))\n",
        "model.add(ResnetBlock(128, 2))\n",
        "model.add(BatchNormalization())\n",
        "\n",
        "model.add(MaxPool2D(pool_size=(2,2), strides=(2,2)))\n",
        "model.add(Dropout(0.25))\n",
        "\n",
        "model.add(ResnetBlock(256, 2))\n",
        "model.add(ResnetBlock(256, 2))\n",
        "model.add(BatchNormalization())\n",
        "\n",
        "model.add(MaxPool2D(pool_size=(1,2), strides=(1,2)))\n",
        "model.add(Dropout(0.25))\n",
        "\n",
        "model.add(TimeDistributed(Flatten()))\n",
        "model.add(Bidirectional(GRU(hidden_unit,return_sequences=True)))\n",
        "model.add(Flatten())\n",
        "model.add(Dense(256 , activation ='relu'))\n",
        "model.add(BatchNormalization())\n",
        "model.add(Dropout(0.25))\n",
        "model.add(Dense(1, activation = \"sigmoid\"))\n",
        "model.summary()\n"
      ],
      "execution_count": null,
      "outputs": [
        {
          "output_type": "stream",
          "name": "stdout",
          "text": [
            "Model: \"sequential\"\n",
            "_________________________________________________________________\n",
            " Layer (type)                Output Shape              Param #   \n",
            "=================================================================\n",
            " conv2d (Conv2D)             (None, 224, 224, 64)      1792      \n",
            "                                                                 \n",
            " batch_normalization (BatchN  (None, 224, 224, 64)     256       \n",
            " ormalization)                                                   \n",
            "                                                                 \n",
            " resnet_block (ResnetBlock)  (None, 224, 224, 64)      148736    \n",
            "                                                                 \n",
            " resnet_block_1 (ResnetBlock  (None, 224, 224, 64)     148736    \n",
            " )                                                               \n",
            "                                                                 \n",
            " batch_normalization_9 (Batc  (None, 224, 224, 64)     256       \n",
            " hNormalization)                                                 \n",
            "                                                                 \n",
            " max_pooling2d (MaxPooling2D  (None, 112, 112, 64)     0         \n",
            " )                                                               \n",
            "                                                                 \n",
            " dropout (Dropout)           (None, 112, 112, 64)      0         \n",
            "                                                                 \n",
            " resnet_block_2 (ResnetBlock  (None, 56, 56, 128)      526976    \n",
            " )                                                               \n",
            "                                                                 \n",
            " resnet_block_3 (ResnetBlock  (None, 28, 28, 128)      608896    \n",
            " )                                                               \n",
            "                                                                 \n",
            " batch_normalization_18 (Bat  (None, 28, 28, 128)      512       \n",
            " chNormalization)                                                \n",
            "                                                                 \n",
            " max_pooling2d_1 (MaxPooling  (None, 14, 14, 128)      0         \n",
            " 2D)                                                             \n",
            "                                                                 \n",
            " dropout_1 (Dropout)         (None, 14, 14, 128)       0         \n",
            "                                                                 \n",
            " resnet_block_4 (ResnetBlock  (None, 7, 7, 256)        2102528   \n",
            " )                                                               \n",
            "                                                                 \n",
            " resnet_block_5 (ResnetBlock  (None, 4, 4, 256)        2430208   \n",
            " )                                                               \n",
            "                                                                 \n",
            " batch_normalization_27 (Bat  (None, 4, 4, 256)        1024      \n",
            " chNormalization)                                                \n",
            "                                                                 \n",
            " max_pooling2d_2 (MaxPooling  (None, 4, 2, 256)        0         \n",
            " 2D)                                                             \n",
            "                                                                 \n",
            " dropout_2 (Dropout)         (None, 4, 2, 256)         0         \n",
            "                                                                 \n",
            " time_distributed (TimeDistr  (None, 4, 512)           0         \n",
            " ibuted)                                                         \n",
            "                                                                 \n",
            " bidirectional (Bidirectiona  (None, 4, 64)            104832    \n",
            " l)                                                              \n",
            "                                                                 \n",
            " flatten_1 (Flatten)         (None, 256)               0         \n",
            "                                                                 \n",
            " dense (Dense)               (None, 256)               65792     \n",
            "                                                                 \n",
            " batch_normalization_28 (Bat  (None, 256)              1024      \n",
            " chNormalization)                                                \n",
            "                                                                 \n",
            " dropout_3 (Dropout)         (None, 256)               0         \n",
            "                                                                 \n",
            " dense_1 (Dense)             (None, 1)                 257       \n",
            "                                                                 \n",
            "=================================================================\n",
            "Total params: 6,141,825\n",
            "Trainable params: 6,133,121\n",
            "Non-trainable params: 8,704\n",
            "_________________________________________________________________\n"
          ]
        }
      ]
    },
    {
      "cell_type": "code",
      "metadata": {
        "id": "CaDqI7lO7r7t"
      },
      "source": [
        "opt = tf.keras.optimizers.SGD(learning_rate=0.001)\n",
        "model.compile(\n",
        "  loss='binary_crossentropy',\n",
        "  optimizer=opt,\n",
        "  metrics=['accuracy']\n",
        ")"
      ],
      "execution_count": null,
      "outputs": []
    },
    {
      "cell_type": "code",
      "metadata": {
        "id": "14ByooTJ7w0W"
      },
      "source": [
        "file_path = os.path.join('/content/drive/MyDrive/Models', 'Twoclass_Residual-Bi-GRU_without_KFold(Updated-DATASET)', 'TwoCLass.h5')\n",
        "from keras.callbacks import EarlyStopping,ModelCheckpoint,ReduceLROnPlateau\n",
        "\n",
        "rlr = ReduceLROnPlateau(monitor = 'val_loss', factor = 0.1, patience = 10, verbose = 1, \n",
        "                                min_delta = 1e-4, min_lr = 1e-6, mode = 'min')\n",
        "ckp = ModelCheckpoint(filepath= file_path,monitor = 'val_loss',\n",
        "                      verbose = 1, save_best_only = True, mode = 'min', save_weights_only = True)"
      ],
      "execution_count": null,
      "outputs": []
    },
    {
      "cell_type": "code",
      "metadata": {
        "colab": {
          "base_uri": "https://localhost:8080/"
        },
        "id": "SoAl9U5Z72rj",
        "outputId": "cbe07fd6-0edd-40c5-92c6-4d2ce01dbad3"
      },
      "source": [
        "fit_history = model.fit(X_train,\n",
        "                        y_train,\n",
        "                        batch_size = 8,\n",
        "                        shuffle = True,\n",
        "                        epochs = 50,\n",
        "                        #initial_epoch=10,\n",
        "                        validation_data = (X_valid,y_valid),\n",
        "                        callbacks=[rlr,ckp])\n",
        "        "
      ],
      "execution_count": null,
      "outputs": [
        {
          "output_type": "stream",
          "name": "stdout",
          "text": [
            "Epoch 1/50\n",
            "1629/1629 [==============================] - ETA: 0s - loss: 0.6435 - accuracy: 0.6675\n",
            "Epoch 00001: val_loss improved from inf to 0.41550, saving model to /content/drive/MyDrive/Models/Twoclass_Residual-Bi-GRU_without_KFold(Updated-DATASET)/TwoCLass.h5\n",
            "1629/1629 [==============================] - 277s 156ms/step - loss: 0.6435 - accuracy: 0.6675 - val_loss: 0.4155 - val_accuracy: 0.8128 - lr: 0.0010\n",
            "Epoch 2/50\n",
            "1629/1629 [==============================] - ETA: 0s - loss: 0.4954 - accuracy: 0.7645\n",
            "Epoch 00002: val_loss improved from 0.41550 to 0.33839, saving model to /content/drive/MyDrive/Models/Twoclass_Residual-Bi-GRU_without_KFold(Updated-DATASET)/TwoCLass.h5\n",
            "1629/1629 [==============================] - 250s 154ms/step - loss: 0.4954 - accuracy: 0.7645 - val_loss: 0.3384 - val_accuracy: 0.8619 - lr: 0.0010\n",
            "Epoch 3/50\n",
            "1629/1629 [==============================] - ETA: 0s - loss: 0.4325 - accuracy: 0.8008\n",
            "Epoch 00003: val_loss improved from 0.33839 to 0.30876, saving model to /content/drive/MyDrive/Models/Twoclass_Residual-Bi-GRU_without_KFold(Updated-DATASET)/TwoCLass.h5\n",
            "1629/1629 [==============================] - 250s 153ms/step - loss: 0.4325 - accuracy: 0.8008 - val_loss: 0.3088 - val_accuracy: 0.8649 - lr: 0.0010\n",
            "Epoch 4/50\n",
            "1629/1629 [==============================] - ETA: 0s - loss: 0.3902 - accuracy: 0.8282\n",
            "Epoch 00004: val_loss improved from 0.30876 to 0.25771, saving model to /content/drive/MyDrive/Models/Twoclass_Residual-Bi-GRU_without_KFold(Updated-DATASET)/TwoCLass.h5\n",
            "1629/1629 [==============================] - 250s 153ms/step - loss: 0.3902 - accuracy: 0.8282 - val_loss: 0.2577 - val_accuracy: 0.8993 - lr: 0.0010\n",
            "Epoch 5/50\n",
            "1629/1629 [==============================] - ETA: 0s - loss: 0.3590 - accuracy: 0.8441\n",
            "Epoch 00005: val_loss improved from 0.25771 to 0.25374, saving model to /content/drive/MyDrive/Models/Twoclass_Residual-Bi-GRU_without_KFold(Updated-DATASET)/TwoCLass.h5\n",
            "1629/1629 [==============================] - 251s 154ms/step - loss: 0.3590 - accuracy: 0.8441 - val_loss: 0.2537 - val_accuracy: 0.8889 - lr: 0.0010\n",
            "Epoch 6/50\n",
            "1629/1629 [==============================] - ETA: 0s - loss: 0.3417 - accuracy: 0.8547\n",
            "Epoch 00006: val_loss improved from 0.25374 to 0.22741, saving model to /content/drive/MyDrive/Models/Twoclass_Residual-Bi-GRU_without_KFold(Updated-DATASET)/TwoCLass.h5\n",
            "1629/1629 [==============================] - 250s 153ms/step - loss: 0.3417 - accuracy: 0.8547 - val_loss: 0.2274 - val_accuracy: 0.8981 - lr: 0.0010\n",
            "Epoch 7/50\n",
            "1629/1629 [==============================] - ETA: 0s - loss: 0.3400 - accuracy: 0.8530\n",
            "Epoch 00007: val_loss did not improve from 0.22741\n",
            "1629/1629 [==============================] - 249s 153ms/step - loss: 0.3400 - accuracy: 0.8530 - val_loss: 0.2460 - val_accuracy: 0.8883 - lr: 0.0010\n",
            "Epoch 8/50\n",
            "1629/1629 [==============================] - ETA: 0s - loss: 0.3147 - accuracy: 0.8662\n",
            "Epoch 00008: val_loss did not improve from 0.22741\n",
            "1629/1629 [==============================] - 249s 153ms/step - loss: 0.3147 - accuracy: 0.8662 - val_loss: 0.2328 - val_accuracy: 0.8987 - lr: 0.0010\n",
            "Epoch 9/50\n",
            "1629/1629 [==============================] - ETA: 0s - loss: 0.3076 - accuracy: 0.8679\n",
            "Epoch 00009: val_loss did not improve from 0.22741\n",
            "1629/1629 [==============================] - 248s 153ms/step - loss: 0.3076 - accuracy: 0.8679 - val_loss: 0.2540 - val_accuracy: 0.8901 - lr: 0.0010\n",
            "Epoch 10/50\n",
            "1629/1629 [==============================] - ETA: 0s - loss: 0.2934 - accuracy: 0.8800\n",
            "Epoch 00010: val_loss did not improve from 0.22741\n",
            "1629/1629 [==============================] - 249s 153ms/step - loss: 0.2934 - accuracy: 0.8800 - val_loss: 0.2633 - val_accuracy: 0.8969 - lr: 0.0010\n",
            "Epoch 11/50\n",
            "1629/1629 [==============================] - ETA: 0s - loss: 0.2793 - accuracy: 0.8838\n",
            "Epoch 00011: val_loss did not improve from 0.22741\n",
            "1629/1629 [==============================] - 249s 153ms/step - loss: 0.2793 - accuracy: 0.8838 - val_loss: 0.2304 - val_accuracy: 0.8969 - lr: 0.0010\n",
            "Epoch 12/50\n",
            "1629/1629 [==============================] - ETA: 0s - loss: 0.2708 - accuracy: 0.8904\n",
            "Epoch 00012: val_loss improved from 0.22741 to 0.19088, saving model to /content/drive/MyDrive/Models/Twoclass_Residual-Bi-GRU_without_KFold(Updated-DATASET)/TwoCLass.h5\n",
            "1629/1629 [==============================] - 250s 153ms/step - loss: 0.2708 - accuracy: 0.8904 - val_loss: 0.1909 - val_accuracy: 0.9208 - lr: 0.0010\n",
            "Epoch 13/50\n",
            "1629/1629 [==============================] - ETA: 0s - loss: 0.2533 - accuracy: 0.9005\n",
            "Epoch 00013: val_loss did not improve from 0.19088\n",
            "1629/1629 [==============================] - 249s 153ms/step - loss: 0.2533 - accuracy: 0.9005 - val_loss: 0.2063 - val_accuracy: 0.9128 - lr: 0.0010\n",
            "Epoch 14/50\n",
            "1629/1629 [==============================] - ETA: 0s - loss: 0.2451 - accuracy: 0.9028\n",
            "Epoch 00014: val_loss did not improve from 0.19088\n",
            "1629/1629 [==============================] - 249s 153ms/step - loss: 0.2451 - accuracy: 0.9028 - val_loss: 0.2628 - val_accuracy: 0.8907 - lr: 0.0010\n",
            "Epoch 15/50\n",
            "1629/1629 [==============================] - ETA: 0s - loss: 0.2353 - accuracy: 0.9062\n",
            "Epoch 00015: val_loss did not improve from 0.19088\n",
            "1629/1629 [==============================] - 249s 153ms/step - loss: 0.2353 - accuracy: 0.9062 - val_loss: 0.2030 - val_accuracy: 0.9251 - lr: 0.0010\n",
            "Epoch 16/50\n",
            "1629/1629 [==============================] - ETA: 0s - loss: 0.2268 - accuracy: 0.9108\n",
            "Epoch 00016: val_loss did not improve from 0.19088\n",
            "1629/1629 [==============================] - 249s 153ms/step - loss: 0.2268 - accuracy: 0.9108 - val_loss: 0.2055 - val_accuracy: 0.9177 - lr: 0.0010\n",
            "Epoch 17/50\n",
            "1629/1629 [==============================] - ETA: 0s - loss: 0.2244 - accuracy: 0.9142\n",
            "Epoch 00017: val_loss improved from 0.19088 to 0.18539, saving model to /content/drive/MyDrive/Models/Twoclass_Residual-Bi-GRU_without_KFold(Updated-DATASET)/TwoCLass.h5\n",
            "1629/1629 [==============================] - 250s 153ms/step - loss: 0.2244 - accuracy: 0.9142 - val_loss: 0.1854 - val_accuracy: 0.9282 - lr: 0.0010\n",
            "Epoch 18/50\n",
            "1629/1629 [==============================] - ETA: 0s - loss: 0.2107 - accuracy: 0.9180\n",
            "Epoch 00018: val_loss did not improve from 0.18539\n",
            "1629/1629 [==============================] - 249s 153ms/step - loss: 0.2107 - accuracy: 0.9180 - val_loss: 0.1881 - val_accuracy: 0.9282 - lr: 0.0010\n",
            "Epoch 19/50\n",
            "1629/1629 [==============================] - ETA: 0s - loss: 0.2016 - accuracy: 0.9220\n",
            "Epoch 00019: val_loss improved from 0.18539 to 0.17736, saving model to /content/drive/MyDrive/Models/Twoclass_Residual-Bi-GRU_without_KFold(Updated-DATASET)/TwoCLass.h5\n",
            "1629/1629 [==============================] - 251s 154ms/step - loss: 0.2016 - accuracy: 0.9220 - val_loss: 0.1774 - val_accuracy: 0.9306 - lr: 0.0010\n",
            "Epoch 20/50\n",
            "1629/1629 [==============================] - ETA: 0s - loss: 0.1974 - accuracy: 0.9248\n",
            "Epoch 00020: val_loss improved from 0.17736 to 0.15657, saving model to /content/drive/MyDrive/Models/Twoclass_Residual-Bi-GRU_without_KFold(Updated-DATASET)/TwoCLass.h5\n",
            "1629/1629 [==============================] - 250s 153ms/step - loss: 0.1974 - accuracy: 0.9248 - val_loss: 0.1566 - val_accuracy: 0.9429 - lr: 0.0010\n",
            "Epoch 21/50\n",
            "1629/1629 [==============================] - ETA: 0s - loss: 0.1844 - accuracy: 0.9294\n",
            "Epoch 00021: val_loss did not improve from 0.15657\n",
            "1629/1629 [==============================] - 249s 153ms/step - loss: 0.1844 - accuracy: 0.9294 - val_loss: 0.1822 - val_accuracy: 0.9288 - lr: 0.0010\n",
            "Epoch 22/50\n",
            "1629/1629 [==============================] - ETA: 0s - loss: 0.1708 - accuracy: 0.9377\n",
            "Epoch 00022: val_loss did not improve from 0.15657\n",
            "1629/1629 [==============================] - 249s 153ms/step - loss: 0.1708 - accuracy: 0.9377 - val_loss: 0.1750 - val_accuracy: 0.9355 - lr: 0.0010\n",
            "Epoch 23/50\n",
            "1629/1629 [==============================] - ETA: 0s - loss: 0.1663 - accuracy: 0.9375\n",
            "Epoch 00023: val_loss did not improve from 0.15657\n",
            "1629/1629 [==============================] - 249s 153ms/step - loss: 0.1663 - accuracy: 0.9375 - val_loss: 0.1959 - val_accuracy: 0.9312 - lr: 0.0010\n",
            "Epoch 24/50\n",
            "1629/1629 [==============================] - ETA: 0s - loss: 0.1586 - accuracy: 0.9422\n",
            "Epoch 00024: val_loss did not improve from 0.15657\n",
            "1629/1629 [==============================] - 249s 153ms/step - loss: 0.1586 - accuracy: 0.9422 - val_loss: 0.1755 - val_accuracy: 0.9337 - lr: 0.0010\n",
            "Epoch 25/50\n",
            "1629/1629 [==============================] - ETA: 0s - loss: 0.1475 - accuracy: 0.9449\n",
            "Epoch 00025: val_loss did not improve from 0.15657\n",
            "1629/1629 [==============================] - 249s 153ms/step - loss: 0.1475 - accuracy: 0.9449 - val_loss: 0.2063 - val_accuracy: 0.9245 - lr: 0.0010\n",
            "Epoch 26/50\n",
            "1629/1629 [==============================] - ETA: 0s - loss: 0.1508 - accuracy: 0.9447\n",
            "Epoch 00026: val_loss improved from 0.15657 to 0.14229, saving model to /content/drive/MyDrive/Models/Twoclass_Residual-Bi-GRU_without_KFold(Updated-DATASET)/TwoCLass.h5\n",
            "1629/1629 [==============================] - 250s 153ms/step - loss: 0.1508 - accuracy: 0.9447 - val_loss: 0.1423 - val_accuracy: 0.9509 - lr: 0.0010\n",
            "Epoch 27/50\n",
            "1629/1629 [==============================] - ETA: 0s - loss: 0.1400 - accuracy: 0.9494\n",
            "Epoch 00027: val_loss did not improve from 0.14229\n",
            "1629/1629 [==============================] - 249s 153ms/step - loss: 0.1400 - accuracy: 0.9494 - val_loss: 0.1709 - val_accuracy: 0.9362 - lr: 0.0010\n",
            "Epoch 28/50\n",
            "1629/1629 [==============================] - ETA: 0s - loss: 0.1378 - accuracy: 0.9513\n",
            "Epoch 00028: val_loss improved from 0.14229 to 0.13076, saving model to /content/drive/MyDrive/Models/Twoclass_Residual-Bi-GRU_without_KFold(Updated-DATASET)/TwoCLass.h5\n",
            "1629/1629 [==============================] - 251s 154ms/step - loss: 0.1378 - accuracy: 0.9513 - val_loss: 0.1308 - val_accuracy: 0.9540 - lr: 0.0010\n",
            "Epoch 29/50\n",
            "1629/1629 [==============================] - ETA: 0s - loss: 0.1272 - accuracy: 0.9547\n",
            "Epoch 00029: val_loss did not improve from 0.13076\n",
            "1629/1629 [==============================] - 249s 153ms/step - loss: 0.1272 - accuracy: 0.9547 - val_loss: 0.1493 - val_accuracy: 0.9521 - lr: 0.0010\n",
            "Epoch 30/50\n",
            "1629/1629 [==============================] - ETA: 0s - loss: 0.1275 - accuracy: 0.9569\n",
            "Epoch 00030: val_loss did not improve from 0.13076\n",
            "1629/1629 [==============================] - 249s 153ms/step - loss: 0.1275 - accuracy: 0.9569 - val_loss: 0.1477 - val_accuracy: 0.9552 - lr: 0.0010\n",
            "Epoch 31/50\n",
            "1629/1629 [==============================] - ETA: 0s - loss: 0.1198 - accuracy: 0.9581\n",
            "Epoch 00031: val_loss did not improve from 0.13076\n",
            "1629/1629 [==============================] - 249s 153ms/step - loss: 0.1198 - accuracy: 0.9581 - val_loss: 0.2109 - val_accuracy: 0.9319 - lr: 0.0010\n",
            "Epoch 32/50\n",
            "1629/1629 [==============================] - ETA: 0s - loss: 0.1149 - accuracy: 0.9609\n",
            "Epoch 00032: val_loss did not improve from 0.13076\n",
            "1629/1629 [==============================] - 249s 153ms/step - loss: 0.1149 - accuracy: 0.9609 - val_loss: 0.2039 - val_accuracy: 0.9331 - lr: 0.0010\n",
            "Epoch 33/50\n",
            "1629/1629 [==============================] - ETA: 0s - loss: 0.1074 - accuracy: 0.9613\n",
            "Epoch 00033: val_loss did not improve from 0.13076\n",
            "1629/1629 [==============================] - 249s 153ms/step - loss: 0.1074 - accuracy: 0.9613 - val_loss: 0.1621 - val_accuracy: 0.9478 - lr: 0.0010\n",
            "Epoch 34/50\n",
            "1629/1629 [==============================] - ETA: 0s - loss: 0.0963 - accuracy: 0.9663\n",
            "Epoch 00034: val_loss improved from 0.13076 to 0.11524, saving model to /content/drive/MyDrive/Models/Twoclass_Residual-Bi-GRU_without_KFold(Updated-DATASET)/TwoCLass.h5\n",
            "1629/1629 [==============================] - 250s 153ms/step - loss: 0.0963 - accuracy: 0.9663 - val_loss: 0.1152 - val_accuracy: 0.9669 - lr: 0.0010\n",
            "Epoch 35/50\n",
            "1629/1629 [==============================] - ETA: 0s - loss: 0.0940 - accuracy: 0.9685\n",
            "Epoch 00035: val_loss did not improve from 0.11524\n",
            "1629/1629 [==============================] - 249s 153ms/step - loss: 0.0940 - accuracy: 0.9685 - val_loss: 0.1695 - val_accuracy: 0.9478 - lr: 0.0010\n",
            "Epoch 36/50\n",
            "1629/1629 [==============================] - ETA: 0s - loss: 0.0990 - accuracy: 0.9680\n",
            "Epoch 00036: val_loss improved from 0.11524 to 0.11137, saving model to /content/drive/MyDrive/Models/Twoclass_Residual-Bi-GRU_without_KFold(Updated-DATASET)/TwoCLass.h5\n",
            "1629/1629 [==============================] - 250s 154ms/step - loss: 0.0990 - accuracy: 0.9680 - val_loss: 0.1114 - val_accuracy: 0.9669 - lr: 0.0010\n",
            "Epoch 37/50\n",
            "1629/1629 [==============================] - ETA: 0s - loss: 0.0920 - accuracy: 0.9708\n",
            "Epoch 00037: val_loss improved from 0.11137 to 0.10276, saving model to /content/drive/MyDrive/Models/Twoclass_Residual-Bi-GRU_without_KFold(Updated-DATASET)/TwoCLass.h5\n",
            "1629/1629 [==============================] - 249s 153ms/step - loss: 0.0920 - accuracy: 0.9708 - val_loss: 0.1028 - val_accuracy: 0.9699 - lr: 0.0010\n",
            "Epoch 38/50\n",
            "1629/1629 [==============================] - ETA: 0s - loss: 0.0875 - accuracy: 0.9696\n",
            "Epoch 00038: val_loss did not improve from 0.10276\n",
            "1629/1629 [==============================] - 248s 152ms/step - loss: 0.0875 - accuracy: 0.9696 - val_loss: 0.1453 - val_accuracy: 0.9533 - lr: 0.0010\n",
            "Epoch 39/50\n",
            "1629/1629 [==============================] - ETA: 0s - loss: 0.0860 - accuracy: 0.9721\n",
            "Epoch 00039: val_loss did not improve from 0.10276\n",
            "1629/1629 [==============================] - 248s 152ms/step - loss: 0.0860 - accuracy: 0.9721 - val_loss: 0.1091 - val_accuracy: 0.9705 - lr: 0.0010\n",
            "Epoch 40/50\n",
            "1629/1629 [==============================] - ETA: 0s - loss: 0.0800 - accuracy: 0.9744\n",
            "Epoch 00040: val_loss did not improve from 0.10276\n",
            "1629/1629 [==============================] - 249s 153ms/step - loss: 0.0800 - accuracy: 0.9744 - val_loss: 0.1699 - val_accuracy: 0.9497 - lr: 0.0010\n",
            "Epoch 41/50\n",
            "1629/1629 [==============================] - ETA: 0s - loss: 0.0785 - accuracy: 0.9730\n",
            "Epoch 00041: val_loss did not improve from 0.10276\n",
            "1629/1629 [==============================] - 249s 153ms/step - loss: 0.0785 - accuracy: 0.9730 - val_loss: 0.1343 - val_accuracy: 0.9650 - lr: 0.0010\n",
            "Epoch 42/50\n",
            "1629/1629 [==============================] - ETA: 0s - loss: 0.0702 - accuracy: 0.9771\n",
            "Epoch 00042: val_loss improved from 0.10276 to 0.09602, saving model to /content/drive/MyDrive/Models/Twoclass_Residual-Bi-GRU_without_KFold(Updated-DATASET)/TwoCLass.h5\n",
            "1629/1629 [==============================] - 250s 153ms/step - loss: 0.0702 - accuracy: 0.9771 - val_loss: 0.0960 - val_accuracy: 0.9718 - lr: 0.0010\n",
            "Epoch 43/50\n",
            "1629/1629 [==============================] - ETA: 0s - loss: 0.0709 - accuracy: 0.9774\n",
            "Epoch 00043: val_loss improved from 0.09602 to 0.09583, saving model to /content/drive/MyDrive/Models/Twoclass_Residual-Bi-GRU_without_KFold(Updated-DATASET)/TwoCLass.h5\n",
            "1629/1629 [==============================] - 250s 154ms/step - loss: 0.0709 - accuracy: 0.9774 - val_loss: 0.0958 - val_accuracy: 0.9724 - lr: 0.0010\n",
            "Epoch 44/50\n",
            "1629/1629 [==============================] - ETA: 0s - loss: 0.0626 - accuracy: 0.9796\n",
            "Epoch 00044: val_loss did not improve from 0.09583\n",
            "1629/1629 [==============================] - 249s 153ms/step - loss: 0.0626 - accuracy: 0.9796 - val_loss: 0.1435 - val_accuracy: 0.9613 - lr: 0.0010\n",
            "Epoch 45/50\n",
            "1629/1629 [==============================] - ETA: 0s - loss: 0.0605 - accuracy: 0.9816\n",
            "Epoch 00045: val_loss did not improve from 0.09583\n",
            "1629/1629 [==============================] - 249s 153ms/step - loss: 0.0605 - accuracy: 0.9816 - val_loss: 0.1562 - val_accuracy: 0.9583 - lr: 0.0010\n",
            "Epoch 46/50\n",
            "1629/1629 [==============================] - ETA: 0s - loss: 0.0606 - accuracy: 0.9805\n",
            "Epoch 00046: val_loss did not improve from 0.09583\n",
            "1629/1629 [==============================] - 249s 153ms/step - loss: 0.0606 - accuracy: 0.9805 - val_loss: 0.1175 - val_accuracy: 0.9724 - lr: 0.0010\n",
            "Epoch 47/50\n",
            "1629/1629 [==============================] - ETA: 0s - loss: 0.0651 - accuracy: 0.9807\n",
            "Epoch 00047: val_loss did not improve from 0.09583\n",
            "1629/1629 [==============================] - 249s 153ms/step - loss: 0.0651 - accuracy: 0.9807 - val_loss: 0.1333 - val_accuracy: 0.9662 - lr: 0.0010\n",
            "Epoch 48/50\n",
            "1629/1629 [==============================] - ETA: 0s - loss: 0.0577 - accuracy: 0.9824\n",
            "Epoch 00048: val_loss did not improve from 0.09583\n",
            "1629/1629 [==============================] - 249s 153ms/step - loss: 0.0577 - accuracy: 0.9824 - val_loss: 0.1160 - val_accuracy: 0.9705 - lr: 0.0010\n",
            "Epoch 49/50\n",
            "1629/1629 [==============================] - ETA: 0s - loss: 0.0548 - accuracy: 0.9833\n",
            "Epoch 00049: val_loss did not improve from 0.09583\n",
            "1629/1629 [==============================] - 249s 153ms/step - loss: 0.0548 - accuracy: 0.9833 - val_loss: 0.2795 - val_accuracy: 0.9319 - lr: 0.0010\n",
            "Epoch 50/50\n",
            "1629/1629 [==============================] - ETA: 0s - loss: 0.0546 - accuracy: 0.9842\n",
            "Epoch 00050: val_loss did not improve from 0.09583\n",
            "1629/1629 [==============================] - 249s 153ms/step - loss: 0.0546 - accuracy: 0.9842 - val_loss: 0.1021 - val_accuracy: 0.9761 - lr: 0.0010\n"
          ]
        }
      ]
    },
    {
      "cell_type": "code",
      "metadata": {
        "colab": {
          "base_uri": "https://localhost:8080/",
          "height": 573
        },
        "id": "a-P1IvWNwodv",
        "outputId": "1d70e879-6faa-45bb-bd5a-4f666f978637"
      },
      "source": [
        "# summarize history for accuracy\n",
        "plt.plot(fit_history.history['accuracy'])\n",
        "plt.plot(fit_history.history['val_accuracy']) \n",
        "plt.title('model accuracy')\n",
        "plt.ylabel('accuracy')\n",
        "plt.xlabel('epoch')\n",
        "plt.legend(['train', 'test'], loc='upper left')\n",
        "plt.show()\n",
        "# summarize history for loss\n",
        "plt.plot(fit_history.history['loss'])\n",
        "plt.plot(fit_history.history['val_loss'])\n",
        "plt.title('model loss')\n",
        "plt.ylabel('loss')\n",
        "plt.xlabel('epoch')\n",
        "plt.legend(['train', 'test'], loc='upper left')\n",
        "plt.show()"
      ],
      "execution_count": null,
      "outputs": [
        {
          "output_type": "display_data",
          "data": {
            "image/png": "[encoded data removed]",
            "text/plain": [
              "<Figure size 432x288 with 1 Axes>"
            ]
          },
          "metadata": {
            "needs_background": "light"
          }
        },
        {
          "output_type": "display_data",
          "data": {
            "image/png": "[encoded data removed]",
            "text/plain": [
              "<Figure size 432x288 with 1 Axes>"
            ]
          },
          "metadata": {
            "needs_background": "light"
          }
        }
      ]
    },
    {
      "cell_type": "markdown",
      "metadata": {
        "id": "Kj0lV8MhyyJY"
      },
      "source": [
        "# **Evaluation on Testing Data**"
      ]
    },
    {
      "cell_type": "code",
      "metadata": {
        "colab": {
          "base_uri": "https://localhost:8080/"
        },
        "id": "QHDj5Kn9wUR3",
        "outputId": "2dec99cd-d747-4b72-95e6-5495b0546bc7"
      },
      "source": [
        "#prediction on test data\n",
        "from tensorflow.math import confusion_matrix\n",
        "from sklearn.metrics import accuracy_score\n",
        "# for sigmoid\n",
        "y_pred =[]\n",
        "pred=model2.predict(X_test, batch_size=1)\n",
        "for x in pred:\n",
        "  if x > 0.5:\n",
        "   y_pred.append(1)\n",
        "  else:\n",
        "   y_pred.append(0)\n",
        "y_pred=np.array(y_pred)\n",
        "acc = accuracy_score(y_test,y_pred)\n",
        "print(\"\\nEvaluation on test data: \", acc * 100)"
      ],
      "execution_count": null,
      "outputs": [
        {
          "output_type": "stream",
          "name": "stdout",
          "text": [
            "\n",
            "Evaluation on test data:  99.50890116635973\n"
          ]
        }
      ]
    },
    {
      "cell_type": "code",
      "metadata": {
        "colab": {
          "base_uri": "https://localhost:8080/"
        },
        "id": "g8c2btgXxTbE",
        "outputId": "e3c7f454-2218-4e12-d7ba-2555d917200f"
      },
      "source": [
        "from tensorflow.math import confusion_matrix\n",
        "from sklearn.metrics import accuracy_score\n",
        "\n",
        "#actual =  valid_data.labels\n",
        "preds = np.argmax(model2.predict(X_test), axis=1)\n",
        "cfmx = confusion_matrix(y_test, y_pred)\n",
        "acc = accuracy_score(y_test,y_pred)\n",
        "print ('Test Accuracy:', acc )\n",
        "print('Confusion matrix:', cfmx)"
      ],
      "execution_count": null,
      "outputs": [
        {
          "output_type": "stream",
          "name": "stdout",
          "text": [
            "Test Accuracy: 0.9950890116635973\n",
            "Confusion matrix: tf.Tensor(\n",
            "[[1148    1]\n",
            " [   7  473]], shape=(2, 2), dtype=int32)\n"
          ]
        }
      ]
    },
    {
      "cell_type": "code",
      "metadata": {
        "colab": {
          "base_uri": "https://localhost:8080/"
        },
        "id": "NoeOrXWnxTbG",
        "outputId": "986df01b-000b-4394-bac8-70243d8bee5d"
      },
      "source": [
        "score = model2.evaluate(X_test, y_test, verbose = 0) \n",
        "\n",
        "print('Test loss:', score[0]) \n",
        "print('Test accuracy:', score[1]*100)"
      ],
      "execution_count": null,
      "outputs": [
        {
          "output_type": "stream",
          "name": "stdout",
          "text": [
            "Test loss: 0.01581624150276184\n",
            "Test accuracy: 99.50889945030212\n"
          ]
        }
      ]
    },
    {
      "cell_type": "code",
      "metadata": {
        "colab": {
          "base_uri": "https://localhost:8080/",
          "height": 310
        },
        "id": "HO8_bCtNxTbH",
        "outputId": "e6f3e08e-5261-467f-e448-55feb1430eee"
      },
      "source": [
        "from sklearn.svm import SVC\n",
        "import pandas as pd\n",
        "import seaborn as sns\n",
        "from sklearn.metrics import accuracy_score, confusion_matrix, precision_recall_fscore_support\n",
        "\n",
        "\n",
        "# Creates a confusion matrix\n",
        "cm = confusion_matrix(y_test, y_pred) \n",
        "\n",
        "# Transform to df for easier plotting\n",
        "cm_df = pd.DataFrame(cm,\n",
        "                     index = ['Normal','COVID'], \n",
        "                     columns = ['Normal','COVID'])\n",
        "\n",
        "plt.figure(figsize=(5.5,4))\n",
        "sns.heatmap(cm_df, annot=True, cmap='Blues')\n",
        "plt.title('CNN-Bi-GRU \\nTest Accuracy:{0:.3f}'.format(accuracy_score(y_test, y_pred)))\n",
        "plt.ylabel('True label')\n",
        "plt.xlabel('Predicted label')\n",
        "plt.show()"
      ],
      "execution_count": null,
      "outputs": [
        {
          "output_type": "display_data",
          "data": {
            "image/png": "[encoded data removed]",
            "text/plain": [
              "<Figure size 396x288 with 2 Axes>"
            ]
          },
          "metadata": {
            "needs_background": "light"
          }
        }
      ]
    },
    {
      "cell_type": "code",
      "metadata": {
        "colab": {
          "base_uri": "https://localhost:8080/"
        },
        "id": "PzS_R72tx9UJ",
        "outputId": "d1894e42-29b2-4f6d-c935-50dfba4b1881"
      },
      "source": [
        "from sklearn.metrics import classification_report\n",
        "print(classification_report(y_test,y_pred))"
      ],
      "execution_count": null,
      "outputs": [
        {
          "output_type": "stream",
          "name": "stdout",
          "text": [
            "              precision    recall  f1-score   support\n",
            "\n",
            "           0       0.99      1.00      1.00      1149\n",
            "           1       1.00      0.99      0.99       480\n",
            "\n",
            "    accuracy                           1.00      1629\n",
            "   macro avg       1.00      0.99      0.99      1629\n",
            "weighted avg       1.00      1.00      1.00      1629\n",
            "\n"
          ]
        }
      ]
    },
    {
      "cell_type": "code",
      "metadata": {
        "colab": {
          "base_uri": "https://localhost:8080/"
        },
        "id": "t2dyCqYTx9UK",
        "outputId": "bba18a29-e8fe-4148-bc31-ae0e7dcf6cd8"
      },
      "source": [
        "from sklearn.metrics import precision_score,recall_score,f1_score\n",
        "precision = precision_score(y_test, y_pred, average='weighted')\n",
        "print('Precision: %.3f' % precision)\n",
        "recall = recall_score(y_test, y_pred, average='weighted')\n",
        "print('Recall: %.3f' % recall)\n",
        "score = f1_score(y_test, y_pred, average='weighted')\n",
        "print('F-Measure: %.3f' % score)"
      ],
      "execution_count": null,
      "outputs": [
        {
          "output_type": "stream",
          "name": "stdout",
          "text": [
            "Precision: 0.995\n",
            "Recall: 0.995\n",
            "F-Measure: 0.995\n"
          ]
        }
      ]
    },
    {
      "cell_type": "code",
      "metadata": {
        "id": "fZ5hIlL2x9UL"
      },
      "source": [
        "# Creating a function to report confusion metrics\n",
        "def confusion_metrics (conf_matrix):\n",
        "# save confusion matrix and slice into four pieces\n",
        "    TP = conf_matrix[1][1]\n",
        "    TN = conf_matrix[0][0]\n",
        "    FP = conf_matrix[0][1]\n",
        "    FN = conf_matrix[1][0]\n",
        "    print('True Positives:', TP)\n",
        "    print('True Negatives:', TN)\n",
        "    print('False Positives:', FP)\n",
        "    print('False Negatives:', FN)\n",
        "    \n",
        "    # calculate accuracy\n",
        "    conf_accuracy = (float (TP+TN) / float(TP + TN + FP + FN))\n",
        "    \n",
        "    # calculate mis-classification\n",
        "    conf_misclassification = 1- conf_accuracy\n",
        "    \n",
        "    # calculate the sensitivity\n",
        "    conf_sensitivity = (TP / float(TP + FN))\n",
        "    # calculate the specificity\n",
        "    conf_specificity = (TN / float(TN + FP))\n",
        "    \n",
        "    # calculate precision\n",
        "    conf_precision = (TP / float(TP + FP))\n",
        "    # calculate f_1 score\n",
        "    conf_f1 = 2 * ((conf_precision * conf_sensitivity) / (conf_precision + conf_sensitivity))\n",
        "    print('-'*50)\n",
        "    print(f'Accuracy: {round(conf_accuracy,2)}') \n",
        "    print(f'Mis-Classification: {round(conf_misclassification,2)}') \n",
        "    print(f'Sensitivity: {round(conf_sensitivity,2)}') \n",
        "    print(f'Specificity: {round(conf_specificity,2)}') \n",
        "    print(f'Precision: {round(conf_precision,2)}')\n",
        "    print(f'f_1 Score: {round(conf_f1,2)}')"
      ],
      "execution_count": null,
      "outputs": []
    },
    {
      "cell_type": "code",
      "metadata": {
        "colab": {
          "base_uri": "https://localhost:8080/"
        },
        "id": "UMmoOQJ2x9UM",
        "outputId": "2aeb2775-8c5d-4c13-f3ba-47ba82884db4"
      },
      "source": [
        "confusion_metrics(cm)"
      ],
      "execution_count": null,
      "outputs": [
        {
          "output_type": "stream",
          "name": "stdout",
          "text": [
            "True Positives: 473\n",
            "True Negatives: 1148\n",
            "False Positives: 1\n",
            "False Negatives: 7\n",
            "--------------------------------------------------\n",
            "Accuracy: 1.0\n",
            "Mis-Classification: 0.0\n",
            "Sensitivity: 0.99\n",
            "Specificity: 1.0\n",
            "Precision: 1.0\n",
            "f_1 Score: 0.99\n"
          ]
        }
      ]
    },
    {
      "cell_type": "markdown",
      "source": [
        "# **Cross Data Validation :  External Cohort**"
      ],
      "metadata": {
        "id": "E9SImQ5_p8FR"
      }
    },
    {
      "cell_type": "code",
      "source": [
        "img_size = 224\n",
        "batch_size = 1\n",
        "train_data_dir='/content/drive/MyDrive/Datasets/Curated X-Ray Dataset/2 class'\n",
        "\n",
        "train_datagen = ImageDataGenerator(rescale=1./255,\n",
        "    validation_split=0.1) # set validation split\n",
        "\n",
        "train_generator = train_datagen.flow_from_directory(\n",
        "    train_data_dir,\n",
        "    target_size=(224,224),\n",
        "    batch_size=batch_size,\n",
        "    shuffle = True,\n",
        "    class_mode='categorical',\n",
        "    subset='training') # set as training data\n",
        "\n",
        "validation_generator = train_datagen.flow_from_directory(\n",
        "    train_data_dir, # same directory as training data\n",
        "    target_size=(224, 224),\n",
        "    batch_size=batch_size,\n",
        "    shuffle=False,\n",
        "    class_mode='categorical',\n",
        "    subset='validation') # set as validation data\n"
      ],
      "metadata": {
        "colab": {
          "base_uri": "https://localhost:8080/"
        },
        "id": "ouAa5RfLp7br",
        "outputId": "0cc05384-b83b-4d1b-9660-07f095d64105"
      },
      "execution_count": null,
      "outputs": [
        {
          "output_type": "stream",
          "name": "stdout",
          "text": [
            "Found 5464 images belonging to 2 classes.\n",
            "Found 607 images belonging to 2 classes.\n"
          ]
        }
      ]
    },
    {
      "cell_type": "code",
      "metadata": {
        "colab": {
          "base_uri": "https://localhost:8080/"
        },
        "id": "4x8tieiCc4Eq",
        "outputId": "47cb0f26-ed5f-49a7-e3da-3977b515c4b0"
      },
      "source": [
        "validation_generator.class_indices"
      ],
      "execution_count": null,
      "outputs": [
        {
          "output_type": "execute_result",
          "data": {
            "text/plain": [
              "{'0-Normal': 0, '1-COVID-19': 1}"
            ]
          },
          "metadata": {},
          "execution_count": 16
        }
      ]
    },
    {
      "cell_type": "code",
      "metadata": {
        "id": "k5TlW3hwJayc"
      },
      "source": [
        "\n",
        "#from d2l import tensorflow as d2l\n",
        "\n",
        "class Residual(tf.keras.Model):  \n",
        "    \"\"\"The Residual block of ResNet.\"\"\"\n",
        "    def __init__(self, num_channels, use_1x1conv=False, strides=1):\n",
        "        super().__init__()\n",
        "        self.conv1 = tf.keras.layers.Conv2D(num_channels, padding='same',\n",
        "                                            kernel_size=3, strides=strides)\n",
        "        self.conv2 = tf.keras.layers.Conv2D(num_channels, kernel_size=3,\n",
        "                                            padding='same')\n",
        "        self.conv3 = None\n",
        "        if use_1x1conv:\n",
        "            self.conv3 =  tf.keras.layers.Conv2D(num_channels, kernel_size=1,\n",
        "                                                strides=strides)\n",
        "        self.bn1 = tf.keras.layers.BatchNormalization()\n",
        "        self.bn2 = tf.keras.layers.BatchNormalization()\n",
        "\n",
        "    def call(self, X):\n",
        "        Y = tf.keras.activations.relu(self.bn1(self.conv1(X)))\n",
        "        Y = self.bn2(self.conv2(Y))\n",
        "        if self.conv3 is not None:\n",
        "            X = self.conv3(X)\n",
        "        Y += X\n",
        "        return tf.keras.activations.relu(Y)\n"
      ],
      "execution_count": null,
      "outputs": []
    },
    {
      "cell_type": "code",
      "metadata": {
        "id": "qsPb84ThJayd"
      },
      "source": [
        "class ResnetBlock(tf.keras.layers.Layer):\n",
        "    def __init__(self, num_channels, num_residuals, first_block=False,\n",
        "                 **kwargs):\n",
        "        super(ResnetBlock, self).__init__(**kwargs)\n",
        "        self.residual_layers = []\n",
        "        for i in range(num_residuals):\n",
        "            if i == 0 and not first_block:\n",
        "                self.residual_layers.append(\n",
        "                    Residual(num_channels, use_1x1conv=True, strides=2))\n",
        "            else:\n",
        "                self.residual_layers.append(Residual(num_channels))\n",
        "\n",
        "    def call(self, X):\n",
        "        for layer in self.residual_layers.layers:\n",
        "            X = layer(X)\n",
        "        return X"
      ],
      "execution_count": null,
      "outputs": []
    },
    {
      "cell_type": "code",
      "metadata": {
        "colab": {
          "base_uri": "https://localhost:8080/"
        },
        "outputId": "8be42402-9441-4e42-83da-54146c25a514",
        "id": "RLFiAekWJaye"
      },
      "source": [
        "from keras.models import Sequential\n",
        "from keras.layers import Dense, Dropout, Flatten, Conv2D, MaxPool2D, BatchNormalization,Permute, TimeDistributed, Bidirectional,GRU\n",
        "from keras.layers import LeakyReLU\n",
        "from keras.optimizers import rmsprop_v2\n",
        "from keras.preprocessing.image import ImageDataGenerator\n",
        "from keras.callbacks import ReduceLROnPlateau\n",
        "hidden_unit = 32\n",
        "kernel_size = 3\n",
        "model = Sequential()\n",
        "model.add(Conv2D(filters = 64, kernel_size = (3,3),padding = 'Same' , activation ='relu',input_shape = (224,224,3)))\n",
        "model.add(BatchNormalization())\n",
        "\n",
        "model.add(ResnetBlock(64, 2, first_block=True))\n",
        "model.add(ResnetBlock(64, 2, first_block=True))\n",
        "model.add(BatchNormalization())\n",
        "\n",
        "model.add(MaxPool2D(pool_size=(2,2),strides=(2,2)))\n",
        "model.add(Dropout(0.25))\n",
        "\n",
        "model.add(ResnetBlock(128, 2))\n",
        "model.add(ResnetBlock(128, 2))\n",
        "model.add(BatchNormalization())\n",
        "\n",
        "model.add(MaxPool2D(pool_size=(2,2), strides=(2,2)))\n",
        "model.add(Dropout(0.25))\n",
        "\n",
        "model.add(ResnetBlock(256, 2))\n",
        "model.add(ResnetBlock(256, 2))\n",
        "model.add(BatchNormalization())\n",
        "\n",
        "model.add(MaxPool2D(pool_size=(1,2), strides=(1,2)))\n",
        "model.add(Dropout(0.25))\n",
        "\n",
        "model.add(TimeDistributed(Flatten()))\n",
        "model.add(Bidirectional(GRU(hidden_unit,return_sequences=True)))\n",
        "model.add(Flatten())\n",
        "model.add(Dense(256 , activation ='relu'))\n",
        "model.add(BatchNormalization())\n",
        "model.add(Dropout(0.25))\n",
        "model.add(Dense(1, activation = \"sigmoid\"))\n",
        "model.summary()\n"
      ],
      "execution_count": null,
      "outputs": [
        {
          "output_type": "stream",
          "name": "stdout",
          "text": [
            "Model: \"sequential_1\"\n",
            "_________________________________________________________________\n",
            " Layer (type)                Output Shape              Param #   \n",
            "=================================================================\n",
            " conv2d_29 (Conv2D)          (None, 224, 224, 64)      1792      \n",
            "                                                                 \n",
            " batch_normalization_29 (Bat  (None, 224, 224, 64)     256       \n",
            " chNormalization)                                                \n",
            "                                                                 \n",
            " resnet_block_6 (ResnetBlock  (None, 224, 224, 64)     148736    \n",
            " )                                                               \n",
            "                                                                 \n",
            " resnet_block_7 (ResnetBlock  (None, 224, 224, 64)     148736    \n",
            " )                                                               \n",
            "                                                                 \n",
            " batch_normalization_38 (Bat  (None, 224, 224, 64)     256       \n",
            " chNormalization)                                                \n",
            "                                                                 \n",
            " max_pooling2d_3 (MaxPooling  (None, 112, 112, 64)     0         \n",
            " 2D)                                                             \n",
            "                                                                 \n",
            " dropout_4 (Dropout)         (None, 112, 112, 64)      0         \n",
            "                                                                 \n",
            " resnet_block_8 (ResnetBlock  (None, 56, 56, 128)      526976    \n",
            " )                                                               \n",
            "                                                                 \n",
            " resnet_block_9 (ResnetBlock  (None, 28, 28, 128)      608896    \n",
            " )                                                               \n",
            "                                                                 \n",
            " batch_normalization_47 (Bat  (None, 28, 28, 128)      512       \n",
            " chNormalization)                                                \n",
            "                                                                 \n",
            " max_pooling2d_4 (MaxPooling  (None, 14, 14, 128)      0         \n",
            " 2D)                                                             \n",
            "                                                                 \n",
            " dropout_5 (Dropout)         (None, 14, 14, 128)       0         \n",
            "                                                                 \n",
            " resnet_block_10 (ResnetBloc  (None, 7, 7, 256)        2102528   \n",
            " k)                                                              \n",
            "                                                                 \n",
            " resnet_block_11 (ResnetBloc  (None, 4, 4, 256)        2430208   \n",
            " k)                                                              \n",
            "                                                                 \n",
            " batch_normalization_56 (Bat  (None, 4, 4, 256)        1024      \n",
            " chNormalization)                                                \n",
            "                                                                 \n",
            " max_pooling2d_5 (MaxPooling  (None, 4, 2, 256)        0         \n",
            " 2D)                                                             \n",
            "                                                                 \n",
            " dropout_6 (Dropout)         (None, 4, 2, 256)         0         \n",
            "                                                                 \n",
            " time_distributed_1 (TimeDis  (None, 4, 512)           0         \n",
            " tributed)                                                       \n",
            "                                                                 \n",
            " bidirectional_1 (Bidirectio  (None, 4, 64)            104832    \n",
            " nal)                                                            \n",
            "                                                                 \n",
            " flatten_3 (Flatten)         (None, 256)               0         \n",
            "                                                                 \n",
            " dense_2 (Dense)             (None, 256)               65792     \n",
            "                                                                 \n",
            " batch_normalization_57 (Bat  (None, 256)              1024      \n",
            " chNormalization)                                                \n",
            "                                                                 \n",
            " dropout_7 (Dropout)         (None, 256)               0         \n",
            "                                                                 \n",
            " dense_3 (Dense)             (None, 1)                 257       \n",
            "                                                                 \n",
            "=================================================================\n",
            "Total params: 6,141,825\n",
            "Trainable params: 6,133,121\n",
            "Non-trainable params: 8,704\n",
            "_________________________________________________________________\n"
          ]
        }
      ]
    },
    {
      "cell_type": "code",
      "source": [
        "model.load_weights('/content/drive/MyDrive/Models/Twoclass_Residual-Bi-GRU_without_KFold(Updated-DATASET)/TwoCLass.h5')"
      ],
      "metadata": {
        "id": "LRS8BhHjYpx5"
      },
      "execution_count": null,
      "outputs": []
    },
    {
      "cell_type": "code",
      "source": [
        "#prediction on test data\n",
        "from tensorflow.math import confusion_matrix\n",
        "from sklearn.metrics import accuracy_score\n",
        "actual =  validation_generator.labels\n",
        "# for sigmoid\n",
        "y_pred =[]\n",
        "pred=model.predict(validation_generator, batch_size=1)\n",
        "for x in pred:\n",
        "  if x > 0.5:\n",
        "   y_pred.append(1)\n",
        "  else:\n",
        "   y_pred.append(0)\n",
        "y_pred=np.array(y_pred)\n",
        "acc = accuracy_score(actual,y_pred)\n",
        "print(\"\\nEvaluation on External test data: \", acc * 100)"
      ],
      "metadata": {
        "colab": {
          "base_uri": "https://localhost:8080/"
        },
        "id": "h67SIoNd3NgQ",
        "outputId": "2a1d397f-cabf-4b89-acc6-c96e397c5190"
      },
      "execution_count": null,
      "outputs": [
        {
          "output_type": "stream",
          "name": "stdout",
          "text": [
            "\n",
            "Evaluation on External test data:  92.09225700164745\n"
          ]
        }
      ]
    },
    {
      "cell_type": "code",
      "source": [
        "cfmx = confusion_matrix(actual, y_pred)\n",
        "acc = accuracy_score(actual, y_pred)\n",
        "print ('Cross Dataset Test Accuracy:', acc )\n",
        "print('Confusion matrix:', cfmx)"
      ],
      "metadata": {
        "colab": {
          "base_uri": "https://localhost:8080/"
        },
        "id": "t2wW6FoT5_vp",
        "outputId": "d666f94d-ad42-4f7b-f101-5f2d02807de5"
      },
      "execution_count": null,
      "outputs": [
        {
          "output_type": "stream",
          "name": "stdout",
          "text": [
            "Cross Dataset Test Accuracy: 0.9209225700164745\n",
            "Confusion matrix: tf.Tensor(\n",
            "[[327   0]\n",
            " [ 48 232]], shape=(2, 2), dtype=int32)\n"
          ]
        }
      ]
    },
    {
      "cell_type": "code",
      "source": [
        "from sklearn.svm import SVC\n",
        "import pandas as pd\n",
        "import seaborn as sns\n",
        "from sklearn.metrics import accuracy_score, confusion_matrix, precision_recall_fscore_support\n",
        "\n",
        "\n",
        "# Creates a confusion matrix\n",
        "cm = confusion_matrix(actual, y_pred) \n",
        "\n",
        "# Transform to df for easier plotting\n",
        "cm_df = pd.DataFrame(cm,\n",
        "                     index = ['Normal','COVID'], \n",
        "                     columns = ['Normal','COVID'])\n",
        "\n",
        "plt.figure(figsize=(5.5,4))\n",
        "sns.heatmap(cm_df, annot=True, cmap='Blues')\n",
        "plt.title('CNN-Bi-GRU \\nValidation Accuracy:{0:.3f}'.format(accuracy_score(actual, y_pred)))\n",
        "plt.ylabel('True label')\n",
        "plt.xlabel('Predicted label')\n",
        "plt.show()"
      ],
      "metadata": {
        "colab": {
          "base_uri": "https://localhost:8080/",
          "height": 310
        },
        "id": "9RPGJYyM6bSB",
        "outputId": "71e75661-1a73-4c7e-a2d9-305e40d53493"
      },
      "execution_count": null,
      "outputs": [
        {
          "output_type": "display_data",
          "data": {
            "image/png": "[encoded data removed]",
            "text/plain": [
              "<Figure size 396x288 with 2 Axes>"
            ]
          },
          "metadata": {
            "needs_background": "light"
          }
        }
      ]
    },
    {
      "cell_type": "code",
      "metadata": {
        "colab": {
          "base_uri": "https://localhost:8080/"
        },
        "outputId": "24c15ca2-7f7a-4ae5-9bb5-1dfc9357a2df",
        "id": "oy3OSeKQ64Kj"
      },
      "source": [
        "from sklearn.metrics import classification_report\n",
        "print(classification_report(actual,y_pred))"
      ],
      "execution_count": null,
      "outputs": [
        {
          "output_type": "stream",
          "name": "stdout",
          "text": [
            "              precision    recall  f1-score   support\n",
            "\n",
            "           0       0.87      1.00      0.93       327\n",
            "           1       1.00      0.83      0.91       280\n",
            "\n",
            "    accuracy                           0.92       607\n",
            "   macro avg       0.94      0.91      0.92       607\n",
            "weighted avg       0.93      0.92      0.92       607\n",
            "\n"
          ]
        }
      ]
    },
    {
      "cell_type": "code",
      "metadata": {
        "colab": {
          "base_uri": "https://localhost:8080/"
        },
        "outputId": "7b4747e0-3407-44b8-9bcc-020dffc66d7a",
        "id": "wkQSJNBg64Ku"
      },
      "source": [
        "from sklearn.metrics import precision_score,recall_score,f1_score\n",
        "precision = precision_score(actual, y_pred, average='weighted')\n",
        "print('Precision: %.3f' % precision)\n",
        "recall = recall_score(actual, y_pred, average='weighted')\n",
        "print('Recall: %.3f' % recall)\n",
        "score = f1_score(actual, y_pred, average='weighted')\n",
        "print('F-Measure: %.3f' % score)"
      ],
      "execution_count": null,
      "outputs": [
        {
          "output_type": "stream",
          "name": "stdout",
          "text": [
            "Precision: 0.931\n",
            "Recall: 0.921\n",
            "F-Measure: 0.920\n"
          ]
        }
      ]
    },
    {
      "cell_type": "code",
      "metadata": {
        "id": "EPPmk41g64Kv"
      },
      "source": [
        "# Creating a function to report confusion metrics\n",
        "def confusion_metrics (conf_matrix):\n",
        "# save confusion matrix and slice into four pieces\n",
        "    TP = conf_matrix[1][1]\n",
        "    TN = conf_matrix[0][0]\n",
        "    FP = conf_matrix[0][1]\n",
        "    FN = conf_matrix[1][0]\n",
        "    print('True Positives:', TP)\n",
        "    print('True Negatives:', TN)\n",
        "    print('False Positives:', FP)\n",
        "    print('False Negatives:', FN)\n",
        "    \n",
        "    # calculate accuracy\n",
        "    conf_accuracy = (float (TP+TN) / float(TP + TN + FP + FN))\n",
        "    \n",
        "    # calculate mis-classification\n",
        "    conf_misclassification = 1- conf_accuracy\n",
        "    \n",
        "    # calculate the sensitivity\n",
        "    conf_sensitivity = (TP / float(TP + FN))\n",
        "    # calculate the specificity\n",
        "    conf_specificity = (TN / float(TN + FP))\n",
        "    \n",
        "    # calculate precision\n",
        "    conf_precision = (TP / float(TP + FP))\n",
        "    # calculate f_1 score\n",
        "    conf_f1 = 2 * ((conf_precision * conf_sensitivity) / (conf_precision + conf_sensitivity))\n",
        "    print('-'*50)\n",
        "    print(f'Accuracy: {round(conf_accuracy,2)}') \n",
        "    print(f'Mis-Classification: {round(conf_misclassification,2)}') \n",
        "    print(f'Sensitivity: {round(conf_sensitivity,2)}') \n",
        "    print(f'Specificity: {round(conf_specificity,2)}') \n",
        "    print(f'Precision: {round(conf_precision,2)}')\n",
        "    print(f'f_1 Score: {round(conf_f1,2)}')"
      ],
      "execution_count": null,
      "outputs": []
    },
    {
      "cell_type": "code",
      "metadata": {
        "colab": {
          "base_uri": "https://localhost:8080/"
        },
        "outputId": "b8ce083f-0e38-4823-8556-097a7389b455",
        "id": "7_uDnRr764Kv"
      },
      "source": [
        "confusion_metrics(cm)"
      ],
      "execution_count": null,
      "outputs": [
        {
          "output_type": "stream",
          "name": "stdout",
          "text": [
            "True Positives: 232\n",
            "True Negatives: 327\n",
            "False Positives: 0\n",
            "False Negatives: 48\n",
            "--------------------------------------------------\n",
            "Accuracy: 0.92\n",
            "Mis-Classification: 0.08\n",
            "Sensitivity: 0.83\n",
            "Specificity: 1.0\n",
            "Precision: 1.0\n",
            "f_1 Score: 0.91\n"
          ]
        }
      ]
    }
  ]
}