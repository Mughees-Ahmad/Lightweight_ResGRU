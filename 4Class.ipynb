{
  "nbformat": 4,
  "nbformat_minor": 0,
  "metadata": {
    "colab": {
      "name": "4C_Residual_Bi_RNN_Without_KFold(Updated_Dataset).ipynb",
      "provenance": [],
      "collapsed_sections": []
    },
    "kernelspec": {
      "name": "python3",
      "display_name": "Python 3"
    },
    "language_info": {
      "name": "python"
    },
    "accelerator": "GPU"
  },
  "cells": [
    {
      "cell_type": "code",
      "metadata": {
        "id": "YSqe3xwp76Jg"
      },
      "source": [
        "import numpy as np # linear algebra\n",
        "import pandas as pd # data processing, CSV file I/O (e.g. pd.read_csv)\n",
        "import math\n",
        "import cv2\n",
        "import matplotlib.pyplot as plt\n",
        "import os\n",
        "import seaborn as sns\n",
        "from PIL import Image\n",
        "from tensorflow.keras import models\n",
        "from scipy import misc\n",
        "from os import listdir\n",
        "from os.path import isfile, join\n",
        "import numpy as np\n",
        "from scipy import misc\n",
        "from random import shuffle\n",
        "from collections import Counter\n",
        "import matplotlib.pyplot as plt\n",
        "from sklearn.decomposition import PCA\n",
        "from sklearn.manifold import TSNE\n",
        "import tensorflow as tf\n",
        "from keras.models import Sequential\n",
        "from tensorflow.keras.applications import ResNet50, DenseNet121, Xception, EfficientNetB7\n",
        "from keras.layers import Conv2D, MaxPooling2D\n",
        "from keras.layers import Activation, Dropout, Flatten, Dense,GlobalAveragePooling2D,LSTM\n",
        "from keras.utils.np_utils import to_categorical\n",
        "from sklearn.model_selection import KFold\n",
        "from keras.preprocessing.image import ImageDataGenerator\n",
        "import gc"
      ],
      "execution_count": null,
      "outputs": []
    },
    {
      "cell_type": "code",
      "metadata": {
        "id": "CJoh-bce8LAo",
        "colab": {
          "base_uri": "https://localhost:8080/"
        },
        "outputId": "46d8cc6f-d789-44ca-a186-6587d6b099fa"
      },
      "source": [
        "from google.colab import drive\n",
        "drive.mount('/content/drive')"
      ],
      "execution_count": null,
      "outputs": [
        {
          "output_type": "stream",
          "name": "stdout",
          "text": [
            "Mounted at /content/drive\n"
          ]
        }
      ]
    },
    {
      "cell_type": "code",
      "metadata": {
        "colab": {
          "base_uri": "https://localhost:8080/"
        },
        "id": "6m_6ctB08VO0",
        "outputId": "2565066b-ca0f-4a51-e2d7-e2ac69894a58"
      },
      "source": [
        "os.listdir('/content/drive/MyDrive/Datasets/COVID-19_Radiography_Dataset-Train-Test')\n",
        "NORMAL=os.listdir('/content/drive/MyDrive/Datasets/COVID-19_Radiography_Dataset-Train-Test/Train/Normal')\n",
        "COVID=os.listdir('/content/drive/MyDrive/Datasets/COVID-19_Radiography_Dataset-Train-Test/Train/COVID')\n",
        "Viral=os.listdir('/content/drive/MyDrive/Datasets/COVID-19_Radiography_Dataset-Train-Test/Train/Viral Pneumonia')\n",
        "Bacterial=os.listdir('/content/drive/MyDrive/Datasets/COVID-19_Radiography_Dataset-Train-Test/Train/Lung_Opacity')\n",
        "\n",
        "\n",
        "data=np.concatenate([NORMAL,COVID,Viral,Bacterial])\n",
        "len(data)==len(COVID)+len(NORMAL)+len(Viral)+len(Bacterial) "
      ],
      "execution_count": null,
      "outputs": [
        {
          "output_type": "execute_result",
          "data": {
            "text/plain": [
              "True"
            ]
          },
          "metadata": {},
          "execution_count": 3
        }
      ]
    },
    {
      "cell_type": "code",
      "metadata": {
        "colab": {
          "base_uri": "https://localhost:8080/"
        },
        "id": "aib8m581dyL6",
        "outputId": "bcd09d7f-994a-42dd-e87e-c01e711cef08"
      },
      "source": [
        "img_size = 224\n",
        "batch_size = 8\n",
        "train_data_dir='/content/drive/MyDrive/Datasets/COVID-19_Radiography_Dataset-Train-Test/Train'\n",
        "\n",
        "train_datagen = ImageDataGenerator(rescale=1./255,\n",
        "    validation_split=0.1) # set validation split\n",
        "\n",
        "train_generator = train_datagen.flow_from_directory(\n",
        "    train_data_dir,\n",
        "    target_size=(224,224),\n",
        "    batch_size=batch_size,\n",
        "    shuffle = True,\n",
        "    class_mode='categorical',\n",
        "    subset='training') # set as training data\n",
        "\n",
        "validation_generator = train_datagen.flow_from_directory(\n",
        "    train_data_dir, # same directory as training data\n",
        "    target_size=(224, 224),\n",
        "    batch_size=batch_size,\n",
        "    shuffle=True,\n",
        "    class_mode='categorical',\n",
        "    subset='validation') # set as validation data\n"
      ],
      "execution_count": null,
      "outputs": [
        {
          "output_type": "stream",
          "name": "stdout",
          "text": [
            "Found 19488 images belonging to 4 classes.\n",
            "Found 2163 images belonging to 4 classes.\n"
          ]
        }
      ]
    },
    {
      "cell_type": "code",
      "metadata": {
        "colab": {
          "base_uri": "https://localhost:8080/"
        },
        "id": "Fnltg0afZYFU",
        "outputId": "8186c652-cce3-4773-e42c-dbb049b725de"
      },
      "source": [
        "validation_generator.class_indices"
      ],
      "execution_count": null,
      "outputs": [
        {
          "output_type": "execute_result",
          "data": {
            "text/plain": [
              "{'COVID': 0, 'Lung_Opacity': 1, 'Normal': 2, 'Viral Pneumonia': 3}"
            ]
          },
          "metadata": {},
          "execution_count": 76
        }
      ]
    },
    {
      "cell_type": "code",
      "metadata": {
        "colab": {
          "base_uri": "https://localhost:8080/"
        },
        "id": "ANO_DKmM4YNq",
        "outputId": "07712e62-5594-4499-aadd-da038b7d857e"
      },
      "source": [
        "test_datagen = ImageDataGenerator(rescale=1./255)\n",
        "test_data_dir='/content/drive/MyDrive/Datasets/COVID-19_Radiography_Dataset-Train-Test/Test'\n",
        "test_generator = test_datagen.flow_from_directory(\n",
        "    test_data_dir,\n",
        "    target_size=(224,224),\n",
        "    batch_size=1,\n",
        "    shuffle = False,\n",
        "    class_mode='categorical') # set as testing data"
      ],
      "execution_count": null,
      "outputs": [
        {
          "output_type": "stream",
          "name": "stdout",
          "text": [
            "Found 2404 images belonging to 4 classes.\n"
          ]
        }
      ]
    },
    {
      "cell_type": "code",
      "metadata": {
        "id": "a4kusCYB92Oe"
      },
      "source": [
        "test_generator = validation_generator.save_to_dir"
      ],
      "execution_count": null,
      "outputs": []
    },
    {
      "cell_type": "code",
      "metadata": {
        "colab": {
          "base_uri": "https://localhost:8080/"
        },
        "id": "BWXFR7uy9z74",
        "outputId": "c3a12a08-5058-4d45-9eae-296dc978994b"
      },
      "source": [
        "test_generator"
      ],
      "execution_count": null,
      "outputs": [
        {
          "output_type": "execute_result",
          "data": {
            "text/plain": [
              "<keras.preprocessing.image.DirectoryIterator at 0x7f89e5d8e910>"
            ]
          },
          "metadata": {},
          "execution_count": 18
        }
      ]
    },
    {
      "cell_type": "code",
      "metadata": {
        "colab": {
          "base_uri": "https://localhost:8080/"
        },
        "id": "gRKQTY878Z9v",
        "outputId": "3d0c09c9-77a0-4fef-c4a4-77ddb106e315"
      },
      "source": [
        "np.size(COVID)"
      ],
      "execution_count": null,
      "outputs": [
        {
          "output_type": "execute_result",
          "data": {
            "text/plain": [
              "3616"
            ]
          },
          "metadata": {},
          "execution_count": 6
        }
      ]
    },
    {
      "cell_type": "code",
      "metadata": {
        "colab": {
          "base_uri": "https://localhost:8080/"
        },
        "id": "_oAKlRqF8dW8",
        "outputId": "cb068c37-c558-4939-80eb-5e2bcef23c4f"
      },
      "source": [
        "np.size(NORMAL)"
      ],
      "execution_count": null,
      "outputs": [
        {
          "output_type": "execute_result",
          "data": {
            "text/plain": [
              "10192"
            ]
          },
          "metadata": {},
          "execution_count": 7
        }
      ]
    },
    {
      "cell_type": "code",
      "metadata": {
        "colab": {
          "base_uri": "https://localhost:8080/"
        },
        "id": "RcCh-HO8v8ZM",
        "outputId": "a0426cbf-f8fd-4d09-a178-7524b9a6161e"
      },
      "source": [
        "np.size(Bacterial)"
      ],
      "execution_count": null,
      "outputs": [
        {
          "output_type": "execute_result",
          "data": {
            "text/plain": [
              "6012"
            ]
          },
          "metadata": {},
          "execution_count": 7
        }
      ]
    },
    {
      "cell_type": "markdown",
      "metadata": {
        "id": "jhkmJPMD2gW2"
      },
      "source": [
        "# **Viral Pneumonia Images after Augmentation**"
      ]
    },
    {
      "cell_type": "code",
      "metadata": {
        "colab": {
          "base_uri": "https://localhost:8080/"
        },
        "id": "5pL-JJS_JSP4",
        "outputId": "d9d1eb38-b097-4dd7-c1d1-7a7e2f864f46"
      },
      "source": [
        "np.size(Viral)"
      ],
      "execution_count": null,
      "outputs": [
        {
          "output_type": "execute_result",
          "data": {
            "text/plain": [
              "4225"
            ]
          },
          "metadata": {},
          "execution_count": 6
        }
      ]
    },
    {
      "cell_type": "markdown",
      "metadata": {
        "id": "yh4GAjfh2Vlf"
      },
      "source": [
        "## **Viral Pneumonia Images Before Augmentation**"
      ]
    },
    {
      "cell_type": "code",
      "metadata": {
        "colab": {
          "base_uri": "https://localhost:8080/"
        },
        "id": "lqgRjWl92d13",
        "outputId": "2030e2d3-8d52-4ea0-c148-a5bd206a2314"
      },
      "source": [
        "np.size(Viral)"
      ],
      "execution_count": null,
      "outputs": [
        {
          "output_type": "execute_result",
          "data": {
            "text/plain": [
              "1345"
            ]
          },
          "metadata": {},
          "execution_count": 11
        }
      ]
    },
    {
      "cell_type": "code",
      "metadata": {
        "colab": {
          "base_uri": "https://localhost:8080/"
        },
        "id": "rq7kFxGn8fZ2",
        "outputId": "1e61d9fe-5bae-49e1-dc6d-323722b7662e"
      },
      "source": [
        "target_w=np.full(len(NORMAL),0)\n",
        "target_x=np.full(len(COVID),1)\n",
        "target_y=np.full(len(Viral),2)\n",
        "target_z=np.full(len(Bacterial),3)\n",
        "data_target=np.concatenate([target_w,target_x,target_y,target_z])\n",
        "len(data_target)==len(target_w)+len(target_x)+len(target_y)+len(target_z)"
      ],
      "execution_count": null,
      "outputs": [
        {
          "output_type": "execute_result",
          "data": {
            "text/plain": [
              "True"
            ]
          },
          "metadata": {},
          "execution_count": 6
        }
      ]
    },
    {
      "cell_type": "code",
      "metadata": {
        "id": "Ko7itsi8332i"
      },
      "source": [
        "X_data = []\n",
        "for file in NORMAL:\n",
        "    \n",
        "    img = cv2.imread('/content/drive/MyDrive/Datasets/COVID-19_Radiography_Dataset/Normal/'+file)\n",
        "    face = cv2.resize(img, (224, 224) )\n",
        "    (b, g, r)=cv2.split(face) \n",
        "    img=cv2.merge([r,g,b])\n",
        "   \n",
        "    X_data.append(img)"
      ],
      "execution_count": null,
      "outputs": []
    },
    {
      "cell_type": "code",
      "metadata": {
        "id": "6qE2eU4r3_7J"
      },
      "source": [
        "np.save('/content/drive/MyDrive/Datasets/COVID-19_Radiography_Dataset/Normal', X_data, allow_pickle=True, fix_imports=True)"
      ],
      "execution_count": null,
      "outputs": []
    },
    {
      "cell_type": "code",
      "metadata": {
        "id": "kE2E87XT4KzJ"
      },
      "source": [
        "COVID_data=[]"
      ],
      "execution_count": null,
      "outputs": []
    },
    {
      "cell_type": "code",
      "metadata": {
        "colab": {
          "base_uri": "https://localhost:8080/"
        },
        "id": "Em9NPIOG4NJz",
        "outputId": "5fb22e2a-467c-48d3-85e5-283026b3096f"
      },
      "source": [
        "for file in COVID:\n",
        "    \n",
        "    img = cv2.imread('/content/drive/MyDrive/Datasets/COVID-19_Radiography_Dataset/COVID/'+file)\n",
        "    face = cv2.resize(img, (224, 224) )\n",
        "    (b, g, r)=cv2.split(face) \n",
        "    img=cv2.merge([r,g,b])\n",
        "    COVID_data.append(img)\n",
        "    X_data.append(img)\n",
        "  \n",
        "len(X_data)"
      ],
      "execution_count": null,
      "outputs": [
        {
          "output_type": "execute_result",
          "data": {
            "text/plain": [
              "13808"
            ]
          },
          "metadata": {},
          "execution_count": 10
        }
      ]
    },
    {
      "cell_type": "code",
      "metadata": {
        "id": "rQtsR_V8Jn4j"
      },
      "source": [
        "V_data=[]"
      ],
      "execution_count": null,
      "outputs": []
    },
    {
      "cell_type": "code",
      "metadata": {
        "colab": {
          "base_uri": "https://localhost:8080/"
        },
        "id": "vKFF2EskJm9n",
        "outputId": "20010710-5063-47b4-fb55-8f850f93d561"
      },
      "source": [
        "X_data=[]\n",
        "for file in Viral:\n",
        "    \n",
        "    img = cv2.imread('/content/drive/MyDrive/Datasets/COVID-19_Radiography_Dataset/Viral Pneumonia/'+file)\n",
        "    face = cv2.resize(img, (224, 224) )\n",
        "    (b, g, r)=cv2.split(face) \n",
        "    img=cv2.merge([r,g,b])\n",
        "    V_data.append(img)\n",
        "    X_data.append(img)\n",
        "  \n",
        "len(X_data)"
      ],
      "execution_count": null,
      "outputs": [
        {
          "output_type": "execute_result",
          "data": {
            "text/plain": [
              "4225"
            ]
          },
          "metadata": {},
          "execution_count": 25
        }
      ]
    },
    {
      "cell_type": "code",
      "metadata": {
        "id": "IqdLcGW4waDz"
      },
      "source": [
        "B_data =[]"
      ],
      "execution_count": null,
      "outputs": []
    },
    {
      "cell_type": "code",
      "metadata": {
        "colab": {
          "base_uri": "https://localhost:8080/"
        },
        "id": "UA0CxPDQwUjn",
        "outputId": "65c2cc5d-367b-4385-b3c9-31875be9f218"
      },
      "source": [
        "X_data=[]\n",
        "for file in Bacterial:\n",
        "    \n",
        "    img = cv2.imread('/content/drive/MyDrive/Datasets/COVID-19_Radiography_Dataset/Lung_Opacity/'+file)\n",
        "    face = cv2.resize(img, (224, 224) )\n",
        "    (b, g, r)=cv2.split(face) \n",
        "    img=cv2.merge([r,g,b])\n",
        "    B_data.append(img)\n",
        "    X_data.append(img)\n",
        "  \n",
        "len(X_data)"
      ],
      "execution_count": null,
      "outputs": [
        {
          "output_type": "execute_result",
          "data": {
            "text/plain": [
              "6012"
            ]
          },
          "metadata": {},
          "execution_count": 10
        }
      ]
    },
    {
      "cell_type": "code",
      "metadata": {
        "id": "i9Jv9oTM4Wfv"
      },
      "source": [
        "np.save('/content/drive/MyDrive/Datasets/COVID-19_Radiography_Dataset/Lung_Opacity', B_data, allow_pickle=True, fix_imports=True)"
      ],
      "execution_count": null,
      "outputs": []
    },
    {
      "cell_type": "code",
      "metadata": {
        "id": "3i6Y1RuC8mGE"
      },
      "source": [
        "N_data= np.load('/content/drive/MyDrive/Datasets/COVID-19_Radiography_Dataset/Normal.npy', mmap_mode=None, allow_pickle=False, fix_imports=True, encoding='ASCII')"
      ],
      "execution_count": null,
      "outputs": []
    },
    {
      "cell_type": "code",
      "metadata": {
        "id": "ietieja28xU5"
      },
      "source": [
        "C_data= np.load('/content/drive/MyDrive/Datasets/COVID-19_Radiography_Dataset/COVID.npy', mmap_mode=None, allow_pickle=False, fix_imports=True, encoding='ASCII')"
      ],
      "execution_count": null,
      "outputs": []
    },
    {
      "cell_type": "code",
      "metadata": {
        "id": "HAprYHOKKdhH"
      },
      "source": [
        "V_data= np.load('/content/drive/MyDrive/Datasets/COVID-19_Radiography_Dataset/Viral Pneumonia.npy', mmap_mode=None, allow_pickle=False, fix_imports=True, encoding='ASCII')"
      ],
      "execution_count": null,
      "outputs": []
    },
    {
      "cell_type": "code",
      "metadata": {
        "id": "04epNr-x2QzZ"
      },
      "source": [
        "B_data= np.load('/content/drive/MyDrive/Datasets/COVID-19_Radiography_Dataset/Lung_Opacity.npy', mmap_mode=None, allow_pickle=False, fix_imports=True, encoding='ASCII')"
      ],
      "execution_count": null,
      "outputs": []
    },
    {
      "cell_type": "code",
      "metadata": {
        "id": "M9PJOInAKqU6"
      },
      "source": [
        "X_data = np.concatenate([N_data,C_data,V_data, B_data])"
      ],
      "execution_count": null,
      "outputs": []
    },
    {
      "cell_type": "code",
      "metadata": {
        "id": "Cq_0ulKM82Cf",
        "colab": {
          "base_uri": "https://localhost:8080/"
        },
        "outputId": "8aec5ffc-9540-4541-b4a7-0935f7dcac9a"
      },
      "source": [
        "len(X_data)"
      ],
      "execution_count": null,
      "outputs": [
        {
          "output_type": "execute_result",
          "data": {
            "text/plain": [
              "24045"
            ]
          },
          "metadata": {},
          "execution_count": 11
        }
      ]
    },
    {
      "cell_type": "code",
      "metadata": {
        "id": "b-2aR39RdT5m"
      },
      "source": [
        ""
      ],
      "execution_count": null,
      "outputs": []
    },
    {
      "cell_type": "code",
      "metadata": {
        "colab": {
          "base_uri": "https://localhost:8080/",
          "height": 287
        },
        "id": "WLjGWsNj85MK",
        "outputId": "b6e53154-bf1a-4c4e-9136-9c0f6c5f249e"
      },
      "source": [
        "# Visualizing Training data\n",
        "plt.imshow(X_data[3004])\n"
      ],
      "execution_count": null,
      "outputs": [
        {
          "output_type": "execute_result",
          "data": {
            "text/plain": [
              "<matplotlib.image.AxesImage at 0x7fbec7a34d50>"
            ]
          },
          "metadata": {},
          "execution_count": 18
        },
        {
          "output_type": "display_data",
          "data": {
            "image/png": "[encoded data removed]",
            "text/plain": [
              "<Figure size 432x288 with 1 Axes>"
            ]
          },
          "metadata": {
            "needs_background": "light"
          }
        }
      ]
    },
    {
      "cell_type": "code",
      "metadata": {
        "colab": {
          "base_uri": "https://localhost:8080/"
        },
        "id": "XxyK4Uzx886v",
        "outputId": "4c90443e-b91a-44d3-b50e-017ae15e859d"
      },
      "source": [
        "len(X_data)==len(data_target)\n"
      ],
      "execution_count": null,
      "outputs": [
        {
          "output_type": "execute_result",
          "data": {
            "text/plain": [
              "True"
            ]
          },
          "metadata": {},
          "execution_count": 11
        }
      ]
    },
    {
      "cell_type": "code",
      "metadata": {
        "id": "5Wc_nMn28_mu"
      },
      "source": [
        "X = np.squeeze(X_data)"
      ],
      "execution_count": null,
      "outputs": []
    },
    {
      "cell_type": "code",
      "metadata": {
        "colab": {
          "base_uri": "https://localhost:8080/"
        },
        "id": "ib2AhKlR9B_u",
        "outputId": "8efb322a-46ab-4e1a-ea1c-19a6735a9af6"
      },
      "source": [
        "X.shape"
      ],
      "execution_count": null,
      "outputs": [
        {
          "output_type": "execute_result",
          "data": {
            "text/plain": [
              "(24045, 224, 224, 3)"
            ]
          },
          "metadata": {},
          "execution_count": 13
        }
      ]
    },
    {
      "cell_type": "code",
      "metadata": {
        "id": "IRUwcCgS9FPE"
      },
      "source": [
        "# normalize data\n",
        "X = X.astype('float16')\n",
        "X /= 255"
      ],
      "execution_count": null,
      "outputs": []
    },
    {
      "cell_type": "code",
      "metadata": {
        "id": "1cDEDW_vbI0y"
      },
      "source": [
        "N_data=C_data=V_data=X_data=B_data=[]"
      ],
      "execution_count": null,
      "outputs": []
    },
    {
      "cell_type": "code",
      "metadata": {
        "id": "44icugVA9IX9"
      },
      "source": [
        "from sklearn.datasets import make_blobs\n",
        "from sklearn.model_selection import train_test_split\n",
        "X_train, X_rem, y_train, y_rem = train_test_split(X,data_target, train_size=0.8)\n",
        "\n",
        "# Now since we want the valid and test size to be equal (10% each of overall data). \n",
        "# we have to define valid_size=0.5 (that is 50% of remaining data)\n",
        "\n",
        "test_size = 0.5\n",
        "X_valid, X_test, y_valid, y_test = train_test_split(X_rem,y_rem, test_size=0.5)\n"
      ],
      "execution_count": null,
      "outputs": []
    },
    {
      "cell_type": "code",
      "metadata": {
        "colab": {
          "base_uri": "https://localhost:8080/"
        },
        "id": "rE1zopvcQu_E",
        "outputId": "461d777e-6eaf-48cc-8b6c-4ba34a9ea9a3"
      },
      "source": [
        "print(X_train.shape, X_test.shape,X_valid.shape, y_train.shape,y_valid.shape, y_test.shape)"
      ],
      "execution_count": null,
      "outputs": [
        {
          "output_type": "stream",
          "name": "stdout",
          "text": [
            "(19236, 224, 224, 3) (2405, 224, 224, 3) (2404, 224, 224, 3) (19236,) (2404,) (2405,)\n"
          ]
        }
      ]
    },
    {
      "cell_type": "code",
      "metadata": {
        "id": "OpZVmVSyK_qN"
      },
      "source": [
        "N_data=C_data=V_data=X_data=B_data=X=[]"
      ],
      "execution_count": null,
      "outputs": []
    },
    {
      "cell_type": "code",
      "metadata": {
        "id": "pg6BBQw69opz"
      },
      "source": [
        "IMAGE_SIZE = [224, 224]"
      ],
      "execution_count": null,
      "outputs": []
    },
    {
      "cell_type": "code",
      "metadata": {
        "id": "NrgunMdbrkDf"
      },
      "source": [
        "\n",
        "#from d2l import tensorflow as d2l\n",
        "\n",
        "class Residual(tf.keras.Model):  \n",
        "    \"\"\"The Residual block of ResNet.\"\"\"\n",
        "    def __init__(self, num_channels, use_1x1conv=False, strides=1):\n",
        "        super().__init__()\n",
        "        self.conv1 = tf.keras.layers.Conv2D(num_channels, padding='same',\n",
        "                                            kernel_size=3, strides=strides)\n",
        "        self.conv2 = tf.keras.layers.Conv2D(num_channels, kernel_size=3,\n",
        "                                            padding='same')\n",
        "        self.conv3 = None\n",
        "        if use_1x1conv:\n",
        "            self.conv3 =  tf.keras.layers.Conv2D(num_channels, kernel_size=1,\n",
        "                                                strides=strides)\n",
        "        self.bn1 = tf.keras.layers.BatchNormalization()\n",
        "        self.bn2 = tf.keras.layers.BatchNormalization()\n",
        "\n",
        "    def call(self, X):\n",
        "        Y = tf.keras.activations.relu(self.bn1(self.conv1(X)))\n",
        "        Y = self.bn2(self.conv2(Y))\n",
        "        if self.conv3 is not None:\n",
        "            X = self.conv3(X)\n",
        "        Y += X\n",
        "        return tf.keras.activations.relu(Y)\n"
      ],
      "execution_count": null,
      "outputs": []
    },
    {
      "cell_type": "code",
      "metadata": {
        "id": "w5ha2oMGr2oy"
      },
      "source": [
        "class ResnetBlock(tf.keras.layers.Layer):\n",
        "    def __init__(self, num_channels, num_residuals, first_block=False,\n",
        "                 **kwargs):\n",
        "        super(ResnetBlock, self).__init__(**kwargs)\n",
        "        self.residual_layers = []\n",
        "        for i in range(num_residuals):\n",
        "            if i == 0 and not first_block:\n",
        "                self.residual_layers.append(\n",
        "                    Residual(num_channels, use_1x1conv=True, strides=2))\n",
        "            else:\n",
        "                self.residual_layers.append(Residual(num_channels))\n",
        "\n",
        "    def call(self, X):\n",
        "        for layer in self.residual_layers.layers:\n",
        "            X = layer(X)\n",
        "        return X"
      ],
      "execution_count": null,
      "outputs": []
    },
    {
      "cell_type": "code",
      "metadata": {
        "colab": {
          "base_uri": "https://localhost:8080/"
        },
        "id": "AbKxZg_uTR6H",
        "outputId": "47071e06-7ee4-42eb-9034-f0e100a1bf7f"
      },
      "source": [
        "from keras.models import Sequential\n",
        "from keras.layers import Dense, Dropout, Flatten, Conv2D, MaxPool2D, BatchNormalization,Permute, TimeDistributed, Bidirectional,GRU\n",
        "from keras.layers import LeakyReLU\n",
        "from keras.optimizers import rmsprop_v2\n",
        "from keras.preprocessing.image import ImageDataGenerator\n",
        "from keras.callbacks import ReduceLROnPlateau\n",
        "hidden_unit = 32\n",
        "kernel_size = 3\n",
        "model = Sequential()\n",
        "model.add(Conv2D(filters = 64, kernel_size = (3,3),padding = 'Same' , activation ='relu',input_shape = (224,224,3)))\n",
        "model.add(BatchNormalization())\n",
        "\n",
        "model.add(ResnetBlock(64, 2, first_block=True))\n",
        "model.add(ResnetBlock(64, 2, first_block=True))\n",
        "model.add(BatchNormalization())\n",
        "\n",
        "model.add(MaxPool2D(pool_size=(2,2),strides=(2,2)))\n",
        "model.add(Dropout(0.25))\n",
        "\n",
        "model.add(ResnetBlock(128, 2))\n",
        "model.add(ResnetBlock(128, 2))\n",
        "model.add(BatchNormalization())\n",
        "\n",
        "model.add(MaxPool2D(pool_size=(2,2), strides=(2,2)))\n",
        "model.add(Dropout(0.25))\n",
        "\n",
        "model.add(ResnetBlock(256, 2))\n",
        "model.add(ResnetBlock(256, 2))\n",
        "model.add(BatchNormalization())\n",
        "\n",
        "model.add(MaxPool2D(pool_size=(1,2), strides=(1,2)))\n",
        "model.add(Dropout(0.25))\n",
        "\n",
        "model.add(TimeDistributed(Flatten()))\n",
        "model.add(Bidirectional(GRU(hidden_unit,return_sequences=True)))\n",
        "model.add(Flatten())\n",
        "model.add(Dense(256 , activation ='relu'))\n",
        "model.add(BatchNormalization())\n",
        "model.add(Dropout(0.25))\n",
        "model.add(Dense(4, activation = \"softmax\"))\n",
        "model.summary()\n"
      ],
      "execution_count": null,
      "outputs": [
        {
          "output_type": "stream",
          "name": "stdout",
          "text": [
            "Model: \"sequential\"\n",
            "_________________________________________________________________\n",
            " Layer (type)                Output Shape              Param #   \n",
            "=================================================================\n",
            " conv2d (Conv2D)             (None, 224, 224, 64)      1792      \n",
            "                                                                 \n",
            " batch_normalization (BatchN  (None, 224, 224, 64)     256       \n",
            " ormalization)                                                   \n",
            "                                                                 \n",
            " resnet_block (ResnetBlock)  (None, 224, 224, 64)      148736    \n",
            "                                                                 \n",
            " resnet_block_1 (ResnetBlock  (None, 224, 224, 64)     148736    \n",
            " )                                                               \n",
            "                                                                 \n",
            " batch_normalization_9 (Batc  (None, 224, 224, 64)     256       \n",
            " hNormalization)                                                 \n",
            "                                                                 \n",
            " max_pooling2d (MaxPooling2D  (None, 112, 112, 64)     0         \n",
            " )                                                               \n",
            "                                                                 \n",
            " dropout (Dropout)           (None, 112, 112, 64)      0         \n",
            "                                                                 \n",
            " resnet_block_2 (ResnetBlock  (None, 56, 56, 128)      526976    \n",
            " )                                                               \n",
            "                                                                 \n",
            " resnet_block_3 (ResnetBlock  (None, 28, 28, 128)      608896    \n",
            " )                                                               \n",
            "                                                                 \n",
            " batch_normalization_18 (Bat  (None, 28, 28, 128)      512       \n",
            " chNormalization)                                                \n",
            "                                                                 \n",
            " max_pooling2d_1 (MaxPooling  (None, 14, 14, 128)      0         \n",
            " 2D)                                                             \n",
            "                                                                 \n",
            " dropout_1 (Dropout)         (None, 14, 14, 128)       0         \n",
            "                                                                 \n",
            " resnet_block_4 (ResnetBlock  (None, 7, 7, 256)        2102528   \n",
            " )                                                               \n",
            "                                                                 \n",
            " resnet_block_5 (ResnetBlock  (None, 4, 4, 256)        2430208   \n",
            " )                                                               \n",
            "                                                                 \n",
            " batch_normalization_27 (Bat  (None, 4, 4, 256)        1024      \n",
            " chNormalization)                                                \n",
            "                                                                 \n",
            " max_pooling2d_2 (MaxPooling  (None, 4, 2, 256)        0         \n",
            " 2D)                                                             \n",
            "                                                                 \n",
            " dropout_2 (Dropout)         (None, 4, 2, 256)         0         \n",
            "                                                                 \n",
            " time_distributed (TimeDistr  (None, 4, 512)           0         \n",
            " ibuted)                                                         \n",
            "                                                                 \n",
            " bidirectional (Bidirectiona  (None, 4, 64)            104832    \n",
            " l)                                                              \n",
            "                                                                 \n",
            " flatten_1 (Flatten)         (None, 256)               0         \n",
            "                                                                 \n",
            " dense (Dense)               (None, 256)               65792     \n",
            "                                                                 \n",
            " batch_normalization_28 (Bat  (None, 256)              1024      \n",
            " chNormalization)                                                \n",
            "                                                                 \n",
            " dropout_3 (Dropout)         (None, 256)               0         \n",
            "                                                                 \n",
            " dense_1 (Dense)             (None, 4)                 1028      \n",
            "                                                                 \n",
            "=================================================================\n",
            "Total params: 6,142,596\n",
            "Trainable params: 6,133,892\n",
            "Non-trainable params: 8,704\n",
            "_________________________________________________________________\n"
          ]
        }
      ]
    },
    {
      "cell_type": "code",
      "metadata": {
        "id": "DfUBaOQr9upF"
      },
      "source": [
        "opt = tf.keras.optimizers.SGD(learning_rate=0.001)\n",
        "model.compile(\n",
        "  loss='categorical_crossentropy',\n",
        "  optimizer=opt,\n",
        "  metrics=['accuracy']\n",
        ")"
      ],
      "execution_count": null,
      "outputs": []
    },
    {
      "cell_type": "code",
      "metadata": {
        "id": "Vm-B0nS3gXcG"
      },
      "source": [
        "file_path = os.path.join('/content/drive/MyDrive/Models', 'Fourclass_Residual-Bi-GRU_without_KFold(Updated_dataset-Train-Test-GPU)', 'FourCLass.h5')\n",
        "from keras.callbacks import EarlyStopping,ModelCheckpoint,ReduceLROnPlateau\n",
        "\n",
        "rlr = ReduceLROnPlateau(monitor = 'val_loss', factor = 0.1, patience = 10, verbose = 1, \n",
        "                                min_delta = 1e-4, min_lr = 1e-6, mode = 'min')\n",
        "ckp = ModelCheckpoint(filepath= file_path,monitor = 'val_loss',\n",
        "                      verbose = 1, save_best_only = True, mode = 'min', save_weights_only=True)"
      ],
      "execution_count": null,
      "outputs": []
    },
    {
      "cell_type": "code",
      "metadata": {
        "id": "KOf5rYBd95J7",
        "colab": {
          "base_uri": "https://localhost:8080/"
        },
        "outputId": "2a989d58-1472-4688-e0b7-fba6275bb76f"
      },
      "source": [
        "fit_history = model.fit(train_generator,\n",
        "                        batch_size = 8,\n",
        "                        shuffle = False,\n",
        "                        epochs = 50,\n",
        "                        #initial_epoch=10,\n",
        "                        validation_data = validation_generator,\n",
        "                        callbacks=[rlr,ckp])\n",
        "        "
      ],
      "execution_count": null,
      "outputs": [
        {
          "output_type": "stream",
          "name": "stdout",
          "text": [
            "Epoch 1/50\n",
            "2436/2436 [==============================] - ETA: 0s - loss: 1.0223 - accuracy: 0.6194\n",
            "Epoch 00001: val_loss improved from inf to 0.82445, saving model to /content/drive/MyDrive/Models/Fourclass_Residual-Bi-GRU_without_KFold(Updated_dataset-Train-Test-GPU)/FourCLass.h5\n",
            "2436/2436 [==============================] - 7454s 3s/step - loss: 1.0223 - accuracy: 0.6194 - val_loss: 0.8244 - val_accuracy: 0.7078 - lr: 0.0010\n",
            "Epoch 2/50\n",
            "2436/2436 [==============================] - ETA: 0s - loss: 0.7718 - accuracy: 0.7133\n",
            "Epoch 00002: val_loss improved from 0.82445 to 0.69184, saving model to /content/drive/MyDrive/Models/Fourclass_Residual-Bi-GRU_without_KFold(Updated_dataset-Train-Test-GPU)/FourCLass.h5\n",
            "2436/2436 [==============================] - 383s 157ms/step - loss: 0.7718 - accuracy: 0.7133 - val_loss: 0.6918 - val_accuracy: 0.7397 - lr: 0.0010\n",
            "Epoch 3/50\n",
            "2436/2436 [==============================] - ETA: 0s - loss: 0.6683 - accuracy: 0.7522\n",
            "Epoch 00003: val_loss improved from 0.69184 to 0.51537, saving model to /content/drive/MyDrive/Models/Fourclass_Residual-Bi-GRU_without_KFold(Updated_dataset-Train-Test-GPU)/FourCLass.h5\n",
            "2436/2436 [==============================] - 382s 157ms/step - loss: 0.6683 - accuracy: 0.7522 - val_loss: 0.5154 - val_accuracy: 0.8072 - lr: 0.0010\n",
            "Epoch 4/50\n",
            "2436/2436 [==============================] - ETA: 0s - loss: 0.6139 - accuracy: 0.7744\n",
            "Epoch 00004: val_loss improved from 0.51537 to 0.49446, saving model to /content/drive/MyDrive/Models/Fourclass_Residual-Bi-GRU_without_KFold(Updated_dataset-Train-Test-GPU)/FourCLass.h5\n",
            "2436/2436 [==============================] - 383s 157ms/step - loss: 0.6139 - accuracy: 0.7744 - val_loss: 0.4945 - val_accuracy: 0.8197 - lr: 0.0010\n",
            "Epoch 5/50\n",
            "2436/2436 [==============================] - ETA: 0s - loss: 0.5680 - accuracy: 0.7879\n",
            "Epoch 00005: val_loss improved from 0.49446 to 0.45139, saving model to /content/drive/MyDrive/Models/Fourclass_Residual-Bi-GRU_without_KFold(Updated_dataset-Train-Test-GPU)/FourCLass.h5\n",
            "2436/2436 [==============================] - 382s 157ms/step - loss: 0.5680 - accuracy: 0.7879 - val_loss: 0.4514 - val_accuracy: 0.8336 - lr: 0.0010\n",
            "Epoch 6/50\n",
            "2436/2436 [==============================] - ETA: 0s - loss: 0.5468 - accuracy: 0.7989\n",
            "Epoch 00006: val_loss improved from 0.45139 to 0.41417, saving model to /content/drive/MyDrive/Models/Fourclass_Residual-Bi-GRU_without_KFold(Updated_dataset-Train-Test-GPU)/FourCLass.h5\n",
            "2436/2436 [==============================] - 383s 157ms/step - loss: 0.5468 - accuracy: 0.7989 - val_loss: 0.4142 - val_accuracy: 0.8507 - lr: 0.0010\n",
            "Epoch 7/50\n",
            "2436/2436 [==============================] - ETA: 0s - loss: 0.5122 - accuracy: 0.8113\n",
            "Epoch 00007: val_loss improved from 0.41417 to 0.41137, saving model to /content/drive/MyDrive/Models/Fourclass_Residual-Bi-GRU_without_KFold(Updated_dataset-Train-Test-GPU)/FourCLass.h5\n",
            "2436/2436 [==============================] - 382s 157ms/step - loss: 0.5122 - accuracy: 0.8113 - val_loss: 0.4114 - val_accuracy: 0.8548 - lr: 0.0010\n",
            "Epoch 8/50\n",
            "2436/2436 [==============================] - ETA: 0s - loss: 0.4908 - accuracy: 0.8224\n",
            "Epoch 00008: val_loss did not improve from 0.41137\n",
            "2436/2436 [==============================] - 381s 156ms/step - loss: 0.4908 - accuracy: 0.8224 - val_loss: 0.4160 - val_accuracy: 0.8562 - lr: 0.0010\n",
            "Epoch 9/50\n",
            "2436/2436 [==============================] - ETA: 0s - loss: 0.4634 - accuracy: 0.8335\n",
            "Epoch 00009: val_loss improved from 0.41137 to 0.40135, saving model to /content/drive/MyDrive/Models/Fourclass_Residual-Bi-GRU_without_KFold(Updated_dataset-Train-Test-GPU)/FourCLass.h5\n",
            "2436/2436 [==============================] - 382s 157ms/step - loss: 0.4634 - accuracy: 0.8335 - val_loss: 0.4014 - val_accuracy: 0.8571 - lr: 0.0010\n",
            "Epoch 10/50\n",
            "2436/2436 [==============================] - ETA: 0s - loss: 0.4408 - accuracy: 0.8421\n",
            "Epoch 00010: val_loss improved from 0.40135 to 0.39604, saving model to /content/drive/MyDrive/Models/Fourclass_Residual-Bi-GRU_without_KFold(Updated_dataset-Train-Test-GPU)/FourCLass.h5\n",
            "2436/2436 [==============================] - 382s 157ms/step - loss: 0.4408 - accuracy: 0.8421 - val_loss: 0.3960 - val_accuracy: 0.8678 - lr: 0.0010\n",
            "Epoch 11/50\n",
            "2436/2436 [==============================] - ETA: 0s - loss: 0.4191 - accuracy: 0.8503\n",
            "Epoch 00011: val_loss did not improve from 0.39604\n",
            "2436/2436 [==============================] - 381s 156ms/step - loss: 0.4191 - accuracy: 0.8503 - val_loss: 0.4171 - val_accuracy: 0.8655 - lr: 0.0010\n",
            "Epoch 12/50\n",
            "2436/2436 [==============================] - ETA: 0s - loss: 0.4064 - accuracy: 0.8560\n",
            "Epoch 00012: val_loss improved from 0.39604 to 0.37136, saving model to /content/drive/MyDrive/Models/Fourclass_Residual-Bi-GRU_without_KFold(Updated_dataset-Train-Test-GPU)/FourCLass.h5\n",
            "2436/2436 [==============================] - 383s 157ms/step - loss: 0.4064 - accuracy: 0.8560 - val_loss: 0.3714 - val_accuracy: 0.8719 - lr: 0.0010\n",
            "Epoch 13/50\n",
            "2436/2436 [==============================] - ETA: 0s - loss: 0.3934 - accuracy: 0.8600\n",
            "Epoch 00013: val_loss did not improve from 0.37136\n",
            "2436/2436 [==============================] - 382s 157ms/step - loss: 0.3934 - accuracy: 0.8600 - val_loss: 0.4398 - val_accuracy: 0.8516 - lr: 0.0010\n",
            "Epoch 14/50\n",
            "2436/2436 [==============================] - ETA: 0s - loss: 0.3726 - accuracy: 0.8668\n",
            "Epoch 00014: val_loss improved from 0.37136 to 0.34401, saving model to /content/drive/MyDrive/Models/Fourclass_Residual-Bi-GRU_without_KFold(Updated_dataset-Train-Test-GPU)/FourCLass.h5\n",
            "2436/2436 [==============================] - 382s 157ms/step - loss: 0.3726 - accuracy: 0.8668 - val_loss: 0.3440 - val_accuracy: 0.8821 - lr: 0.0010\n",
            "Epoch 15/50\n",
            "2436/2436 [==============================] - ETA: 0s - loss: 0.3495 - accuracy: 0.8746\n",
            "Epoch 00015: val_loss improved from 0.34401 to 0.33191, saving model to /content/drive/MyDrive/Models/Fourclass_Residual-Bi-GRU_without_KFold(Updated_dataset-Train-Test-GPU)/FourCLass.h5\n",
            "2436/2436 [==============================] - 382s 157ms/step - loss: 0.3495 - accuracy: 0.8746 - val_loss: 0.3319 - val_accuracy: 0.8872 - lr: 0.0010\n",
            "Epoch 16/50\n",
            "2436/2436 [==============================] - ETA: 0s - loss: 0.3345 - accuracy: 0.8823\n",
            "Epoch 00016: val_loss improved from 0.33191 to 0.31908, saving model to /content/drive/MyDrive/Models/Fourclass_Residual-Bi-GRU_without_KFold(Updated_dataset-Train-Test-GPU)/FourCLass.h5\n",
            "2436/2436 [==============================] - 383s 157ms/step - loss: 0.3345 - accuracy: 0.8823 - val_loss: 0.3191 - val_accuracy: 0.8904 - lr: 0.0010\n",
            "Epoch 17/50\n",
            "2436/2436 [==============================] - ETA: 0s - loss: 0.3250 - accuracy: 0.8849\n",
            "Epoch 00017: val_loss did not improve from 0.31908\n",
            "2436/2436 [==============================] - 382s 157ms/step - loss: 0.3250 - accuracy: 0.8849 - val_loss: 0.3425 - val_accuracy: 0.8844 - lr: 0.0010\n",
            "Epoch 18/50\n",
            "2436/2436 [==============================] - ETA: 0s - loss: 0.3069 - accuracy: 0.8891\n",
            "Epoch 00018: val_loss did not improve from 0.31908\n",
            "2436/2436 [==============================] - 382s 157ms/step - loss: 0.3069 - accuracy: 0.8891 - val_loss: 0.3252 - val_accuracy: 0.8974 - lr: 0.0010\n",
            "Epoch 19/50\n",
            "2436/2436 [==============================] - ETA: 0s - loss: 0.2951 - accuracy: 0.8971\n",
            "Epoch 00019: val_loss improved from 0.31908 to 0.30330, saving model to /content/drive/MyDrive/Models/Fourclass_Residual-Bi-GRU_without_KFold(Updated_dataset-Train-Test-GPU)/FourCLass.h5\n",
            "2436/2436 [==============================] - 382s 157ms/step - loss: 0.2951 - accuracy: 0.8971 - val_loss: 0.3033 - val_accuracy: 0.8983 - lr: 0.0010\n",
            "Epoch 20/50\n",
            "2436/2436 [==============================] - ETA: 0s - loss: 0.2879 - accuracy: 0.8988\n",
            "Epoch 00020: val_loss did not improve from 0.30330\n",
            "2436/2436 [==============================] - 381s 156ms/step - loss: 0.2879 - accuracy: 0.8988 - val_loss: 0.3316 - val_accuracy: 0.9001 - lr: 0.0010\n",
            "Epoch 21/50\n",
            "2436/2436 [==============================] - ETA: 0s - loss: 0.2770 - accuracy: 0.9011\n",
            "Epoch 00021: val_loss did not improve from 0.30330\n",
            "2436/2436 [==============================] - 380s 156ms/step - loss: 0.2770 - accuracy: 0.9011 - val_loss: 0.3263 - val_accuracy: 0.8946 - lr: 0.0010\n",
            "Epoch 22/50\n",
            "2436/2436 [==============================] - ETA: 0s - loss: 0.2668 - accuracy: 0.9088\n",
            "Epoch 00022: val_loss did not improve from 0.30330\n",
            "2436/2436 [==============================] - 380s 156ms/step - loss: 0.2668 - accuracy: 0.9088 - val_loss: 0.3759 - val_accuracy: 0.8886 - lr: 0.0010\n",
            "Epoch 23/50\n",
            "2436/2436 [==============================] - ETA: 0s - loss: 0.2536 - accuracy: 0.9109\n",
            "Epoch 00023: val_loss did not improve from 0.30330\n",
            "2436/2436 [==============================] - 379s 156ms/step - loss: 0.2536 - accuracy: 0.9109 - val_loss: 0.3052 - val_accuracy: 0.9015 - lr: 0.0010\n",
            "Epoch 24/50\n",
            "2436/2436 [==============================] - ETA: 0s - loss: 0.2475 - accuracy: 0.9143\n",
            "Epoch 00024: val_loss did not improve from 0.30330\n",
            "2436/2436 [==============================] - 380s 156ms/step - loss: 0.2475 - accuracy: 0.9143 - val_loss: 0.3472 - val_accuracy: 0.8964 - lr: 0.0010\n",
            "Epoch 25/50\n",
            "2436/2436 [==============================] - ETA: 0s - loss: 0.2390 - accuracy: 0.9154\n",
            "Epoch 00025: val_loss improved from 0.30330 to 0.29750, saving model to /content/drive/MyDrive/Models/Fourclass_Residual-Bi-GRU_without_KFold(Updated_dataset-Train-Test-GPU)/FourCLass.h5\n",
            "2436/2436 [==============================] - 382s 157ms/step - loss: 0.2390 - accuracy: 0.9154 - val_loss: 0.2975 - val_accuracy: 0.9015 - lr: 0.0010\n",
            "Epoch 26/50\n",
            "2436/2436 [==============================] - ETA: 0s - loss: 0.2293 - accuracy: 0.9216\n",
            "Epoch 00026: val_loss did not improve from 0.29750\n",
            "2436/2436 [==============================] - 380s 156ms/step - loss: 0.2293 - accuracy: 0.9216 - val_loss: 0.3397 - val_accuracy: 0.8997 - lr: 0.0010\n",
            "Epoch 27/50\n",
            "2436/2436 [==============================] - ETA: 0s - loss: 0.2195 - accuracy: 0.9243\n",
            "Epoch 00027: val_loss improved from 0.29750 to 0.29137, saving model to /content/drive/MyDrive/Models/Fourclass_Residual-Bi-GRU_without_KFold(Updated_dataset-Train-Test-GPU)/FourCLass.h5\n",
            "2436/2436 [==============================] - 381s 156ms/step - loss: 0.2195 - accuracy: 0.9243 - val_loss: 0.2914 - val_accuracy: 0.9015 - lr: 0.0010\n",
            "Epoch 28/50\n",
            "2436/2436 [==============================] - ETA: 0s - loss: 0.2166 - accuracy: 0.9249\n",
            "Epoch 00028: val_loss did not improve from 0.29137\n",
            "2436/2436 [==============================] - 382s 157ms/step - loss: 0.2166 - accuracy: 0.9249 - val_loss: 0.2996 - val_accuracy: 0.9098 - lr: 0.0010\n",
            "Epoch 29/50\n",
            "2436/2436 [==============================] - ETA: 0s - loss: 0.2013 - accuracy: 0.9306\n",
            "Epoch 00029: val_loss did not improve from 0.29137\n",
            "2436/2436 [==============================] - 382s 157ms/step - loss: 0.2013 - accuracy: 0.9306 - val_loss: 0.3511 - val_accuracy: 0.9043 - lr: 0.0010\n",
            "Epoch 30/50\n",
            "2436/2436 [==============================] - ETA: 0s - loss: 0.1989 - accuracy: 0.9313\n",
            "Epoch 00030: val_loss did not improve from 0.29137\n",
            "2436/2436 [==============================] - 383s 157ms/step - loss: 0.1989 - accuracy: 0.9313 - val_loss: 0.3004 - val_accuracy: 0.9140 - lr: 0.0010\n",
            "Epoch 31/50\n",
            "2436/2436 [==============================] - ETA: 0s - loss: 0.1930 - accuracy: 0.9329\n",
            "Epoch 00031: val_loss did not improve from 0.29137\n",
            "2436/2436 [==============================] - 381s 157ms/step - loss: 0.1930 - accuracy: 0.9329 - val_loss: 0.3454 - val_accuracy: 0.8997 - lr: 0.0010\n",
            "Epoch 32/50\n",
            "2436/2436 [==============================] - ETA: 0s - loss: 0.1877 - accuracy: 0.9341\n",
            "Epoch 00032: val_loss did not improve from 0.29137\n",
            "2436/2436 [==============================] - 381s 156ms/step - loss: 0.1877 - accuracy: 0.9341 - val_loss: 0.2946 - val_accuracy: 0.9094 - lr: 0.0010\n",
            "Epoch 33/50\n",
            "2436/2436 [==============================] - ETA: 0s - loss: 0.1839 - accuracy: 0.9363\n",
            "Epoch 00033: val_loss did not improve from 0.29137\n",
            "2436/2436 [==============================] - 382s 157ms/step - loss: 0.1839 - accuracy: 0.9363 - val_loss: 0.2992 - val_accuracy: 0.9112 - lr: 0.0010\n",
            "Epoch 34/50\n",
            "2436/2436 [==============================] - ETA: 0s - loss: 0.1753 - accuracy: 0.9397\n",
            "Epoch 00034: val_loss improved from 0.29137 to 0.27485, saving model to /content/drive/MyDrive/Models/Fourclass_Residual-Bi-GRU_without_KFold(Updated_dataset-Train-Test-GPU)/FourCLass.h5\n",
            "2436/2436 [==============================] - 382s 157ms/step - loss: 0.1753 - accuracy: 0.9397 - val_loss: 0.2748 - val_accuracy: 0.9159 - lr: 0.0010\n",
            "Epoch 35/50\n",
            "2436/2436 [==============================] - ETA: 0s - loss: 0.1639 - accuracy: 0.9431\n",
            "Epoch 00035: val_loss improved from 0.27485 to 0.27072, saving model to /content/drive/MyDrive/Models/Fourclass_Residual-Bi-GRU_without_KFold(Updated_dataset-Train-Test-GPU)/FourCLass.h5\n",
            "2436/2436 [==============================] - 383s 157ms/step - loss: 0.1639 - accuracy: 0.9431 - val_loss: 0.2707 - val_accuracy: 0.9163 - lr: 0.0010\n",
            "Epoch 36/50\n",
            "2436/2436 [==============================] - ETA: 0s - loss: 0.1607 - accuracy: 0.9466\n",
            "Epoch 00036: val_loss did not improve from 0.27072\n",
            "2436/2436 [==============================] - 381s 157ms/step - loss: 0.1607 - accuracy: 0.9466 - val_loss: 0.3205 - val_accuracy: 0.9052 - lr: 0.0010\n",
            "Epoch 37/50\n",
            "2436/2436 [==============================] - ETA: 0s - loss: 0.1516 - accuracy: 0.9500\n",
            "Epoch 00037: val_loss did not improve from 0.27072\n",
            "2436/2436 [==============================] - 381s 157ms/step - loss: 0.1516 - accuracy: 0.9500 - val_loss: 0.2973 - val_accuracy: 0.9122 - lr: 0.0010\n",
            "Epoch 38/50\n",
            "2436/2436 [==============================] - ETA: 0s - loss: 0.1502 - accuracy: 0.9491\n",
            "Epoch 00038: val_loss did not improve from 0.27072\n",
            "2436/2436 [==============================] - 381s 157ms/step - loss: 0.1502 - accuracy: 0.9491 - val_loss: 0.3142 - val_accuracy: 0.9135 - lr: 0.0010\n",
            "Epoch 39/50\n",
            "2436/2436 [==============================] - ETA: 0s - loss: 0.1403 - accuracy: 0.9529\n",
            "Epoch 00039: val_loss did not improve from 0.27072\n",
            "2436/2436 [==============================] - 382s 157ms/step - loss: 0.1403 - accuracy: 0.9529 - val_loss: 0.3033 - val_accuracy: 0.9140 - lr: 0.0010\n",
            "Epoch 40/50\n",
            "2436/2436 [==============================] - ETA: 0s - loss: 0.1356 - accuracy: 0.9539\n",
            "Epoch 00040: val_loss did not improve from 0.27072\n",
            "2436/2436 [==============================] - 381s 157ms/step - loss: 0.1356 - accuracy: 0.9539 - val_loss: 0.3712 - val_accuracy: 0.9071 - lr: 0.0010\n",
            "Epoch 41/50\n",
            "2436/2436 [==============================] - ETA: 0s - loss: 0.1415 - accuracy: 0.9538\n",
            "Epoch 00041: val_loss did not improve from 0.27072\n",
            "2436/2436 [==============================] - 381s 157ms/step - loss: 0.1415 - accuracy: 0.9538 - val_loss: 0.3172 - val_accuracy: 0.9108 - lr: 0.0010\n",
            "Epoch 42/50\n",
            "2436/2436 [==============================] - ETA: 0s - loss: 0.1298 - accuracy: 0.9567\n",
            "Epoch 00042: val_loss did not improve from 0.27072\n",
            "2436/2436 [==============================] - 380s 156ms/step - loss: 0.1298 - accuracy: 0.9567 - val_loss: 0.3261 - val_accuracy: 0.9145 - lr: 0.0010\n",
            "Epoch 43/50\n",
            "2436/2436 [==============================] - ETA: 0s - loss: 0.1203 - accuracy: 0.9599\n",
            "Epoch 00043: val_loss did not improve from 0.27072\n",
            "2436/2436 [==============================] - 380s 156ms/step - loss: 0.1203 - accuracy: 0.9599 - val_loss: 0.3153 - val_accuracy: 0.9149 - lr: 0.0010\n",
            "Epoch 44/50\n",
            "2436/2436 [==============================] - ETA: 0s - loss: 0.1281 - accuracy: 0.9563\n",
            "Epoch 00044: val_loss did not improve from 0.27072\n",
            "2436/2436 [==============================] - 381s 156ms/step - loss: 0.1281 - accuracy: 0.9563 - val_loss: 0.3057 - val_accuracy: 0.9196 - lr: 0.0010\n",
            "Epoch 45/50\n",
            "2436/2436 [==============================] - ETA: 0s - loss: 0.1130 - accuracy: 0.9626\n",
            "Epoch 00045: ReduceLROnPlateau reducing learning rate to 0.00010000000474974513.\n",
            "\n",
            "Epoch 00045: val_loss did not improve from 0.27072\n",
            "2436/2436 [==============================] - 382s 157ms/step - loss: 0.1130 - accuracy: 0.9626 - val_loss: 0.3312 - val_accuracy: 0.9159 - lr: 0.0010\n",
            "Epoch 46/50\n",
            "2436/2436 [==============================] - ETA: 0s - loss: 0.0919 - accuracy: 0.9687\n",
            "Epoch 00046: val_loss did not improve from 0.27072\n",
            "2436/2436 [==============================] - 381s 157ms/step - loss: 0.0919 - accuracy: 0.9687 - val_loss: 0.3037 - val_accuracy: 0.9200 - lr: 1.0000e-04\n",
            "Epoch 47/50\n",
            "2436/2436 [==============================] - ETA: 0s - loss: 0.0851 - accuracy: 0.9713\n",
            "Epoch 00047: val_loss did not improve from 0.27072\n",
            "2436/2436 [==============================] - 382s 157ms/step - loss: 0.0851 - accuracy: 0.9713 - val_loss: 0.3014 - val_accuracy: 0.9214 - lr: 1.0000e-04\n",
            "Epoch 48/50\n",
            "2436/2436 [==============================] - ETA: 0s - loss: 0.0831 - accuracy: 0.9731\n",
            "Epoch 00048: val_loss did not improve from 0.27072\n",
            "2436/2436 [==============================] - 382s 157ms/step - loss: 0.0831 - accuracy: 0.9731 - val_loss: 0.3051 - val_accuracy: 0.9219 - lr: 1.0000e-04\n",
            "Epoch 49/50\n",
            "2436/2436 [==============================] - ETA: 0s - loss: 0.0884 - accuracy: 0.9719\n",
            "Epoch 00049: val_loss did not improve from 0.27072\n",
            "2436/2436 [==============================] - 382s 157ms/step - loss: 0.0884 - accuracy: 0.9719 - val_loss: 0.2938 - val_accuracy: 0.9205 - lr: 1.0000e-04\n",
            "Epoch 50/50\n",
            "2436/2436 [==============================] - ETA: 0s - loss: 0.0840 - accuracy: 0.9732\n",
            "Epoch 00050: val_loss did not improve from 0.27072\n",
            "2436/2436 [==============================] - 382s 157ms/step - loss: 0.0840 - accuracy: 0.9732 - val_loss: 0.3234 - val_accuracy: 0.9200 - lr: 1.0000e-04\n"
          ]
        }
      ]
    },
    {
      "cell_type": "markdown",
      "metadata": {
        "id": "NWuTYXfwFVka"
      },
      "source": [
        "# **Graph**"
      ]
    },
    {
      "cell_type": "code",
      "metadata": {
        "colab": {
          "base_uri": "https://localhost:8080/",
          "height": 573
        },
        "id": "Jfht8a9czeyS",
        "outputId": "341bcbdf-cda9-40a4-f5ea-256623e59b89"
      },
      "source": [
        "# summarize history for accuracy\n",
        "plt.plot(fit_history.history['accuracy'])\n",
        "plt.plot(fit_history.history['val_accuracy'])\n",
        "plt.title('model accuracy')\n",
        "plt.ylabel('accuracy')\n",
        "plt.xlabel('epoch')\n",
        "plt.legend(['train', 'test'], loc='upper left')\n",
        "plt.show()\n",
        "# summarize history for loss\n",
        "plt.plot(fit_history.history['loss'])\n",
        "plt.plot(fit_history.history['val_loss'])\n",
        "plt.title('model loss')\n",
        "plt.ylabel('loss')\n",
        "plt.xlabel('epoch')\n",
        "plt.legend(['train', 'test'], loc='upper left')\n",
        "plt.show()"
      ],
      "execution_count": null,
      "outputs": [
        {
          "output_type": "display_data",
          "data": {
            "image/png": "[encoded data removed]",
            "text/plain": [
              "<Figure size 432x288 with 1 Axes>"
            ]
          },
          "metadata": {
            "needs_background": "light"
          }
        },
        {
          "output_type": "display_data",
          "data": {
            "image/png": "[encoded data removed]",
            "text/plain": [
              "<Figure size 432x288 with 1 Axes>"
            ]
          },
          "metadata": {
            "needs_background": "light"
          }
        }
      ]
    },
    {
      "cell_type": "markdown",
      "metadata": {
        "id": "7AlOGUQQFYsT"
      },
      "source": [
        "# **Evaluation on Testing Data**"
      ]
    },
    {
      "cell_type": "code",
      "metadata": {
        "id": "oRBJAFYqFbdt"
      },
      "source": [
        "model.load_weights('/content/drive/MyDrive/Models/Fourclass_Residual-Bi-GRU_without_KFold(Updated_dataset-Train-Test-GPU)/FourCLass.h5')"
      ],
      "execution_count": null,
      "outputs": []
    },
    {
      "cell_type": "code",
      "metadata": {
        "colab": {
          "base_uri": "https://localhost:8080/"
        },
        "id": "BSmscvQuFpDi",
        "outputId": "9e2a6594-6f5d-4307-ea44-e0dc92434771"
      },
      "source": [
        "from tensorflow.math import confusion_matrix\n",
        "from sklearn.metrics import accuracy_score\n",
        "actual =  test_generator.labels\n",
        "preds = np.argmax(model.predict(test_generator, batch_size=1), axis=1)\n",
        "cfmx = confusion_matrix(actual, preds)\n",
        "acc = accuracy_score(actual, preds)\n",
        "print ('Test Accuracy:', acc )\n",
        "print('Confusion matrix:', cfmx)\n"
      ],
      "execution_count": null,
      "outputs": [
        {
          "output_type": "stream",
          "name": "stdout",
          "text": [
            "Test Accuracy: 0.9022462562396006\n",
            "Confusion matrix: tf.Tensor(\n",
            "[[446  11  32  11]\n",
            " [  7 452 139   2]\n",
            " [  0   3 724  27]\n",
            " [  1   0   2 547]], shape=(4, 4), dtype=int32)\n"
          ]
        }
      ]
    },
    {
      "cell_type": "code",
      "metadata": {
        "colab": {
          "base_uri": "https://localhost:8080/",
          "height": 310
        },
        "id": "gFmnpmYZM5Jd",
        "outputId": "eefa2116-baac-4651-87e7-7f10a404ac84"
      },
      "source": [
        "from sklearn.svm import SVC\n",
        "import pandas as pd\n",
        "import seaborn as sns\n",
        "from sklearn.metrics import accuracy_score, confusion_matrix, precision_recall_fscore_support\n",
        "\n",
        "\n",
        "# Creates a confusion matrix\n",
        "cm = confusion_matrix(actual, preds) \n",
        "\n",
        "# Transform to df for easier plotting\n",
        "cm_df = pd.DataFrame(cm,\n",
        "                     index = ['Normal','COVID', 'Bacterial','Viral'], \n",
        "                     columns = ['Normal','COVID', 'Bacterial','Viral'])\n",
        "\n",
        "plt.figure(figsize=(5.5,4))\n",
        "sns.heatmap(cm_df, annot=True, cmap='Blues')\n",
        "plt.title('CNN-Bi_GRU \\n Test Accuracy:{0:.3f}'.format(accuracy_score(actual, preds)))\n",
        "plt.ylabel('True label')\n",
        "plt.xlabel('Predicted label')\n",
        "plt.show()"
      ],
      "execution_count": null,
      "outputs": [
        {
          "output_type": "display_data",
          "data": {
            "image/png": "[encoded data removed]",
            "text/plain": [
              "<Figure size 396x288 with 2 Axes>"
            ]
          },
          "metadata": {
            "needs_background": "light"
          }
        }
      ]
    },
    {
      "cell_type": "code",
      "metadata": {
        "colab": {
          "base_uri": "https://localhost:8080/"
        },
        "id": "TAGMY4kxM5Jf",
        "outputId": "8c5df5ff-558d-4e2e-d637-96d41d2455f6"
      },
      "source": [
        "from sklearn.metrics import classification_report\n",
        "print(classification_report(actual,preds))"
      ],
      "execution_count": null,
      "outputs": [
        {
          "output_type": "stream",
          "name": "stdout",
          "text": [
            "              precision    recall  f1-score   support\n",
            "\n",
            "           0       0.98      0.89      0.94       500\n",
            "           1       0.97      0.75      0.85       600\n",
            "           2       0.81      0.96      0.88       754\n",
            "           3       0.93      0.99      0.96       550\n",
            "\n",
            "    accuracy                           0.90      2404\n",
            "   macro avg       0.92      0.90      0.91      2404\n",
            "weighted avg       0.91      0.90      0.90      2404\n",
            "\n"
          ]
        }
      ]
    },
    {
      "cell_type": "code",
      "metadata": {
        "colab": {
          "base_uri": "https://localhost:8080/"
        },
        "id": "sYogQOFhM5Jf",
        "outputId": "f1aa345f-2cad-49f1-ca25-7f1e72d42afe"
      },
      "source": [
        "from sklearn.metrics import precision_score,recall_score,f1_score\n",
        "precision = precision_score(actual, preds, average='weighted')\n",
        "print('Precision: %.3f' % precision)\n",
        "recall = recall_score(actual, preds, average='weighted')\n",
        "print('Recall: %.3f' % recall)\n",
        "score = f1_score(actual, preds, average='weighted')\n",
        "print('F-Measure: %.3f' % score)"
      ],
      "execution_count": null,
      "outputs": [
        {
          "output_type": "stream",
          "name": "stdout",
          "text": [
            "Precision: 0.913\n",
            "Recall: 0.902\n",
            "F-Measure: 0.901\n"
          ]
        }
      ]
    },
    {
      "cell_type": "markdown",
      "metadata": {
        "id": "ny6qajIcNijr"
      },
      "source": [
        "# **Cross Dataset Validation : External Cohort**"
      ]
    },
    {
      "cell_type": "code",
      "metadata": {
        "colab": {
          "base_uri": "https://localhost:8080/"
        },
        "id": "pRQWdMaANstq",
        "outputId": "22c7d8a7-74bd-47ee-a1f8-6be9cf7999fc"
      },
      "source": [
        "img_size = 224\n",
        "batch_size = 1\n",
        "train_data_dir='/content/drive/MyDrive/Datasets/Curated X-Ray Dataset'\n",
        "\n",
        "train_datagen = ImageDataGenerator(rescale=1./255,\n",
        "    validation_split=0.1) # set validation split\n",
        "\n",
        "train_generator = train_datagen.flow_from_directory(\n",
        "    train_data_dir,\n",
        "    target_size=(224,224),\n",
        "    batch_size=batch_size,\n",
        "    shuffle = True,\n",
        "    class_mode='categorical',\n",
        "    subset='training') # set as training data\n",
        "\n",
        "validation_generator = train_datagen.flow_from_directory(\n",
        "    train_data_dir, # same directory as training data\n",
        "    target_size=(224, 224),\n",
        "    batch_size=batch_size,\n",
        "    shuffle=False,\n",
        "    class_mode='categorical',\n",
        "    subset='validation') # set as validation data\n"
      ],
      "execution_count": null,
      "outputs": [
        {
          "output_type": "stream",
          "name": "stdout",
          "text": [
            "Found 10808 images belonging to 4 classes.\n",
            "Found 1200 images belonging to 4 classes.\n"
          ]
        }
      ]
    },
    {
      "cell_type": "code",
      "metadata": {
        "colab": {
          "base_uri": "https://localhost:8080/"
        },
        "id": "4x8tieiCc4Eq",
        "outputId": "c7a2c6fa-f7ff-4040-aac3-05e722775c4f"
      },
      "source": [
        "validation_generator.class_indices"
      ],
      "execution_count": null,
      "outputs": [
        {
          "output_type": "execute_result",
          "data": {
            "text/plain": [
              "{'1-COVID-19': 0,\n",
              " '2-Pneumonia-Bacterial': 1,\n",
              " '3-Normal': 2,\n",
              " '4-Pneumonia-Viral': 3}"
            ]
          },
          "metadata": {},
          "execution_count": 29
        }
      ]
    },
    {
      "cell_type": "code",
      "metadata": {
        "id": "k5TlW3hwJayc"
      },
      "source": [
        "\n",
        "#from d2l import tensorflow as d2l\n",
        "\n",
        "class Residual(tf.keras.Model):  \n",
        "    \"\"\"The Residual block of ResNet.\"\"\"\n",
        "    def __init__(self, num_channels, use_1x1conv=False, strides=1):\n",
        "        super().__init__()\n",
        "        self.conv1 = tf.keras.layers.Conv2D(num_channels, padding='same',\n",
        "                                            kernel_size=3, strides=strides)\n",
        "        self.conv2 = tf.keras.layers.Conv2D(num_channels, kernel_size=3,\n",
        "                                            padding='same')\n",
        "        self.conv3 = None\n",
        "        if use_1x1conv:\n",
        "            self.conv3 =  tf.keras.layers.Conv2D(num_channels, kernel_size=1,\n",
        "                                                strides=strides)\n",
        "        self.bn1 = tf.keras.layers.BatchNormalization()\n",
        "        self.bn2 = tf.keras.layers.BatchNormalization()\n",
        "\n",
        "    def call(self, X):\n",
        "        Y = tf.keras.activations.relu(self.bn1(self.conv1(X)))\n",
        "        Y = self.bn2(self.conv2(Y))\n",
        "        if self.conv3 is not None:\n",
        "            X = self.conv3(X)\n",
        "        Y += X\n",
        "        return tf.keras.activations.relu(Y)\n"
      ],
      "execution_count": null,
      "outputs": []
    },
    {
      "cell_type": "code",
      "metadata": {
        "id": "qsPb84ThJayd"
      },
      "source": [
        "class ResnetBlock(tf.keras.layers.Layer):\n",
        "    def __init__(self, num_channels, num_residuals, first_block=False,\n",
        "                 **kwargs):\n",
        "        super(ResnetBlock, self).__init__(**kwargs)\n",
        "        self.residual_layers = []\n",
        "        for i in range(num_residuals):\n",
        "            if i == 0 and not first_block:\n",
        "                self.residual_layers.append(\n",
        "                    Residual(num_channels, use_1x1conv=True, strides=2))\n",
        "            else:\n",
        "                self.residual_layers.append(Residual(num_channels))\n",
        "\n",
        "    def call(self, X):\n",
        "        for layer in self.residual_layers.layers:\n",
        "            X = layer(X)\n",
        "        return X"
      ],
      "execution_count": null,
      "outputs": []
    },
    {
      "cell_type": "code",
      "metadata": {
        "colab": {
          "base_uri": "https://localhost:8080/"
        },
        "outputId": "74447990-5259-429b-f6dd-09aab53de81f",
        "id": "RLFiAekWJaye"
      },
      "source": [
        "from keras.models import Sequential\n",
        "from keras.layers import Dense, Dropout, Flatten, Conv2D, MaxPool2D, BatchNormalization,Permute, TimeDistributed, Bidirectional,GRU\n",
        "from keras.layers import LeakyReLU\n",
        "from keras.optimizers import rmsprop_v2\n",
        "from keras.preprocessing.image import ImageDataGenerator\n",
        "from keras.callbacks import ReduceLROnPlateau\n",
        "hidden_unit = 32\n",
        "kernel_size = 3\n",
        "model = Sequential()\n",
        "model.add(Conv2D(filters = 64, kernel_size = (3,3),padding = 'Same' , activation ='relu',input_shape = (224,224,3)))\n",
        "model.add(BatchNormalization())\n",
        "\n",
        "model.add(ResnetBlock(64, 2, first_block=True))\n",
        "model.add(ResnetBlock(64, 2, first_block=True))\n",
        "model.add(BatchNormalization())\n",
        "\n",
        "model.add(MaxPool2D(pool_size=(2,2),strides=(2,2)))\n",
        "model.add(Dropout(0.25))\n",
        "\n",
        "model.add(ResnetBlock(128, 2))\n",
        "model.add(ResnetBlock(128, 2))\n",
        "model.add(BatchNormalization())\n",
        "\n",
        "model.add(MaxPool2D(pool_size=(2,2), strides=(2,2)))\n",
        "model.add(Dropout(0.25))\n",
        "\n",
        "model.add(ResnetBlock(256, 2))\n",
        "model.add(ResnetBlock(256, 2))\n",
        "model.add(BatchNormalization())\n",
        "\n",
        "model.add(MaxPool2D(pool_size=(1,2), strides=(1,2)))\n",
        "model.add(Dropout(0.25))\n",
        "\n",
        "model.add(TimeDistributed(Flatten()))\n",
        "model.add(Bidirectional(GRU(hidden_unit,return_sequences=True)))\n",
        "model.add(Flatten())\n",
        "model.add(Dense(256 , activation ='relu'))\n",
        "model.add(BatchNormalization())\n",
        "model.add(Dropout(0.25))\n",
        "model.add(Dense(4, activation = \"softmax\"))\n",
        "model.summary()\n"
      ],
      "execution_count": null,
      "outputs": [
        {
          "output_type": "stream",
          "name": "stdout",
          "text": [
            "Model: \"sequential\"\n",
            "_________________________________________________________________\n",
            " Layer (type)                Output Shape              Param #   \n",
            "=================================================================\n",
            " conv2d (Conv2D)             (None, 224, 224, 64)      1792      \n",
            "                                                                 \n",
            " batch_normalization (BatchN  (None, 224, 224, 64)     256       \n",
            " ormalization)                                                   \n",
            "                                                                 \n",
            " resnet_block (ResnetBlock)  (None, 224, 224, 64)      148736    \n",
            "                                                                 \n",
            " resnet_block_1 (ResnetBlock  (None, 224, 224, 64)     148736    \n",
            " )                                                               \n",
            "                                                                 \n",
            " batch_normalization_9 (Batc  (None, 224, 224, 64)     256       \n",
            " hNormalization)                                                 \n",
            "                                                                 \n",
            " max_pooling2d (MaxPooling2D  (None, 112, 112, 64)     0         \n",
            " )                                                               \n",
            "                                                                 \n",
            " dropout (Dropout)           (None, 112, 112, 64)      0         \n",
            "                                                                 \n",
            " resnet_block_2 (ResnetBlock  (None, 56, 56, 128)      526976    \n",
            " )                                                               \n",
            "                                                                 \n",
            " resnet_block_3 (ResnetBlock  (None, 28, 28, 128)      608896    \n",
            " )                                                               \n",
            "                                                                 \n",
            " batch_normalization_18 (Bat  (None, 28, 28, 128)      512       \n",
            " chNormalization)                                                \n",
            "                                                                 \n",
            " max_pooling2d_1 (MaxPooling  (None, 14, 14, 128)      0         \n",
            " 2D)                                                             \n",
            "                                                                 \n",
            " dropout_1 (Dropout)         (None, 14, 14, 128)       0         \n",
            "                                                                 \n",
            " resnet_block_4 (ResnetBlock  (None, 7, 7, 256)        2102528   \n",
            " )                                                               \n",
            "                                                                 \n",
            " resnet_block_5 (ResnetBlock  (None, 4, 4, 256)        2430208   \n",
            " )                                                               \n",
            "                                                                 \n",
            " batch_normalization_27 (Bat  (None, 4, 4, 256)        1024      \n",
            " chNormalization)                                                \n",
            "                                                                 \n",
            " max_pooling2d_2 (MaxPooling  (None, 4, 2, 256)        0         \n",
            " 2D)                                                             \n",
            "                                                                 \n",
            " dropout_2 (Dropout)         (None, 4, 2, 256)         0         \n",
            "                                                                 \n",
            " time_distributed (TimeDistr  (None, 4, 512)           0         \n",
            " ibuted)                                                         \n",
            "                                                                 \n",
            " bidirectional (Bidirectiona  (None, 4, 64)            104832    \n",
            " l)                                                              \n",
            "                                                                 \n",
            " flatten_1 (Flatten)         (None, 256)               0         \n",
            "                                                                 \n",
            " dense (Dense)               (None, 256)               65792     \n",
            "                                                                 \n",
            " batch_normalization_28 (Bat  (None, 256)              1024      \n",
            " chNormalization)                                                \n",
            "                                                                 \n",
            " dropout_3 (Dropout)         (None, 256)               0         \n",
            "                                                                 \n",
            " dense_1 (Dense)             (None, 4)                 1028      \n",
            "                                                                 \n",
            "=================================================================\n",
            "Total params: 6,142,596\n",
            "Trainable params: 6,133,892\n",
            "Non-trainable params: 8,704\n",
            "_________________________________________________________________\n"
          ]
        }
      ]
    },
    {
      "cell_type": "code",
      "source": [
        "model.load_weights('/content/drive/MyDrive/Models/Fourclass_Residual-Bi-GRU_without_KFold(Updated_dataset-Train-Test-GPU)/FourCLass.h5')"
      ],
      "metadata": {
        "id": "LRS8BhHjYpx5"
      },
      "execution_count": null,
      "outputs": []
    },
    {
      "cell_type": "code",
      "metadata": {
        "colab": {
          "base_uri": "https://localhost:8080/"
        },
        "id": "JmmHlz-rOZNj",
        "outputId": "297bb783-fc57-4217-dd7d-cf15d74c934c"
      },
      "source": [
        "from tensorflow.math import confusion_matrix\n",
        "from sklearn.metrics import accuracy_score\n",
        "actual =  validation_generator.labels\n",
        "preds = np.argmax(model.predict(validation_generator, batch_size=1), axis=1)\n",
        "cfmx = confusion_matrix(actual, preds)\n",
        "acc = accuracy_score(actual, preds)\n",
        "print ('Cross Dataset Test Accuracy:', acc )\n",
        "print('Confusion matrix:', cfmx)"
      ],
      "execution_count": null,
      "outputs": [
        {
          "output_type": "stream",
          "name": "stdout",
          "text": [
            "Cross Dataset Test Accuracy: 0.6725\n",
            "Confusion matrix: tf.Tensor(\n",
            "[[202  47  28   3]\n",
            " [  1   2   5 292]\n",
            " [  0   0 312  15]\n",
            " [  0   0   2 291]], shape=(4, 4), dtype=int32)\n"
          ]
        }
      ]
    },
    {
      "cell_type": "code",
      "metadata": {
        "colab": {
          "base_uri": "https://localhost:8080/",
          "height": 310
        },
        "id": "tzxOxVxKOZNk",
        "outputId": "085db8a5-0b0b-49cc-b9e1-c835a332fab9"
      },
      "source": [
        "from sklearn.svm import SVC\n",
        "import pandas as pd\n",
        "import seaborn as sns\n",
        "from sklearn.metrics import accuracy_score, confusion_matrix, precision_recall_fscore_support\n",
        "\n",
        "\n",
        "# Creates a confusion matrix\n",
        "cm = confusion_matrix(actual, preds) \n",
        "\n",
        "# Transform to df for easier plotting\n",
        "cm_df = pd.DataFrame(cm,\n",
        "                     index =  ['Normal','COVID', 'Bacterial','Viral'], \n",
        "                     columns =  ['Normal','COVID', 'Bacterial','Viral'])\n",
        "\n",
        "plt.figure(figsize=(5.5,4))\n",
        "sns.heatmap(cm_df, annot=True, cmap='Blues')\n",
        "plt.title('Residual-Bi_GRU \\n Cross Dataset Accuracy:{0:.3f}'.format(accuracy_score(actual, preds)))\n",
        "plt.ylabel('True label')\n",
        "plt.xlabel('Predicted label')\n",
        "plt.show()"
      ],
      "execution_count": null,
      "outputs": [
        {
          "output_type": "display_data",
          "data": {
            "image/png": "[encoded data removed]",
            "text/plain": [
              "<Figure size 396x288 with 2 Axes>"
            ]
          },
          "metadata": {
            "needs_background": "light"
          }
        }
      ]
    },
    {
      "cell_type": "code",
      "metadata": {
        "colab": {
          "base_uri": "https://localhost:8080/"
        },
        "id": "KWLxNzY1OZNl",
        "outputId": "f36c34ab-13bb-4879-a975-3368a9fe6db0"
      },
      "source": [
        "from sklearn.metrics import classification_report\n",
        "print(classification_report(actual,preds))"
      ],
      "execution_count": null,
      "outputs": [
        {
          "output_type": "stream",
          "name": "stdout",
          "text": [
            "              precision    recall  f1-score   support\n",
            "\n",
            "           0       1.00      0.72      0.84       280\n",
            "           1       0.04      0.01      0.01       300\n",
            "           2       0.90      0.95      0.93       327\n",
            "           3       0.48      0.99      0.65       293\n",
            "\n",
            "    accuracy                           0.67      1200\n",
            "   macro avg       0.60      0.67      0.61      1200\n",
            "weighted avg       0.61      0.67      0.61      1200\n",
            "\n"
          ]
        }
      ]
    },
    {
      "cell_type": "code",
      "metadata": {
        "colab": {
          "base_uri": "https://localhost:8080/"
        },
        "id": "C3EcLNV0OZNl",
        "outputId": "59799331-964c-4071-c8d9-64d8928e7008"
      },
      "source": [
        "from sklearn.metrics import precision_score,recall_score,f1_score\n",
        "precision = precision_score(actual, preds, average='weighted')\n",
        "print('Precision: %.3f' % precision)\n",
        "recall = recall_score(actual, preds, average='weighted')\n",
        "print('Recall: %.3f' % recall)\n",
        "score = f1_score(actual, preds, average='weighted')\n",
        "print('F-Measure: %.3f' % score)"
      ],
      "execution_count": null,
      "outputs": [
        {
          "output_type": "stream",
          "name": "stdout",
          "text": [
            "Precision: 0.606\n",
            "Recall: 0.672\n",
            "F-Measure: 0.609\n"
          ]
        }
      ]
    }
  ]
}