{
  "nbformat": 4,
  "nbformat_minor": 0,
  "metadata": {
    "colab": {
      "name": "3C_Residual_Bi_RNN_Without_KFold(Updated_Dataset).ipynb",
      "provenance": [],
      "collapsed_sections": [],
      "machine_shape": "hm"
    },
    "kernelspec": {
      "name": "python3",
      "display_name": "Python 3"
    },
    "language_info": {
      "name": "python"
    },
    "accelerator": "GPU"
  },
  "cells": [
    {
      "cell_type": "code",
      "metadata": {
        "id": "YSqe3xwp76Jg"
      },
      "source": [
        "import numpy as np # linear algebra\n",
        "import pandas as pd # data processing, CSV file I/O (e.g. pd.read_csv)\n",
        "import math\n",
        "import cv2\n",
        "import matplotlib.pyplot as plt\n",
        "import os\n",
        "import seaborn as sns\n",
        "from PIL import Image\n",
        "from tensorflow.keras import models\n",
        "from scipy import misc\n",
        "from os import listdir\n",
        "from os.path import isfile, join\n",
        "import numpy as np\n",
        "from scipy import misc\n",
        "from random import shuffle\n",
        "from collections import Counter\n",
        "import matplotlib.pyplot as plt\n",
        "from sklearn.decomposition import PCA\n",
        "from sklearn.manifold import TSNE\n",
        "import tensorflow as tf\n",
        "from keras.models import Sequential\n",
        "from tensorflow.keras.applications import ResNet50, DenseNet121, Xception, EfficientNetB7\n",
        "from keras.layers import Conv2D, MaxPooling2D\n",
        "from keras.layers import Activation, Dropout, Flatten, Dense,GlobalAveragePooling2D,LSTM\n",
        "from keras.utils.np_utils import to_categorical\n",
        "from sklearn.model_selection import KFold\n",
        "from keras.preprocessing.image import ImageDataGenerator\n",
        "import gc"
      ],
      "execution_count": null,
      "outputs": []
    },
    {
      "cell_type": "code",
      "metadata": {
        "colab": {
          "base_uri": "https://localhost:8080/"
        },
        "id": "CJoh-bce8LAo",
        "outputId": "9dbdad6d-f866-4c35-d0b9-9e61a922fe46"
      },
      "source": [
        "from google.colab import drive\n",
        "drive.mount('/content/drive')"
      ],
      "execution_count": null,
      "outputs": [
        {
          "output_type": "stream",
          "name": "stdout",
          "text": [
            "Mounted at /content/drive\n"
          ]
        }
      ]
    },
    {
      "cell_type": "code",
      "metadata": {
        "colab": {
          "base_uri": "https://localhost:8080/"
        },
        "id": "6m_6ctB08VO0",
        "outputId": "aec16407-ce9c-45b1-f909-1a9d757063ad"
      },
      "source": [
        "os.listdir('/content/drive/MyDrive/Datasets/COVID-19_Radiography_Dataset')\n",
        "NORMAL=os.listdir('/content/drive/MyDrive/Datasets/COVID-19_Radiography_Dataset/Normal')\n",
        "COVID=os.listdir('/content/drive/MyDrive/Datasets/COVID-19_Radiography_Dataset/COVID')\n",
        "Viral=os.listdir('/content/drive/MyDrive/Datasets/COVID-19_Radiography_Dataset/Viral Pneumonia')\n",
        "\n",
        "\n",
        "data=np.concatenate([NORMAL,COVID,Viral])\n",
        "len(data)==len(COVID)+len(NORMAL)+len(Viral) "
      ],
      "execution_count": null,
      "outputs": [
        {
          "output_type": "execute_result",
          "data": {
            "text/plain": [
              "True"
            ]
          },
          "metadata": {},
          "execution_count": 3
        }
      ]
    },
    {
      "cell_type": "code",
      "metadata": {
        "colab": {
          "base_uri": "https://localhost:8080/"
        },
        "id": "gRKQTY878Z9v",
        "outputId": "634b7952-4b86-4d68-b071-71d756e6c691"
      },
      "source": [
        "np.size(COVID)"
      ],
      "execution_count": null,
      "outputs": [
        {
          "output_type": "execute_result",
          "data": {
            "text/plain": [
              "3616"
            ]
          },
          "metadata": {},
          "execution_count": 4
        }
      ]
    },
    {
      "cell_type": "code",
      "metadata": {
        "colab": {
          "base_uri": "https://localhost:8080/"
        },
        "id": "_oAKlRqF8dW8",
        "outputId": "76c6b89d-7130-4d95-add0-cceccf3f9beb"
      },
      "source": [
        "np.size(NORMAL)"
      ],
      "execution_count": null,
      "outputs": [
        {
          "output_type": "execute_result",
          "data": {
            "text/plain": [
              "10192"
            ]
          },
          "metadata": {},
          "execution_count": 5
        }
      ]
    },
    {
      "cell_type": "markdown",
      "metadata": {
        "id": "yh4GAjfh2Vlf"
      },
      "source": [
        "## **Viral Pneumonia Images Before Augmentation**"
      ]
    },
    {
      "cell_type": "code",
      "metadata": {
        "colab": {
          "base_uri": "https://localhost:8080/"
        },
        "id": "lqgRjWl92d13",
        "outputId": "2030e2d3-8d52-4ea0-c148-a5bd206a2314"
      },
      "source": [
        "np.size(Viral)"
      ],
      "execution_count": null,
      "outputs": [
        {
          "output_type": "execute_result",
          "data": {
            "text/plain": [
              "1345"
            ]
          },
          "metadata": {},
          "execution_count": 11
        }
      ]
    },
    {
      "cell_type": "markdown",
      "metadata": {
        "id": "jhkmJPMD2gW2"
      },
      "source": [
        "# **Viral Pneumonia Images after Augmentation**"
      ]
    },
    {
      "cell_type": "code",
      "metadata": {
        "colab": {
          "base_uri": "https://localhost:8080/"
        },
        "id": "5pL-JJS_JSP4",
        "outputId": "267f7aa8-c29e-4bb7-ec1e-201d8735cadd"
      },
      "source": [
        "np.size(Viral)"
      ],
      "execution_count": null,
      "outputs": [
        {
          "output_type": "execute_result",
          "data": {
            "text/plain": [
              "4225"
            ]
          },
          "metadata": {},
          "execution_count": 22
        }
      ]
    },
    {
      "cell_type": "code",
      "metadata": {
        "colab": {
          "base_uri": "https://localhost:8080/"
        },
        "id": "rq7kFxGn8fZ2",
        "outputId": "eeffce15-04b9-4a41-b443-92d838bc2932"
      },
      "source": [
        "target_x=np.full(len(NORMAL),0)\n",
        "target_y=np.full(len(COVID),1)\n",
        "target_z=np.full(len(Viral),2)\n",
        "data_target=np.concatenate([target_x,target_y,target_z])\n",
        "len(data_target)==len(target_x)+len(target_y)+len(target_z)"
      ],
      "execution_count": null,
      "outputs": [
        {
          "output_type": "execute_result",
          "data": {
            "text/plain": [
              "True"
            ]
          },
          "metadata": {},
          "execution_count": 6
        }
      ]
    },
    {
      "cell_type": "code",
      "metadata": {
        "id": "Ko7itsi8332i"
      },
      "source": [
        "X_data = []\n",
        "for file in NORMAL:\n",
        "    \n",
        "    img = cv2.imread('/content/drive/MyDrive/Datasets/COVID-19_Radiography_Dataset/Normal/'+file)\n",
        "    face = cv2.resize(img, (224, 224) )\n",
        "    (b, g, r)=cv2.split(face) \n",
        "    img=cv2.merge([r,g,b])\n",
        "   \n",
        "    X_data.append(img)"
      ],
      "execution_count": null,
      "outputs": []
    },
    {
      "cell_type": "code",
      "metadata": {
        "id": "6qE2eU4r3_7J"
      },
      "source": [
        "np.save('/content/drive/MyDrive/Datasets/COVID-19_Radiography_Dataset/Normal', X_data, allow_pickle=True, fix_imports=True)"
      ],
      "execution_count": null,
      "outputs": []
    },
    {
      "cell_type": "code",
      "metadata": {
        "id": "kE2E87XT4KzJ"
      },
      "source": [
        "COVID_data=[]"
      ],
      "execution_count": null,
      "outputs": []
    },
    {
      "cell_type": "code",
      "metadata": {
        "colab": {
          "base_uri": "https://localhost:8080/"
        },
        "id": "Em9NPIOG4NJz",
        "outputId": "5fb22e2a-467c-48d3-85e5-283026b3096f"
      },
      "source": [
        "for file in COVID:\n",
        "    \n",
        "    img = cv2.imread('/content/drive/MyDrive/Datasets/COVID-19_Radiography_Dataset/COVID/'+file)\n",
        "    face = cv2.resize(img, (224, 224) )\n",
        "    (b, g, r)=cv2.split(face) \n",
        "    img=cv2.merge([r,g,b])\n",
        "    COVID_data.append(img)\n",
        "    X_data.append(img)\n",
        "  \n",
        "len(X_data)"
      ],
      "execution_count": null,
      "outputs": [
        {
          "output_type": "execute_result",
          "data": {
            "text/plain": [
              "13808"
            ]
          },
          "metadata": {},
          "execution_count": 10
        }
      ]
    },
    {
      "cell_type": "code",
      "metadata": {
        "id": "rQtsR_V8Jn4j"
      },
      "source": [
        "V_data=[]"
      ],
      "execution_count": null,
      "outputs": []
    },
    {
      "cell_type": "code",
      "metadata": {
        "colab": {
          "base_uri": "https://localhost:8080/"
        },
        "id": "vKFF2EskJm9n",
        "outputId": "20010710-5063-47b4-fb55-8f850f93d561"
      },
      "source": [
        "X_data=[]\n",
        "for file in Viral:\n",
        "    \n",
        "    img = cv2.imread('/content/drive/MyDrive/Datasets/COVID-19_Radiography_Dataset/Viral Pneumonia/'+file)\n",
        "    face = cv2.resize(img, (224, 224) )\n",
        "    (b, g, r)=cv2.split(face) \n",
        "    img=cv2.merge([r,g,b])\n",
        "    V_data.append(img)\n",
        "    X_data.append(img)\n",
        "  \n",
        "len(X_data)"
      ],
      "execution_count": null,
      "outputs": [
        {
          "output_type": "execute_result",
          "data": {
            "text/plain": [
              "4225"
            ]
          },
          "metadata": {},
          "execution_count": 25
        }
      ]
    },
    {
      "cell_type": "code",
      "metadata": {
        "id": "i9Jv9oTM4Wfv"
      },
      "source": [
        "np.save('/content/drive/MyDrive/Datasets/COVID-19_Radiography_Dataset/Viral Pneumonia', V_data, allow_pickle=True, fix_imports=True)"
      ],
      "execution_count": null,
      "outputs": []
    },
    {
      "cell_type": "code",
      "metadata": {
        "id": "3i6Y1RuC8mGE"
      },
      "source": [
        "N_data= np.load('/content/drive/MyDrive/Datasets/COVID-19_Radiography_Dataset/Normal.npy', mmap_mode=None, allow_pickle=False, fix_imports=True, encoding='ASCII')"
      ],
      "execution_count": null,
      "outputs": []
    },
    {
      "cell_type": "code",
      "metadata": {
        "id": "ietieja28xU5"
      },
      "source": [
        "C_data= np.load('/content/drive/MyDrive/Datasets/COVID-19_Radiography_Dataset/COVID.npy', mmap_mode=None, allow_pickle=False, fix_imports=True, encoding='ASCII')"
      ],
      "execution_count": null,
      "outputs": []
    },
    {
      "cell_type": "code",
      "metadata": {
        "id": "HAprYHOKKdhH"
      },
      "source": [
        "V_data= np.load('/content/drive/MyDrive/Datasets/COVID-19_Radiography_Dataset/Viral Pneumonia.npy', mmap_mode=None, allow_pickle=False, fix_imports=True, encoding='ASCII')"
      ],
      "execution_count": null,
      "outputs": []
    },
    {
      "cell_type": "code",
      "metadata": {
        "id": "M9PJOInAKqU6"
      },
      "source": [
        "X_data = np.concatenate([N_data,C_data,V_data])"
      ],
      "execution_count": null,
      "outputs": []
    },
    {
      "cell_type": "code",
      "metadata": {
        "id": "Cq_0ulKM82Cf",
        "colab": {
          "base_uri": "https://localhost:8080/"
        },
        "outputId": "912f036a-c359-4ee8-982f-149b313dba5b"
      },
      "source": [
        "len(X_data)"
      ],
      "execution_count": null,
      "outputs": [
        {
          "output_type": "execute_result",
          "data": {
            "text/plain": [
              "18033"
            ]
          },
          "metadata": {},
          "execution_count": 9
        }
      ]
    },
    {
      "cell_type": "code",
      "metadata": {
        "colab": {
          "base_uri": "https://localhost:8080/",
          "height": 287
        },
        "id": "WLjGWsNj85MK",
        "outputId": "357b0065-dfda-4609-cc08-0b9e41f0f20c"
      },
      "source": [
        "# Visualizing Training data\n",
        "plt.imshow(X_data[3004])\n"
      ],
      "execution_count": null,
      "outputs": [
        {
          "output_type": "execute_result",
          "data": {
            "text/plain": [
              "<matplotlib.image.AxesImage at 0x7f20b3653e50>"
            ]
          },
          "metadata": {},
          "execution_count": 32
        },
        {
          "output_type": "display_data",
          "data": {
            "image/png": "[encoded data removed]",
            "text/plain": [
              "<Figure size 432x288 with 1 Axes>"
            ]
          },
          "metadata": {
            "needs_background": "light"
          }
        }
      ]
    },
    {
      "cell_type": "code",
      "metadata": {
        "colab": {
          "base_uri": "https://localhost:8080/"
        },
        "id": "XxyK4Uzx886v",
        "outputId": "7494906c-ee5c-4177-84f9-c839b336222e"
      },
      "source": [
        "len(X_data)==len(data_target)\n"
      ],
      "execution_count": null,
      "outputs": [
        {
          "output_type": "execute_result",
          "data": {
            "text/plain": [
              "True"
            ]
          },
          "metadata": {},
          "execution_count": 11
        }
      ]
    },
    {
      "cell_type": "code",
      "metadata": {
        "id": "5Wc_nMn28_mu"
      },
      "source": [
        "X = np.squeeze(X_data)"
      ],
      "execution_count": null,
      "outputs": []
    },
    {
      "cell_type": "code",
      "metadata": {
        "colab": {
          "base_uri": "https://localhost:8080/"
        },
        "id": "ib2AhKlR9B_u",
        "outputId": "84a6f520-2fb2-48e1-ab13-f32c8763b581"
      },
      "source": [
        "X.shape"
      ],
      "execution_count": null,
      "outputs": [
        {
          "output_type": "execute_result",
          "data": {
            "text/plain": [
              "(18033, 224, 224, 3)"
            ]
          },
          "metadata": {},
          "execution_count": 13
        }
      ]
    },
    {
      "cell_type": "code",
      "metadata": {
        "id": "IRUwcCgS9FPE"
      },
      "source": [
        "# normalize data\n",
        "X = X.astype('float16')\n",
        "X /= 255"
      ],
      "execution_count": null,
      "outputs": []
    },
    {
      "cell_type": "code",
      "metadata": {
        "id": "44icugVA9IX9"
      },
      "source": [
        "from sklearn.datasets import make_blobs\n",
        "from sklearn.model_selection import train_test_split\n",
        "X_train, X_rem, y_train, y_rem = train_test_split(X,data_target, train_size=0.8)\n",
        "\n",
        "# Now since we want the valid and test size to be equal (10% each of overall data). \n",
        "# we have to define valid_size=0.5 (that is 50% of remaining data)\n",
        "\n",
        "test_size = 0.5\n",
        "X_valid, X_test, y_valid, y_test = train_test_split(X_rem,y_rem, test_size=0.5)\n"
      ],
      "execution_count": null,
      "outputs": []
    },
    {
      "cell_type": "code",
      "metadata": {
        "colab": {
          "base_uri": "https://localhost:8080/"
        },
        "id": "rE1zopvcQu_E",
        "outputId": "51509b9d-048c-43aa-b1cd-0263397708ee"
      },
      "source": [
        "print(X_train.shape, X_test.shape,X_valid.shape, y_train.shape,y_valid.shape, y_test.shape)"
      ],
      "execution_count": null,
      "outputs": [
        {
          "output_type": "stream",
          "name": "stdout",
          "text": [
            "(14426, 224, 224, 3) (1804, 224, 224, 3) (1803, 224, 224, 3) (14426,) (1803,) (1804,)\n"
          ]
        }
      ]
    },
    {
      "cell_type": "code",
      "metadata": {
        "id": "OpZVmVSyK_qN"
      },
      "source": [
        "N_data=C_data=V_data=X_data=X=[]"
      ],
      "execution_count": null,
      "outputs": []
    },
    {
      "cell_type": "code",
      "metadata": {
        "id": "pg6BBQw69opz"
      },
      "source": [
        "IMAGE_SIZE = [224, 224]"
      ],
      "execution_count": null,
      "outputs": []
    },
    {
      "cell_type": "code",
      "metadata": {
        "id": "idhbmWDPJubX"
      },
      "source": [
        "\n",
        "#from d2l import tensorflow as d2l\n",
        "\n",
        "class Residual(tf.keras.Model):  \n",
        "    \"\"\"The Residual block of ResNet.\"\"\"\n",
        "    def __init__(self, num_channels, use_1x1conv=False, strides=1):\n",
        "        super().__init__()\n",
        "        self.conv1 = tf.keras.layers.Conv2D(num_channels, padding='same',\n",
        "                                            kernel_size=3, strides=strides)\n",
        "        self.conv2 = tf.keras.layers.Conv2D(num_channels, kernel_size=3,\n",
        "                                            padding='same')\n",
        "        self.conv3 = None\n",
        "        if use_1x1conv:\n",
        "            self.conv3 =  tf.keras.layers.Conv2D(num_channels, kernel_size=1,\n",
        "                                                strides=strides)\n",
        "        self.bn1 = tf.keras.layers.BatchNormalization()\n",
        "        self.bn2 = tf.keras.layers.BatchNormalization()\n",
        "\n",
        "    def call(self, X):\n",
        "        Y = tf.keras.activations.relu(self.bn1(self.conv1(X)))\n",
        "        Y = self.bn2(self.conv2(Y))\n",
        "        if self.conv3 is not None:\n",
        "            X = self.conv3(X)\n",
        "        Y += X\n",
        "        return tf.keras.activations.relu(Y)\n"
      ],
      "execution_count": null,
      "outputs": []
    },
    {
      "cell_type": "code",
      "metadata": {
        "id": "KTlU8d6rJ-l_"
      },
      "source": [
        "class ResnetBlock(tf.keras.layers.Layer):\n",
        "    def __init__(self, num_channels, num_residuals, first_block=False,\n",
        "                 **kwargs):\n",
        "        super(ResnetBlock, self).__init__(**kwargs)\n",
        "        self.residual_layers = []\n",
        "        for i in range(num_residuals):\n",
        "            if i == 0 and not first_block:\n",
        "                self.residual_layers.append(\n",
        "                    Residual(num_channels, use_1x1conv=True, strides=2))\n",
        "            else:\n",
        "                self.residual_layers.append(Residual(num_channels))\n",
        "\n",
        "    def call(self, X):\n",
        "        for layer in self.residual_layers.layers:\n",
        "            X = layer(X)\n",
        "        return X"
      ],
      "execution_count": null,
      "outputs": []
    },
    {
      "cell_type": "code",
      "metadata": {
        "colab": {
          "base_uri": "https://localhost:8080/"
        },
        "id": "KEKv1hEuTzvm",
        "outputId": "d4bc1f1a-019f-495a-f6b9-28810d7ec217"
      },
      "source": [
        "from keras.models import Sequential\n",
        "from keras.layers import Dense, Dropout, Flatten, Conv2D, MaxPool2D, BatchNormalization,Permute, TimeDistributed, Bidirectional,GRU\n",
        "from keras.layers import LeakyReLU\n",
        "from keras.optimizers import rmsprop_v2\n",
        "from keras.preprocessing.image import ImageDataGenerator\n",
        "from keras.callbacks import ReduceLROnPlateau\n",
        "hidden_unit = 32\n",
        "kernel_size = 3\n",
        "model = Sequential()\n",
        "model.add(Conv2D(filters = 64, kernel_size = (3,3),padding = 'Same' , activation ='relu',input_shape = (224,224,3)))\n",
        "model.add(BatchNormalization())\n",
        "\n",
        "model.add(ResnetBlock(64, 2, first_block=True))\n",
        "model.add(ResnetBlock(64, 2, first_block=True))\n",
        "model.add(BatchNormalization())\n",
        "\n",
        "model.add(MaxPool2D(pool_size=(2,2),strides=(2,2)))\n",
        "model.add(Dropout(0.25))\n",
        "\n",
        "model.add(ResnetBlock(128, 2))\n",
        "model.add(ResnetBlock(128, 2))\n",
        "model.add(BatchNormalization())\n",
        "\n",
        "model.add(MaxPool2D(pool_size=(2,2), strides=(2,2)))\n",
        "model.add(Dropout(0.25))\n",
        "\n",
        "model.add(ResnetBlock(256, 2))\n",
        "model.add(ResnetBlock(256, 2))\n",
        "model.add(BatchNormalization())\n",
        "\n",
        "model.add(MaxPool2D(pool_size=(1,2), strides=(1,2)))\n",
        "model.add(Dropout(0.25))\n",
        "\n",
        "model.add(TimeDistributed(Flatten()))\n",
        "model.add(Bidirectional(GRU(hidden_unit,return_sequences=True)))\n",
        "model.add(Flatten())\n",
        "model.add(Dense(256 , activation ='relu'))\n",
        "model.add(BatchNormalization())\n",
        "model.add(Dropout(0.25))\n",
        "model.add(Dense(3, activation = \"softmax\"))\n",
        "model.summary()\n"
      ],
      "execution_count": null,
      "outputs": [
        {
          "output_type": "stream",
          "name": "stdout",
          "text": [
            "Model: \"sequential\"\n",
            "_________________________________________________________________\n",
            " Layer (type)                Output Shape              Param #   \n",
            "=================================================================\n",
            " conv2d (Conv2D)             (None, 224, 224, 64)      1792      \n",
            "                                                                 \n",
            " batch_normalization (BatchN  (None, 224, 224, 64)     256       \n",
            " ormalization)                                                   \n",
            "                                                                 \n",
            " resnet_block (ResnetBlock)  (None, 224, 224, 64)      148736    \n",
            "                                                                 \n",
            " resnet_block_1 (ResnetBlock  (None, 224, 224, 64)     148736    \n",
            " )                                                               \n",
            "                                                                 \n",
            " batch_normalization_9 (Batc  (None, 224, 224, 64)     256       \n",
            " hNormalization)                                                 \n",
            "                                                                 \n",
            " max_pooling2d (MaxPooling2D  (None, 112, 112, 64)     0         \n",
            " )                                                               \n",
            "                                                                 \n",
            " dropout (Dropout)           (None, 112, 112, 64)      0         \n",
            "                                                                 \n",
            " resnet_block_2 (ResnetBlock  (None, 56, 56, 128)      526976    \n",
            " )                                                               \n",
            "                                                                 \n",
            " resnet_block_3 (ResnetBlock  (None, 28, 28, 128)      608896    \n",
            " )                                                               \n",
            "                                                                 \n",
            " batch_normalization_18 (Bat  (None, 28, 28, 128)      512       \n",
            " chNormalization)                                                \n",
            "                                                                 \n",
            " max_pooling2d_1 (MaxPooling  (None, 14, 14, 128)      0         \n",
            " 2D)                                                             \n",
            "                                                                 \n",
            " dropout_1 (Dropout)         (None, 14, 14, 128)       0         \n",
            "                                                                 \n",
            " resnet_block_4 (ResnetBlock  (None, 7, 7, 256)        2102528   \n",
            " )                                                               \n",
            "                                                                 \n",
            " resnet_block_5 (ResnetBlock  (None, 4, 4, 256)        2430208   \n",
            " )                                                               \n",
            "                                                                 \n",
            " batch_normalization_27 (Bat  (None, 4, 4, 256)        1024      \n",
            " chNormalization)                                                \n",
            "                                                                 \n",
            " max_pooling2d_2 (MaxPooling  (None, 4, 2, 256)        0         \n",
            " 2D)                                                             \n",
            "                                                                 \n",
            " dropout_2 (Dropout)         (None, 4, 2, 256)         0         \n",
            "                                                                 \n",
            " time_distributed (TimeDistr  (None, 4, 512)           0         \n",
            " ibuted)                                                         \n",
            "                                                                 \n",
            " bidirectional (Bidirectiona  (None, 4, 64)            104832    \n",
            " l)                                                              \n",
            "                                                                 \n",
            " flatten_1 (Flatten)         (None, 256)               0         \n",
            "                                                                 \n",
            " dense (Dense)               (None, 256)               65792     \n",
            "                                                                 \n",
            " batch_normalization_28 (Bat  (None, 256)              1024      \n",
            " chNormalization)                                                \n",
            "                                                                 \n",
            " dropout_3 (Dropout)         (None, 256)               0         \n",
            "                                                                 \n",
            " dense_1 (Dense)             (None, 3)                 771       \n",
            "                                                                 \n",
            "=================================================================\n",
            "Total params: 6,142,339\n",
            "Trainable params: 6,133,635\n",
            "Non-trainable params: 8,704\n",
            "_________________________________________________________________\n"
          ]
        }
      ]
    },
    {
      "cell_type": "code",
      "metadata": {
        "id": "DfUBaOQr9upF"
      },
      "source": [
        "opt = tf.keras.optimizers.SGD(learning_rate=0.001)\n",
        "model.compile(\n",
        "  loss='sparse_categorical_crossentropy',\n",
        "  optimizer=opt,\n",
        "  metrics=['accuracy']\n",
        ")"
      ],
      "execution_count": null,
      "outputs": []
    },
    {
      "cell_type": "code",
      "metadata": {
        "id": "0S4iwUZF9xHu"
      },
      "source": [
        "file_path = os.path.join('/content/drive/MyDrive/Models', 'Threeclass_Residual-Bi-GRU_without_KFold(Updated_dataset)', 'ThreeCLass.h5')\n",
        "from keras.callbacks import EarlyStopping,ModelCheckpoint,ReduceLROnPlateau\n",
        "\n",
        "rlr = ReduceLROnPlateau(monitor = 'val_loss', factor = 0.1, patience = 10, verbose = 1, \n",
        "                                min_delta = 1e-4, min_lr = 1e-6, mode = 'min')\n",
        "ckp = ModelCheckpoint(filepath= file_path,monitor = 'val_loss',\n",
        "                      verbose = 1, save_best_only = True, mode = 'min', save_weights_only = True)"
      ],
      "execution_count": null,
      "outputs": []
    },
    {
      "cell_type": "code",
      "metadata": {
        "colab": {
          "base_uri": "https://localhost:8080/"
        },
        "id": "KOf5rYBd95J7",
        "outputId": "f6ca35da-0fe2-46e7-f3dd-d649190bba6e"
      },
      "source": [
        "fit_history = model.fit(X_train,\n",
        "                        y_train,\n",
        "                        batch_size = 8,\n",
        "                        shuffle = True,\n",
        "                        epochs = 50,\n",
        "                        #initial_epoch=10,\n",
        "                        validation_data = (X_valid,y_valid),\n",
        "                        callbacks=[rlr,ckp])\n",
        "        "
      ],
      "execution_count": null,
      "outputs": [
        {
          "output_type": "stream",
          "name": "stdout",
          "text": [
            "Epoch 1/50\n",
            "1804/1804 [==============================] - ETA: 0s - loss: 0.8100 - accuracy: 0.6729\n",
            "Epoch 00001: val_loss improved from inf to 0.54974, saving model to /content/drive/MyDrive/Models/Threeclass_Residual-Bi-GRU_without_KFold(Updated_dataset)/ThreeCLass.h5\n",
            "1804/1804 [==============================] - 295s 151ms/step - loss: 0.8100 - accuracy: 0.6729 - val_loss: 0.5497 - val_accuracy: 0.7820 - lr: 0.0010\n",
            "Epoch 2/50\n",
            "1804/1804 [==============================] - ETA: 0s - loss: 0.5577 - accuracy: 0.7763\n",
            "Epoch 00002: val_loss improved from 0.54974 to 0.32903, saving model to /content/drive/MyDrive/Models/Threeclass_Residual-Bi-GRU_without_KFold(Updated_dataset)/ThreeCLass.h5\n",
            "1804/1804 [==============================] - 268s 149ms/step - loss: 0.5577 - accuracy: 0.7763 - val_loss: 0.3290 - val_accuracy: 0.8674 - lr: 0.0010\n",
            "Epoch 3/50\n",
            "1804/1804 [==============================] - ETA: 0s - loss: 0.4721 - accuracy: 0.8121\n",
            "Epoch 00003: val_loss did not improve from 0.32903\n",
            "1804/1804 [==============================] - 267s 148ms/step - loss: 0.4721 - accuracy: 0.8121 - val_loss: 0.3504 - val_accuracy: 0.8647 - lr: 0.0010\n",
            "Epoch 4/50\n",
            "1804/1804 [==============================] - ETA: 0s - loss: 0.4236 - accuracy: 0.8343\n",
            "Epoch 00004: val_loss improved from 0.32903 to 0.29548, saving model to /content/drive/MyDrive/Models/Threeclass_Residual-Bi-GRU_without_KFold(Updated_dataset)/ThreeCLass.h5\n",
            "1804/1804 [==============================] - 268s 149ms/step - loss: 0.4236 - accuracy: 0.8343 - val_loss: 0.2955 - val_accuracy: 0.8869 - lr: 0.0010\n",
            "Epoch 5/50\n",
            "1804/1804 [==============================] - ETA: 0s - loss: 0.3843 - accuracy: 0.8521\n",
            "Epoch 00005: val_loss improved from 0.29548 to 0.28307, saving model to /content/drive/MyDrive/Models/Threeclass_Residual-Bi-GRU_without_KFold(Updated_dataset)/ThreeCLass.h5\n",
            "1804/1804 [==============================] - 267s 148ms/step - loss: 0.3843 - accuracy: 0.8521 - val_loss: 0.2831 - val_accuracy: 0.8946 - lr: 0.0010\n",
            "Epoch 6/50\n",
            "1804/1804 [==============================] - ETA: 0s - loss: 0.3431 - accuracy: 0.8686\n",
            "Epoch 00006: val_loss improved from 0.28307 to 0.26213, saving model to /content/drive/MyDrive/Models/Threeclass_Residual-Bi-GRU_without_KFold(Updated_dataset)/ThreeCLass.h5\n",
            "1804/1804 [==============================] - 269s 149ms/step - loss: 0.3431 - accuracy: 0.8686 - val_loss: 0.2621 - val_accuracy: 0.9018 - lr: 0.0010\n",
            "Epoch 7/50\n",
            "1804/1804 [==============================] - ETA: 0s - loss: 0.3167 - accuracy: 0.8818\n",
            "Epoch 00007: val_loss did not improve from 0.26213\n",
            "1804/1804 [==============================] - 268s 148ms/step - loss: 0.3167 - accuracy: 0.8818 - val_loss: 0.2758 - val_accuracy: 0.8913 - lr: 0.0010\n",
            "Epoch 8/50\n",
            "1804/1804 [==============================] - ETA: 0s - loss: 0.2886 - accuracy: 0.8935\n",
            "Epoch 00008: val_loss improved from 0.26213 to 0.24439, saving model to /content/drive/MyDrive/Models/Threeclass_Residual-Bi-GRU_without_KFold(Updated_dataset)/ThreeCLass.h5\n",
            "1804/1804 [==============================] - 269s 149ms/step - loss: 0.2886 - accuracy: 0.8935 - val_loss: 0.2444 - val_accuracy: 0.9035 - lr: 0.0010\n",
            "Epoch 9/50\n",
            "1804/1804 [==============================] - ETA: 0s - loss: 0.2826 - accuracy: 0.8948\n",
            "Epoch 00009: val_loss improved from 0.24439 to 0.21599, saving model to /content/drive/MyDrive/Models/Threeclass_Residual-Bi-GRU_without_KFold(Updated_dataset)/ThreeCLass.h5\n",
            "1804/1804 [==============================] - 269s 149ms/step - loss: 0.2826 - accuracy: 0.8948 - val_loss: 0.2160 - val_accuracy: 0.9146 - lr: 0.0010\n",
            "Epoch 10/50\n",
            "1804/1804 [==============================] - ETA: 0s - loss: 0.2534 - accuracy: 0.9058\n",
            "Epoch 00010: val_loss improved from 0.21599 to 0.20558, saving model to /content/drive/MyDrive/Models/Threeclass_Residual-Bi-GRU_without_KFold(Updated_dataset)/ThreeCLass.h5\n",
            "1804/1804 [==============================] - 271s 150ms/step - loss: 0.2534 - accuracy: 0.9058 - val_loss: 0.2056 - val_accuracy: 0.9240 - lr: 0.0010\n",
            "Epoch 11/50\n",
            "1804/1804 [==============================] - ETA: 0s - loss: 0.2425 - accuracy: 0.9135\n",
            "Epoch 00011: val_loss did not improve from 0.20558\n",
            "1804/1804 [==============================] - 269s 149ms/step - loss: 0.2425 - accuracy: 0.9135 - val_loss: 0.2994 - val_accuracy: 0.8863 - lr: 0.0010\n",
            "Epoch 12/50\n",
            "1804/1804 [==============================] - ETA: 0s - loss: 0.2348 - accuracy: 0.9157\n",
            "Epoch 00012: val_loss improved from 0.20558 to 0.20490, saving model to /content/drive/MyDrive/Models/Threeclass_Residual-Bi-GRU_without_KFold(Updated_dataset)/ThreeCLass.h5\n",
            "1804/1804 [==============================] - 271s 150ms/step - loss: 0.2348 - accuracy: 0.9157 - val_loss: 0.2049 - val_accuracy: 0.9318 - lr: 0.0010\n",
            "Epoch 13/50\n",
            "1804/1804 [==============================] - ETA: 0s - loss: 0.2176 - accuracy: 0.9224\n",
            "Epoch 00013: val_loss improved from 0.20490 to 0.17474, saving model to /content/drive/MyDrive/Models/Threeclass_Residual-Bi-GRU_without_KFold(Updated_dataset)/ThreeCLass.h5\n",
            "1804/1804 [==============================] - 270s 149ms/step - loss: 0.2176 - accuracy: 0.9224 - val_loss: 0.1747 - val_accuracy: 0.9401 - lr: 0.0010\n",
            "Epoch 14/50\n",
            "1804/1804 [==============================] - ETA: 0s - loss: 0.2034 - accuracy: 0.9261\n",
            "Epoch 00014: val_loss did not improve from 0.17474\n",
            "1804/1804 [==============================] - 268s 149ms/step - loss: 0.2034 - accuracy: 0.9261 - val_loss: 0.1778 - val_accuracy: 0.9334 - lr: 0.0010\n",
            "Epoch 15/50\n",
            "1804/1804 [==============================] - ETA: 0s - loss: 0.1819 - accuracy: 0.9389\n",
            "Epoch 00015: val_loss did not improve from 0.17474\n",
            "1804/1804 [==============================] - 268s 149ms/step - loss: 0.1819 - accuracy: 0.9389 - val_loss: 0.6603 - val_accuracy: 0.8181 - lr: 0.0010\n",
            "Epoch 16/50\n",
            "1804/1804 [==============================] - ETA: 0s - loss: 0.1703 - accuracy: 0.9396\n",
            "Epoch 00016: val_loss improved from 0.17474 to 0.12638, saving model to /content/drive/MyDrive/Models/Threeclass_Residual-Bi-GRU_without_KFold(Updated_dataset)/ThreeCLass.h5\n",
            "1804/1804 [==============================] - 269s 149ms/step - loss: 0.1703 - accuracy: 0.9396 - val_loss: 0.1264 - val_accuracy: 0.9578 - lr: 0.0010\n",
            "Epoch 17/50\n",
            "1804/1804 [==============================] - ETA: 0s - loss: 0.1639 - accuracy: 0.9433\n",
            "Epoch 00017: val_loss did not improve from 0.12638\n",
            "1804/1804 [==============================] - 268s 149ms/step - loss: 0.1639 - accuracy: 0.9433 - val_loss: 0.1511 - val_accuracy: 0.9473 - lr: 0.0010\n",
            "Epoch 18/50\n",
            "1804/1804 [==============================] - ETA: 0s - loss: 0.1481 - accuracy: 0.9493\n",
            "Epoch 00018: val_loss did not improve from 0.12638\n",
            "1804/1804 [==============================] - 268s 149ms/step - loss: 0.1481 - accuracy: 0.9493 - val_loss: 0.1660 - val_accuracy: 0.9434 - lr: 0.0010\n",
            "Epoch 19/50\n",
            "1804/1804 [==============================] - ETA: 0s - loss: 0.1416 - accuracy: 0.9509\n",
            "Epoch 00019: val_loss did not improve from 0.12638\n",
            "1804/1804 [==============================] - 267s 148ms/step - loss: 0.1416 - accuracy: 0.9509 - val_loss: 0.1543 - val_accuracy: 0.9445 - lr: 0.0010\n",
            "Epoch 20/50\n",
            "1804/1804 [==============================] - ETA: 0s - loss: 0.1335 - accuracy: 0.9556\n",
            "Epoch 00020: val_loss did not improve from 0.12638\n",
            "1804/1804 [==============================] - 267s 148ms/step - loss: 0.1335 - accuracy: 0.9556 - val_loss: 0.1370 - val_accuracy: 0.9512 - lr: 0.0010\n",
            "Epoch 21/50\n",
            "1804/1804 [==============================] - ETA: 0s - loss: 0.1228 - accuracy: 0.9597\n",
            "Epoch 00021: val_loss improved from 0.12638 to 0.11171, saving model to /content/drive/MyDrive/Models/Threeclass_Residual-Bi-GRU_without_KFold(Updated_dataset)/ThreeCLass.h5\n",
            "1804/1804 [==============================] - 268s 148ms/step - loss: 0.1228 - accuracy: 0.9597 - val_loss: 0.1117 - val_accuracy: 0.9628 - lr: 0.0010\n",
            "Epoch 22/50\n",
            "1804/1804 [==============================] - ETA: 0s - loss: 0.1110 - accuracy: 0.9628\n",
            "Epoch 00022: val_loss did not improve from 0.11171\n",
            "1804/1804 [==============================] - 267s 148ms/step - loss: 0.1110 - accuracy: 0.9628 - val_loss: 0.1683 - val_accuracy: 0.9473 - lr: 0.0010\n",
            "Epoch 23/50\n",
            "1804/1804 [==============================] - ETA: 0s - loss: 0.1021 - accuracy: 0.9660\n",
            "Epoch 00023: val_loss did not improve from 0.11171\n",
            "1804/1804 [==============================] - 267s 148ms/step - loss: 0.1021 - accuracy: 0.9660 - val_loss: 0.1421 - val_accuracy: 0.9545 - lr: 0.0010\n",
            "Epoch 24/50\n",
            "1804/1804 [==============================] - ETA: 0s - loss: 0.0989 - accuracy: 0.9666\n",
            "Epoch 00024: val_loss did not improve from 0.11171\n",
            "1804/1804 [==============================] - 268s 148ms/step - loss: 0.0989 - accuracy: 0.9666 - val_loss: 0.1262 - val_accuracy: 0.9634 - lr: 0.0010\n",
            "Epoch 25/50\n",
            "1804/1804 [==============================] - ETA: 0s - loss: 0.0960 - accuracy: 0.9683\n",
            "Epoch 00025: val_loss did not improve from 0.11171\n",
            "1804/1804 [==============================] - 269s 149ms/step - loss: 0.0960 - accuracy: 0.9683 - val_loss: 0.1414 - val_accuracy: 0.9545 - lr: 0.0010\n",
            "Epoch 26/50\n",
            "1804/1804 [==============================] - ETA: 0s - loss: 0.0842 - accuracy: 0.9726\n",
            "Epoch 00026: val_loss improved from 0.11171 to 0.10332, saving model to /content/drive/MyDrive/Models/Threeclass_Residual-Bi-GRU_without_KFold(Updated_dataset)/ThreeCLass.h5\n",
            "1804/1804 [==============================] - 270s 150ms/step - loss: 0.0842 - accuracy: 0.9726 - val_loss: 0.1033 - val_accuracy: 0.9667 - lr: 0.0010\n",
            "Epoch 27/50\n",
            "1804/1804 [==============================] - ETA: 0s - loss: 0.0840 - accuracy: 0.9719\n",
            "Epoch 00027: val_loss did not improve from 0.10332\n",
            "1804/1804 [==============================] - 270s 149ms/step - loss: 0.0840 - accuracy: 0.9719 - val_loss: 0.1763 - val_accuracy: 0.9445 - lr: 0.0010\n",
            "Epoch 28/50\n",
            "1804/1804 [==============================] - ETA: 0s - loss: 0.0867 - accuracy: 0.9714\n",
            "Epoch 00028: val_loss improved from 0.10332 to 0.10256, saving model to /content/drive/MyDrive/Models/Threeclass_Residual-Bi-GRU_without_KFold(Updated_dataset)/ThreeCLass.h5\n",
            "1804/1804 [==============================] - 271s 150ms/step - loss: 0.0867 - accuracy: 0.9714 - val_loss: 0.1026 - val_accuracy: 0.9678 - lr: 0.0010\n",
            "Epoch 29/50\n",
            "1804/1804 [==============================] - ETA: 0s - loss: 0.0732 - accuracy: 0.9778\n",
            "Epoch 00029: val_loss improved from 0.10256 to 0.09129, saving model to /content/drive/MyDrive/Models/Threeclass_Residual-Bi-GRU_without_KFold(Updated_dataset)/ThreeCLass.h5\n",
            "1804/1804 [==============================] - 270s 150ms/step - loss: 0.0732 - accuracy: 0.9778 - val_loss: 0.0913 - val_accuracy: 0.9712 - lr: 0.0010\n",
            "Epoch 30/50\n",
            "1804/1804 [==============================] - ETA: 0s - loss: 0.0667 - accuracy: 0.9784\n",
            "Epoch 00030: val_loss did not improve from 0.09129\n",
            "1804/1804 [==============================] - 270s 150ms/step - loss: 0.0667 - accuracy: 0.9784 - val_loss: 0.0983 - val_accuracy: 0.9706 - lr: 0.0010\n",
            "Epoch 31/50\n",
            "1804/1804 [==============================] - ETA: 0s - loss: 0.0649 - accuracy: 0.9785\n",
            "Epoch 00031: val_loss did not improve from 0.09129\n",
            "1804/1804 [==============================] - 270s 149ms/step - loss: 0.0649 - accuracy: 0.9785 - val_loss: 0.0927 - val_accuracy: 0.9717 - lr: 0.0010\n",
            "Epoch 32/50\n",
            "1804/1804 [==============================] - ETA: 0s - loss: 0.0636 - accuracy: 0.9811\n",
            "Epoch 00032: val_loss did not improve from 0.09129\n",
            "1804/1804 [==============================] - 269s 149ms/step - loss: 0.0636 - accuracy: 0.9811 - val_loss: 0.1787 - val_accuracy: 0.9462 - lr: 0.0010\n",
            "Epoch 33/50\n",
            "1804/1804 [==============================] - ETA: 0s - loss: 0.0655 - accuracy: 0.9796\n",
            "Epoch 00033: val_loss did not improve from 0.09129\n",
            "1804/1804 [==============================] - 270s 150ms/step - loss: 0.0655 - accuracy: 0.9796 - val_loss: 0.1175 - val_accuracy: 0.9695 - lr: 0.0010\n",
            "Epoch 34/50\n",
            "1804/1804 [==============================] - ETA: 0s - loss: 0.0602 - accuracy: 0.9823\n",
            "Epoch 00034: val_loss improved from 0.09129 to 0.08162, saving model to /content/drive/MyDrive/Models/Threeclass_Residual-Bi-GRU_without_KFold(Updated_dataset)/ThreeCLass.h5\n",
            "1804/1804 [==============================] - 271s 150ms/step - loss: 0.0602 - accuracy: 0.9823 - val_loss: 0.0816 - val_accuracy: 0.9789 - lr: 0.0010\n",
            "Epoch 35/50\n",
            "1804/1804 [==============================] - ETA: 0s - loss: 0.0538 - accuracy: 0.9832\n",
            "Epoch 00035: val_loss did not improve from 0.08162\n",
            "1804/1804 [==============================] - 269s 149ms/step - loss: 0.0538 - accuracy: 0.9832 - val_loss: 0.1269 - val_accuracy: 0.9684 - lr: 0.0010\n",
            "Epoch 36/50\n",
            "1804/1804 [==============================] - ETA: 0s - loss: 0.0553 - accuracy: 0.9832\n",
            "Epoch 00036: val_loss did not improve from 0.08162\n",
            "1804/1804 [==============================] - 270s 149ms/step - loss: 0.0553 - accuracy: 0.9832 - val_loss: 0.1056 - val_accuracy: 0.9734 - lr: 0.0010\n",
            "Epoch 37/50\n",
            "1804/1804 [==============================] - ETA: 0s - loss: 0.0452 - accuracy: 0.9861\n",
            "Epoch 00037: val_loss did not improve from 0.08162\n",
            "1804/1804 [==============================] - 270s 149ms/step - loss: 0.0452 - accuracy: 0.9861 - val_loss: 0.1125 - val_accuracy: 0.9684 - lr: 0.0010\n",
            "Epoch 38/50\n",
            "1804/1804 [==============================] - ETA: 0s - loss: 0.0397 - accuracy: 0.9881\n",
            "Epoch 00038: val_loss did not improve from 0.08162\n",
            "1804/1804 [==============================] - 269s 149ms/step - loss: 0.0397 - accuracy: 0.9881 - val_loss: 0.1016 - val_accuracy: 0.9717 - lr: 0.0010\n",
            "Epoch 39/50\n",
            "1804/1804 [==============================] - ETA: 0s - loss: 0.0425 - accuracy: 0.9877\n",
            "Epoch 00039: val_loss did not improve from 0.08162\n",
            "1804/1804 [==============================] - 269s 149ms/step - loss: 0.0425 - accuracy: 0.9877 - val_loss: 0.0991 - val_accuracy: 0.9695 - lr: 0.0010\n",
            "Epoch 40/50\n",
            "1804/1804 [==============================] - ETA: 0s - loss: 0.0381 - accuracy: 0.9890\n",
            "Epoch 00040: val_loss did not improve from 0.08162\n",
            "1804/1804 [==============================] - 269s 149ms/step - loss: 0.0381 - accuracy: 0.9890 - val_loss: 0.0909 - val_accuracy: 0.9778 - lr: 0.0010\n",
            "Epoch 41/50\n",
            "1804/1804 [==============================] - ETA: 0s - loss: 0.0385 - accuracy: 0.9888\n",
            "Epoch 00041: val_loss did not improve from 0.08162\n",
            "1804/1804 [==============================] - 269s 149ms/step - loss: 0.0385 - accuracy: 0.9888 - val_loss: 0.1699 - val_accuracy: 0.9601 - lr: 0.0010\n",
            "Epoch 42/50\n",
            "1804/1804 [==============================] - ETA: 0s - loss: 0.0394 - accuracy: 0.9875\n",
            "Epoch 00042: val_loss did not improve from 0.08162\n",
            "1804/1804 [==============================] - 270s 149ms/step - loss: 0.0394 - accuracy: 0.9875 - val_loss: 0.1116 - val_accuracy: 0.9728 - lr: 0.0010\n",
            "Epoch 43/50\n",
            "1804/1804 [==============================] - ETA: 0s - loss: 0.0407 - accuracy: 0.9881\n",
            "Epoch 00043: val_loss did not improve from 0.08162\n",
            "1804/1804 [==============================] - 269s 149ms/step - loss: 0.0407 - accuracy: 0.9881 - val_loss: 0.1162 - val_accuracy: 0.9728 - lr: 0.0010\n",
            "Epoch 44/50\n",
            "1804/1804 [==============================] - ETA: 0s - loss: 0.0315 - accuracy: 0.9908\n",
            "Epoch 00044: ReduceLROnPlateau reducing learning rate to 0.00010000000474974513.\n",
            "\n",
            "Epoch 00044: val_loss did not improve from 0.08162\n",
            "1804/1804 [==============================] - 270s 150ms/step - loss: 0.0315 - accuracy: 0.9908 - val_loss: 0.1162 - val_accuracy: 0.9712 - lr: 0.0010\n",
            "Epoch 45/50\n",
            "1804/1804 [==============================] - ETA: 0s - loss: 0.0323 - accuracy: 0.9904\n",
            "Epoch 00045: val_loss did not improve from 0.08162\n",
            "1804/1804 [==============================] - 270s 150ms/step - loss: 0.0323 - accuracy: 0.9904 - val_loss: 0.0965 - val_accuracy: 0.9756 - lr: 1.0000e-04\n",
            "Epoch 46/50\n",
            "1804/1804 [==============================] - ETA: 0s - loss: 0.0241 - accuracy: 0.9929\n",
            "Epoch 00046: val_loss did not improve from 0.08162\n",
            "1804/1804 [==============================] - 269s 149ms/step - loss: 0.0241 - accuracy: 0.9929 - val_loss: 0.0870 - val_accuracy: 0.9789 - lr: 1.0000e-04\n",
            "Epoch 47/50\n",
            "1804/1804 [==============================] - ETA: 0s - loss: 0.0248 - accuracy: 0.9931\n",
            "Epoch 00047: val_loss did not improve from 0.08162\n",
            "1804/1804 [==============================] - 270s 150ms/step - loss: 0.0248 - accuracy: 0.9931 - val_loss: 0.0891 - val_accuracy: 0.9773 - lr: 1.0000e-04\n",
            "Epoch 48/50\n",
            "1804/1804 [==============================] - ETA: 0s - loss: 0.0198 - accuracy: 0.9953\n",
            "Epoch 00048: val_loss did not improve from 0.08162\n",
            "1804/1804 [==============================] - 268s 149ms/step - loss: 0.0198 - accuracy: 0.9953 - val_loss: 0.0855 - val_accuracy: 0.9806 - lr: 1.0000e-04\n",
            "Epoch 49/50\n",
            "1804/1804 [==============================] - ETA: 0s - loss: 0.0230 - accuracy: 0.9943\n",
            "Epoch 00049: val_loss did not improve from 0.08162\n",
            "1804/1804 [==============================] - 268s 149ms/step - loss: 0.0230 - accuracy: 0.9943 - val_loss: 0.0853 - val_accuracy: 0.9811 - lr: 1.0000e-04\n",
            "Epoch 50/50\n",
            "1804/1804 [==============================] - ETA: 0s - loss: 0.0237 - accuracy: 0.9940\n",
            "Epoch 00050: val_loss did not improve from 0.08162\n",
            "1804/1804 [==============================] - 268s 149ms/step - loss: 0.0237 - accuracy: 0.9940 - val_loss: 0.0890 - val_accuracy: 0.9795 - lr: 1.0000e-04\n"
          ]
        }
      ]
    },
    {
      "cell_type": "code",
      "metadata": {
        "colab": {
          "base_uri": "https://localhost:8080/",
          "height": 573
        },
        "id": "Jfht8a9czeyS",
        "outputId": "85a37dbb-8156-452e-9e13-d2d185ae4487"
      },
      "source": [
        "# summarize history for accuracy\n",
        "plt.plot(fit_history.history['accuracy'])\n",
        "plt.plot(fit_history.history['val_accuracy'])\n",
        "plt.title('model accuracy')\n",
        "plt.ylabel('accuracy')\n",
        "plt.xlabel('epoch')\n",
        "plt.legend(['train', 'test'], loc='upper left')\n",
        "plt.show()\n",
        "# summarize history for loss\n",
        "plt.plot(fit_history.history['loss'])\n",
        "plt.plot(fit_history.history['val_loss'])\n",
        "plt.title('model loss')\n",
        "plt.ylabel('loss')\n",
        "plt.xlabel('epoch')\n",
        "plt.legend(['train', 'test'], loc='upper left')\n",
        "plt.show()"
      ],
      "execution_count": null,
      "outputs": [
        {
          "output_type": "display_data",
          "data": {
            "image/png": "[encoded data removed]",
            "text/plain": [
              "<Figure size 432x288 with 1 Axes>"
            ]
          },
          "metadata": {
            "needs_background": "light"
          }
        },
        {
          "output_type": "display_data",
          "data": {
            "image/png": "[encoded data removed]",
            "text/plain": [
              "<Figure size 432x288 with 1 Axes>"
            ]
          },
          "metadata": {
            "needs_background": "light"
          }
        }
      ]
    },
    {
      "cell_type": "code",
      "metadata": {
        "colab": {
          "base_uri": "https://localhost:8080/"
        },
        "id": "WGWayBpkzzY8",
        "outputId": "8f1545e1-1366-48c4-e5a8-847e9a47b55a"
      },
      "source": [
        "from tensorflow.math import confusion_matrix\n",
        "from sklearn.metrics import accuracy_score\n",
        "\n",
        "#actual =  valid_data.labels\n",
        "preds = np.argmax(model.predict(X_test), axis=1)\n",
        "cfmx = confusion_matrix(y_test, preds)\n",
        "acc = accuracy_score(y_test,preds)\n",
        "print ('Test Accuracy:', acc )\n",
        "print('Confusion matrix:', cfmx)"
      ],
      "execution_count": null,
      "outputs": [
        {
          "output_type": "stream",
          "name": "stdout",
          "text": [
            "Test Accuracy: 0.9839246119733924\n",
            "Confusion matrix: tf.Tensor(\n",
            "[[976   6   2]\n",
            " [ 15 362   3]\n",
            " [  2   1 437]], shape=(3, 3), dtype=int32)\n"
          ]
        }
      ]
    },
    {
      "cell_type": "code",
      "metadata": {
        "colab": {
          "base_uri": "https://localhost:8080/",
          "height": 310
        },
        "id": "7hilFuJnz5q1",
        "outputId": "2471dc00-2603-4315-ff9e-8d26ba011171"
      },
      "source": [
        "from sklearn.svm import SVC\n",
        "import pandas as pd\n",
        "import seaborn as sns\n",
        "from sklearn.metrics import accuracy_score, confusion_matrix, precision_recall_fscore_support\n",
        "\n",
        "\n",
        "# Creates a confusion matrix\n",
        "cm = confusion_matrix(y_test, preds) \n",
        "\n",
        "# Transform to df for easier plotting\n",
        "cm_df = pd.DataFrame(cm,\n",
        "                     index = ['Normal','COVID', 'Viral Pneumonia'], \n",
        "                     columns = ['Normal','COVID', 'Viral Pneumonia'])\n",
        "\n",
        "plt.figure(figsize=(5.5,4))\n",
        "sns.heatmap(cm_df, annot=True, cmap='Blues')\n",
        "plt.title('CNN-Bi_GRU \\n Test Accuracy:{0:.3f}'.format(accuracy_score(y_test, preds)))\n",
        "plt.ylabel('True label')\n",
        "plt.xlabel('Predicted label')\n",
        "plt.show()"
      ],
      "execution_count": null,
      "outputs": [
        {
          "output_type": "display_data",
          "data": {
            "image/png": "[encoded data removed]",
            "text/plain": [
              "<Figure size 396x288 with 2 Axes>"
            ]
          },
          "metadata": {
            "needs_background": "light"
          }
        }
      ]
    },
    {
      "cell_type": "code",
      "metadata": {
        "colab": {
          "base_uri": "https://localhost:8080/"
        },
        "id": "Ff4WJwDE0Ekw",
        "outputId": "61b505e9-baea-4a63-b314-31bac8fb847c"
      },
      "source": [
        "scores = model.evaluate(X_test, y_test, verbose=1)\n",
        "print(\"%s: %.2f%%\" % (model.metrics_names[1], scores[1]*100))"
      ],
      "execution_count": null,
      "outputs": [
        {
          "output_type": "stream",
          "name": "stdout",
          "text": [
            "57/57 [==============================] - 9s 150ms/step - loss: 0.0739 - accuracy: 0.9839\n",
            "accuracy: 98.39%\n"
          ]
        }
      ]
    },
    {
      "cell_type": "code",
      "metadata": {
        "colab": {
          "base_uri": "https://localhost:8080/"
        },
        "id": "l5XoP2CX0Jb7",
        "outputId": "0ca009df-586f-4378-e71e-9f5ccc636059"
      },
      "source": [
        "from sklearn.metrics import classification_report\n",
        "print(classification_report(y_test,preds))"
      ],
      "execution_count": null,
      "outputs": [
        {
          "output_type": "stream",
          "name": "stdout",
          "text": [
            "              precision    recall  f1-score   support\n",
            "\n",
            "           0       0.98      0.99      0.99       984\n",
            "           1       0.98      0.95      0.97       380\n",
            "           2       0.99      0.99      0.99       440\n",
            "\n",
            "    accuracy                           0.98      1804\n",
            "   macro avg       0.98      0.98      0.98      1804\n",
            "weighted avg       0.98      0.98      0.98      1804\n",
            "\n"
          ]
        }
      ]
    },
    {
      "cell_type": "code",
      "metadata": {
        "colab": {
          "base_uri": "https://localhost:8080/"
        },
        "id": "Mm6SuSYU0NJV",
        "outputId": "dcc501c5-eca1-4b03-e795-cd111e6d868f"
      },
      "source": [
        "from sklearn.metrics import precision_score,recall_score,f1_score\n",
        "precision = precision_score(y_test, preds, average='weighted')\n",
        "print('Precision: %.3f' % precision)\n",
        "recall = recall_score(y_test, preds, average='weighted')\n",
        "print('Recall: %.3f' % recall)\n",
        "score = f1_score(y_test, preds, average='weighted')\n",
        "print('F-Measure: %.3f' % score)"
      ],
      "execution_count": null,
      "outputs": [
        {
          "output_type": "stream",
          "name": "stdout",
          "text": [
            "Precision: 0.984\n",
            "Recall: 0.984\n",
            "F-Measure: 0.984\n"
          ]
        }
      ]
    },
    {
      "cell_type": "markdown",
      "metadata": {
        "id": "2awLMqvwAZlI"
      },
      "source": [
        "# **Evaluation on External Cohort**"
      ]
    },
    {
      "cell_type": "code",
      "metadata": {
        "colab": {
          "base_uri": "https://localhost:8080/"
        },
        "id": "NG5krY2TAexS",
        "outputId": "78831995-1296-4c2c-a8e5-59f2eaeaf89b"
      },
      "source": [
        "img_size = 224\n",
        "batch_size = 8\n",
        "train_data_dir='/content/drive/MyDrive/Datasets/Curated X-Ray Dataset/3 class'\n",
        "\n",
        "train_datagen = ImageDataGenerator(rescale=1./255,\n",
        "    validation_split=0.1) # set validation split\n",
        "\n",
        "train_generator = train_datagen.flow_from_directory(\n",
        "    train_data_dir,\n",
        "    target_size=(224,224),\n",
        "    batch_size=batch_size,\n",
        "    shuffle = True,\n",
        "    class_mode='categorical',\n",
        "    subset='training') # set as training data\n",
        "\n",
        "validation_generator = train_datagen.flow_from_directory(\n",
        "    train_data_dir, # same directory as training data\n",
        "    target_size=(224, 224),\n",
        "    batch_size=batch_size,\n",
        "    shuffle=False,\n",
        "    class_mode='categorical',\n",
        "    subset='validation') # set as validation data\n"
      ],
      "execution_count": null,
      "outputs": [
        {
          "output_type": "stream",
          "name": "stdout",
          "text": [
            "Found 8107 images belonging to 3 classes.\n",
            "Found 900 images belonging to 3 classes.\n"
          ]
        }
      ]
    },
    {
      "cell_type": "code",
      "metadata": {
        "colab": {
          "base_uri": "https://localhost:8080/"
        },
        "id": "m2d8s2vBBCjd",
        "outputId": "ef9caa3d-e431-4d16-c598-5fa4d238dc4f"
      },
      "source": [
        "validation_generator.class_indices"
      ],
      "execution_count": null,
      "outputs": [
        {
          "output_type": "execute_result",
          "data": {
            "text/plain": [
              "{'1-Normal': 0, '2-COVID-19': 1, '3-Pneumonia-Viral': 2}"
            ]
          },
          "metadata": {},
          "execution_count": 21
        }
      ]
    },
    {
      "cell_type": "code",
      "metadata": {
        "id": "9_9J2ElkCFAs"
      },
      "source": [
        "\n",
        "#from d2l import tensorflow as d2l\n",
        "\n",
        "class Residual(tf.keras.Model):  \n",
        "    \"\"\"The Residual block of ResNet.\"\"\"\n",
        "    def __init__(self, num_channels, use_1x1conv=False, strides=1):\n",
        "        super().__init__()\n",
        "        self.conv1 = tf.keras.layers.Conv2D(num_channels, padding='same',\n",
        "                                            kernel_size=3, strides=strides)\n",
        "        self.conv2 = tf.keras.layers.Conv2D(num_channels, kernel_size=3,\n",
        "                                            padding='same')\n",
        "        self.conv3 = None\n",
        "        if use_1x1conv:\n",
        "            self.conv3 =  tf.keras.layers.Conv2D(num_channels, kernel_size=1,\n",
        "                                                strides=strides)\n",
        "        self.bn1 = tf.keras.layers.BatchNormalization()\n",
        "        self.bn2 = tf.keras.layers.BatchNormalization()\n",
        "\n",
        "    def call(self, X):\n",
        "        Y = tf.keras.activations.relu(self.bn1(self.conv1(X)))\n",
        "        Y = self.bn2(self.conv2(Y))\n",
        "        if self.conv3 is not None:\n",
        "            X = self.conv3(X)\n",
        "        Y += X\n",
        "        return tf.keras.activations.relu(Y)\n"
      ],
      "execution_count": null,
      "outputs": []
    },
    {
      "cell_type": "code",
      "metadata": {
        "id": "iwVaud0FCFAt"
      },
      "source": [
        "class ResnetBlock(tf.keras.layers.Layer):\n",
        "    def __init__(self, num_channels, num_residuals, first_block=False,\n",
        "                 **kwargs):\n",
        "        super(ResnetBlock, self).__init__(**kwargs)\n",
        "        self.residual_layers = []\n",
        "        for i in range(num_residuals):\n",
        "            if i == 0 and not first_block:\n",
        "                self.residual_layers.append(\n",
        "                    Residual(num_channels, use_1x1conv=True, strides=2))\n",
        "            else:\n",
        "                self.residual_layers.append(Residual(num_channels))\n",
        "\n",
        "    def call(self, X):\n",
        "        for layer in self.residual_layers.layers:\n",
        "            X = layer(X)\n",
        "        return X"
      ],
      "execution_count": null,
      "outputs": []
    },
    {
      "cell_type": "code",
      "metadata": {
        "colab": {
          "base_uri": "https://localhost:8080/"
        },
        "id": "Dz6iRS_GB2rw",
        "outputId": "9d786d98-fe58-4d4e-995e-3e0b31ec67f7"
      },
      "source": [
        "from keras.models import Sequential\n",
        "from keras.layers import Dense, Dropout, Flatten, Conv2D, MaxPool2D, BatchNormalization,Permute, TimeDistributed, Bidirectional,GRU\n",
        "from keras.layers import LeakyReLU\n",
        "from keras.optimizers import rmsprop_v2\n",
        "from keras.preprocessing.image import ImageDataGenerator\n",
        "from keras.callbacks import ReduceLROnPlateau\n",
        "hidden_unit = 32\n",
        "kernel_size = 3\n",
        "model = Sequential()\n",
        "model.add(Conv2D(filters = 64, kernel_size = (3,3),padding = 'Same' , activation ='relu',input_shape = (224,224,3)))\n",
        "model.add(BatchNormalization())\n",
        "\n",
        "model.add(ResnetBlock(64, 2, first_block=True))\n",
        "model.add(ResnetBlock(64, 2, first_block=True))\n",
        "model.add(BatchNormalization())\n",
        "\n",
        "model.add(MaxPool2D(pool_size=(2,2),strides=(2,2)))\n",
        "model.add(Dropout(0.25))\n",
        "\n",
        "model.add(ResnetBlock(128, 2))\n",
        "model.add(ResnetBlock(128, 2))\n",
        "model.add(BatchNormalization())\n",
        "\n",
        "model.add(MaxPool2D(pool_size=(2,2), strides=(2,2)))\n",
        "model.add(Dropout(0.25))\n",
        "\n",
        "model.add(ResnetBlock(256, 2))\n",
        "model.add(ResnetBlock(256, 2))\n",
        "model.add(BatchNormalization())\n",
        "\n",
        "model.add(MaxPool2D(pool_size=(1,2), strides=(1,2)))\n",
        "model.add(Dropout(0.25))\n",
        "\n",
        "model.add(TimeDistributed(Flatten()))\n",
        "model.add(Bidirectional(GRU(hidden_unit,return_sequences=True)))\n",
        "model.add(Flatten())\n",
        "model.add(Dense(256 , activation ='relu'))\n",
        "model.add(BatchNormalization())\n",
        "model.add(Dropout(0.25))\n",
        "model.add(Dense(3, activation = \"softmax\"))\n",
        "model.summary()\n"
      ],
      "execution_count": null,
      "outputs": [
        {
          "output_type": "stream",
          "name": "stdout",
          "text": [
            "Model: \"sequential_2\"\n",
            "_________________________________________________________________\n",
            " Layer (type)                Output Shape              Param #   \n",
            "=================================================================\n",
            " conv2d_30 (Conv2D)          (None, 224, 224, 64)      1792      \n",
            "                                                                 \n",
            " batch_normalization_30 (Bat  (None, 224, 224, 64)     256       \n",
            " chNormalization)                                                \n",
            "                                                                 \n",
            " resnet_block_6 (ResnetBlock  (None, 224, 224, 64)     148736    \n",
            " )                                                               \n",
            "                                                                 \n",
            " resnet_block_7 (ResnetBlock  (None, 224, 224, 64)     148736    \n",
            " )                                                               \n",
            "                                                                 \n",
            " batch_normalization_39 (Bat  (None, 224, 224, 64)     256       \n",
            " chNormalization)                                                \n",
            "                                                                 \n",
            " max_pooling2d_3 (MaxPooling  (None, 112, 112, 64)     0         \n",
            " 2D)                                                             \n",
            "                                                                 \n",
            " dropout_4 (Dropout)         (None, 112, 112, 64)      0         \n",
            "                                                                 \n",
            " resnet_block_8 (ResnetBlock  (None, 56, 56, 128)      526976    \n",
            " )                                                               \n",
            "                                                                 \n",
            " resnet_block_9 (ResnetBlock  (None, 28, 28, 128)      608896    \n",
            " )                                                               \n",
            "                                                                 \n",
            " batch_normalization_48 (Bat  (None, 28, 28, 128)      512       \n",
            " chNormalization)                                                \n",
            "                                                                 \n",
            " max_pooling2d_4 (MaxPooling  (None, 14, 14, 128)      0         \n",
            " 2D)                                                             \n",
            "                                                                 \n",
            " dropout_5 (Dropout)         (None, 14, 14, 128)       0         \n",
            "                                                                 \n",
            " resnet_block_10 (ResnetBloc  (None, 7, 7, 256)        2102528   \n",
            " k)                                                              \n",
            "                                                                 \n",
            " resnet_block_11 (ResnetBloc  (None, 4, 4, 256)        2430208   \n",
            " k)                                                              \n",
            "                                                                 \n",
            " batch_normalization_57 (Bat  (None, 4, 4, 256)        1024      \n",
            " chNormalization)                                                \n",
            "                                                                 \n",
            " max_pooling2d_5 (MaxPooling  (None, 4, 2, 256)        0         \n",
            " 2D)                                                             \n",
            "                                                                 \n",
            " dropout_6 (Dropout)         (None, 4, 2, 256)         0         \n",
            "                                                                 \n",
            " time_distributed_1 (TimeDis  (None, 4, 512)           0         \n",
            " tributed)                                                       \n",
            "                                                                 \n",
            " bidirectional_1 (Bidirectio  (None, 4, 64)            104832    \n",
            " nal)                                                            \n",
            "                                                                 \n",
            " flatten_3 (Flatten)         (None, 256)               0         \n",
            "                                                                 \n",
            " dense_2 (Dense)             (None, 256)               65792     \n",
            "                                                                 \n",
            " batch_normalization_58 (Bat  (None, 256)              1024      \n",
            " chNormalization)                                                \n",
            "                                                                 \n",
            " dropout_7 (Dropout)         (None, 256)               0         \n",
            "                                                                 \n",
            " dense_3 (Dense)             (None, 3)                 771       \n",
            "                                                                 \n",
            "=================================================================\n",
            "Total params: 6,142,339\n",
            "Trainable params: 6,133,635\n",
            "Non-trainable params: 8,704\n",
            "_________________________________________________________________\n"
          ]
        }
      ]
    },
    {
      "cell_type": "code",
      "metadata": {
        "id": "HbusdF9-BhEW"
      },
      "source": [
        "model.load_weights('/content/drive/MyDrive/Models/Threeclass_Residual-Bi-GRU_without_KFold(Updated_dataset)/ThreeCLass.h5')"
      ],
      "execution_count": null,
      "outputs": []
    },
    {
      "cell_type": "code",
      "metadata": {
        "colab": {
          "base_uri": "https://localhost:8080/"
        },
        "id": "SYHhKmwwCQBW",
        "outputId": "e2663b91-2038-45c8-9777-cbf47695e951"
      },
      "source": [
        "from tensorflow.math import confusion_matrix\n",
        "from sklearn.metrics import accuracy_score\n",
        "actual =  validation_generator.labels\n",
        "preds = np.argmax(model.predict(validation_generator, batch_size=1), axis=1)\n",
        "cfmx = confusion_matrix(actual, preds)\n",
        "acc = accuracy_score(actual, preds)\n",
        "print ('Cross Dataset Test Accuracy:', acc )\n",
        "print('Confusion matrix:', cfmx)"
      ],
      "execution_count": null,
      "outputs": [
        {
          "output_type": "stream",
          "name": "stdout",
          "text": [
            "Cross Dataset Test Accuracy: 0.94\n",
            "Confusion matrix: tf.Tensor(\n",
            "[[321   1   5]\n",
            " [ 41 233   6]\n",
            " [  1   0 292]], shape=(3, 3), dtype=int32)\n"
          ]
        }
      ]
    },
    {
      "cell_type": "code",
      "metadata": {
        "colab": {
          "base_uri": "https://localhost:8080/",
          "height": 310
        },
        "id": "ybGweK88HF7k",
        "outputId": "01376bd7-5f1f-4c57-b00f-c769b4ac6401"
      },
      "source": [
        "from sklearn.svm import SVC\n",
        "import pandas as pd\n",
        "import seaborn as sns\n",
        "from sklearn.metrics import accuracy_score, confusion_matrix, precision_recall_fscore_support\n",
        "\n",
        "\n",
        "# Creates a confusion matrix\n",
        "cm_v = confusion_matrix(actual, preds) \n",
        "\n",
        "# Transform to df for easier plotting\n",
        "cm_df = pd.DataFrame(cm_v,\n",
        "                     index = ['Normal','COVID', 'Viral'], \n",
        "                     columns = ['Normal','COVID', 'Viral'])\n",
        "\n",
        "plt.figure(figsize=(5.5,4))\n",
        "sns.heatmap(cm_df, annot=True, cmap='Blues')\n",
        "plt.title('LightWeight Residual-Bi_GRU \\n Validation Accuracy:{0:.3f}'.format(accuracy_score(actual, preds)))\n",
        "plt.ylabel('True label')\n",
        "plt.xlabel('Predicted label')\n",
        "plt.show()"
      ],
      "execution_count": null,
      "outputs": [
        {
          "output_type": "display_data",
          "data": {
            "image/png": "[encoded data removed]",
            "text/plain": [
              "<Figure size 396x288 with 2 Axes>"
            ]
          },
          "metadata": {
            "needs_background": "light"
          }
        }
      ]
    },
    {
      "cell_type": "code",
      "metadata": {
        "colab": {
          "base_uri": "https://localhost:8080/"
        },
        "id": "9KnnrGRxHmB5",
        "outputId": "530924b1-28f2-4fa8-bdca-7e4d77e17781"
      },
      "source": [
        "from sklearn.metrics import classification_report\n",
        "print(classification_report(actual,preds))"
      ],
      "execution_count": null,
      "outputs": [
        {
          "output_type": "stream",
          "name": "stdout",
          "text": [
            "              precision    recall  f1-score   support\n",
            "\n",
            "           0       0.88      0.98      0.93       327\n",
            "           1       1.00      0.83      0.91       280\n",
            "           2       0.96      1.00      0.98       293\n",
            "\n",
            "    accuracy                           0.94       900\n",
            "   macro avg       0.95      0.94      0.94       900\n",
            "weighted avg       0.94      0.94      0.94       900\n",
            "\n"
          ]
        }
      ]
    }
  ]
}