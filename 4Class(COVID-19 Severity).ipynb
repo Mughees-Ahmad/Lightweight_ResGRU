{
  "nbformat": 4,
  "nbformat_minor": 0,
  "metadata": {
    "accelerator": "GPU",
    "colab": {
      "name": "Fourclass(SIIM)_Residual_Bi_GRU_without_KFold.ipynb",
      "provenance": [],
      "collapsed_sections": [],
      "machine_shape": "hm"
    },
    "kernelspec": {
      "display_name": "Python 3",
      "name": "python3"
    }
  },
  "cells": [
    {
      "cell_type": "code",
      "metadata": {
        "id": "6zk5Xvf7uVBI"
      },
      "source": [
        "import numpy as np # linear algebra\n",
        "import pandas as pd # data processing, CSV file I/O (e.g. pd.read_csv)\n",
        "import math\n",
        "import cv2\n",
        "import matplotlib.pyplot as plt\n",
        "import os\n",
        "import seaborn as sns\n",
        "from tensorflow.keras import models\n",
        "\n",
        "from PIL import Image\n",
        "from scipy import misc\n",
        "from os import listdir\n",
        "from os.path import isfile, join\n",
        "import numpy as np\n",
        "from scipy import misc\n",
        "from random import shuffle\n",
        "from collections import Counter\n",
        "import matplotlib.pyplot as plt\n",
        "from sklearn.decomposition import PCA\n",
        "from sklearn.manifold import TSNE\n",
        "import tensorflow as tf\n",
        "from keras.models import Sequential\n",
        "from tensorflow.keras.applications import ResNet50, DenseNet121, Xception, EfficientNetB2\n",
        "from keras.layers import Conv2D, MaxPooling2D\n",
        "from keras.layers import Activation, Dropout, Flatten, Dense,GlobalAveragePooling2D\n",
        "from keras.utils.np_utils import to_categorical\n",
        "\n"
      ],
      "execution_count": null,
      "outputs": []
    },
    {
      "cell_type": "code",
      "metadata": {
        "colab": {
          "base_uri": "https://localhost:8080/"
        },
        "id": "h01_XnTHGcNA",
        "outputId": "f9d44034-cf53-498f-b6fb-2f0eb8010612"
      },
      "source": [
        "from google.colab import drive\n",
        "drive.mount('/content/drive')"
      ],
      "execution_count": null,
      "outputs": [
        {
          "output_type": "stream",
          "name": "stdout",
          "text": [
            "Mounted at /content/drive\n"
          ]
        }
      ]
    },
    {
      "cell_type": "code",
      "metadata": {
        "colab": {
          "base_uri": "https://localhost:8080/",
          "height": 145
        },
        "id": "t5Ksq5mCbQFT",
        "outputId": "ec1db625-f18c-413c-e6fe-b533cd71fd17"
      },
      "source": [
        "# re-size all the images to this\n",
        "IMAGE_SIZE = [224, 224]\n",
        "\n",
        "os.listdir('/content/drive/MyDrive/Datasets/SIIM_Severity_Updated')\n",
        "\n",
        "Negative=os.listdir('/content/drive/MyDrive/Datasets/SIIM_Severity_Updated/negative')\n",
        "im =Image.open('/content/drive/MyDrive/Datasets/SIIM_Severity_Dataset/train/negative/000c3a3f293f.jpg').resize((128,128))\n",
        "im\n",
        "Atypical=os.listdir('/content/drive/MyDrive/Datasets/SIIM_Severity_Updated/atypical')\n",
        "Indeterminate=os.listdir('/content/drive/MyDrive/Datasets/SIIM_Severity_Updated/indeterminate')\n",
        "Typical=os.listdir('/content/drive/MyDrive/Datasets/SIIM_Severity_Updated/typical')\n",
        "\n",
        "#Training_all = np.concatenate([Negative,Atypical,Indeterminate,Typical])\n",
        "#train_path = '/content/drive/MyDrive/Datasets/SIIM_Severity_Dataset/train'\n",
        "#valid_path = '/content/drive/MyDrive/Datasets/SIIM_Severity_Dataset/test'\n",
        "im"
      ],
      "execution_count": null,
      "outputs": [
        {
          "output_type": "execute_result",
          "data": {
            "image/png": "[encoded data removed]",
            "text/plain": [
              "<PIL.Image.Image image mode=L size=128x128 at 0x7F6A5B6EF950>"
            ]
          },
          "metadata": {},
          "execution_count": 3
        }
      ]
    },
    {
      "cell_type": "code",
      "metadata": {
        "colab": {
          "base_uri": "https://localhost:8080/"
        },
        "id": "ORFnMiiAqBcW",
        "outputId": "bec397a0-c96e-4be9-ebdf-e3f92e4f78b8"
      },
      "source": [
        "target_w=np.full(len(Negative),0)\n",
        "target_x=np.full(len(Atypical),1)\n",
        "target_y=np.full(len(Indeterminate),2)\n",
        "target_z=np.full(len(Typical),3)\n",
        "\n",
        "data_target=np.concatenate([target_w,target_x,target_y,target_z])\n",
        "len(data_target)==len(target_w)+len(target_x)+len(target_y)+len(target_z)\n",
        "\n",
        "len(data_target)"
      ],
      "execution_count": null,
      "outputs": [
        {
          "output_type": "execute_result",
          "data": {
            "text/plain": [
              "11179"
            ]
          },
          "metadata": {},
          "execution_count": 4
        }
      ]
    },
    {
      "cell_type": "code",
      "metadata": {
        "id": "M54DWtma46eE"
      },
      "source": [
        "Training_data= np.load('/content/drive/MyDrive/Datasets/NUMPY_224/Training_Data_X.npy', mmap_mode=None, allow_pickle=False, fix_imports=True, encoding='ASCII')"
      ],
      "execution_count": null,
      "outputs": []
    },
    {
      "cell_type": "code",
      "metadata": {
        "colab": {
          "base_uri": "https://localhost:8080/"
        },
        "id": "n4o2-yG9xjDd",
        "outputId": "4dd1ef6e-ddd9-4729-9008-e8e2c2025628"
      },
      "source": [
        "len(Training_data)"
      ],
      "execution_count": null,
      "outputs": [
        {
          "output_type": "execute_result",
          "data": {
            "text/plain": [
              "11179"
            ]
          },
          "metadata": {},
          "execution_count": 6
        }
      ]
    },
    {
      "cell_type": "code",
      "metadata": {
        "id": "TdHCuP2ctH3u"
      },
      "source": [
        "X = np.squeeze(Training_data)"
      ],
      "execution_count": null,
      "outputs": []
    },
    {
      "cell_type": "code",
      "metadata": {
        "id": "jafnNbJ9tv0j"
      },
      "source": [
        "# normalize data\n",
        "X = X.astype('float16')\n",
        "X /= 255"
      ],
      "execution_count": null,
      "outputs": []
    },
    {
      "cell_type": "code",
      "metadata": {
        "colab": {
          "base_uri": "https://localhost:8080/"
        },
        "id": "T5blIOFxcjbZ",
        "outputId": "f3a87c10-2b81-4185-c903-ab5cd2272b04"
      },
      "source": [
        "len(X)"
      ],
      "execution_count": null,
      "outputs": [
        {
          "output_type": "execute_result",
          "data": {
            "text/plain": [
              "11179"
            ]
          },
          "metadata": {},
          "execution_count": 9
        }
      ]
    },
    {
      "cell_type": "code",
      "metadata": {
        "id": "-8QHUIQit1Em"
      },
      "source": [
        "from sklearn.datasets import make_blobs\n",
        "from sklearn.model_selection import train_test_split\n",
        "X_train, X_rem, y_train, y_rem = train_test_split(X,data_target, train_size=0.8)\n",
        "\n",
        "# Now since we want the valid and test size to be equal (10% each of overall data). \n",
        "# we have to define valid_size=0.5 (that is 50% of remaining data)\n",
        "\n",
        "test_size = 0.5\n",
        "X_valid, X_test, y_valid, y_test = train_test_split(X_rem,y_rem, test_size=0.5)\n"
      ],
      "execution_count": null,
      "outputs": []
    },
    {
      "cell_type": "code",
      "metadata": {
        "colab": {
          "base_uri": "https://localhost:8080/"
        },
        "id": "_YpoSozq9SlG",
        "outputId": "9ff883eb-24ba-45cd-99ee-d89676d55d73"
      },
      "source": [
        "print(X_train.shape, X_test.shape,X_valid.shape, y_train.shape,y_valid.shape, y_test.shape)"
      ],
      "execution_count": null,
      "outputs": [
        {
          "output_type": "stream",
          "name": "stdout",
          "text": [
            "(8943, 224, 224, 3) (1118, 224, 224, 3) (1118, 224, 224, 3) (8943,) (1118,) (1118,)\n"
          ]
        }
      ]
    },
    {
      "cell_type": "code",
      "metadata": {
        "id": "ocUOyqMV8fll"
      },
      "source": [
        "Training_data = X =[]"
      ],
      "execution_count": null,
      "outputs": []
    },
    {
      "cell_type": "code",
      "metadata": {
        "colab": {
          "base_uri": "https://localhost:8080/"
        },
        "id": "zRJBdaLjgKp_",
        "outputId": "a8009bbc-5dea-4b09-aaac-477149cc1285"
      },
      "source": [
        "print(y_test[1:100])"
      ],
      "execution_count": null,
      "outputs": [
        {
          "output_type": "stream",
          "name": "stdout",
          "text": [
            "[1 3 3 2 0 2 1 1 3 2 2 1 3 0 0 3 2 1 2 0 3 0 2 0 2 3 2 0 2 3 2 1 1 3 3 1 2\n",
            " 3 1 0 3 1 3 0 2 2 2 1 0 2 2 0 2 3 2 1 1 1 1 1 2 0 3 1 2 1 2 0 0 3 1 0 1 2\n",
            " 1 0 2 1 0 1 1 1 1 2 3 2 3 1 2 2 1 3 1 0 3 1 2 0 2]\n"
          ]
        }
      ]
    },
    {
      "cell_type": "code",
      "metadata": {
        "id": "TM0-GTeLFpAp"
      },
      "source": [
        "\n",
        "#from d2l import tensorflow as d2l\n",
        "\n",
        "class Residual(tf.keras.Model):  \n",
        "    \"\"\"The Residual block of ResNet.\"\"\"\n",
        "    def __init__(self, num_channels, use_1x1conv=False, strides=1):\n",
        "        super().__init__()\n",
        "        self.conv1 = tf.keras.layers.Conv2D(num_channels, padding='same',\n",
        "                                            kernel_size=3, strides=strides)\n",
        "        self.conv2 = tf.keras.layers.Conv2D(num_channels, kernel_size=3,\n",
        "                                            padding='same')\n",
        "        self.conv3 = None\n",
        "        if use_1x1conv:\n",
        "            self.conv3 =  tf.keras.layers.Conv2D(num_channels, kernel_size=1,\n",
        "                                                strides=strides)\n",
        "        self.bn1 = tf.keras.layers.BatchNormalization()\n",
        "        self.bn2 = tf.keras.layers.BatchNormalization()\n",
        "\n",
        "    def call(self, X):\n",
        "        Y = tf.keras.activations.relu(self.bn1(self.conv1(X)))\n",
        "        Y = self.bn2(self.conv2(Y))\n",
        "        if self.conv3 is not None:\n",
        "            X = self.conv3(X)\n",
        "        Y += X\n",
        "        return tf.keras.activations.relu(Y)\n"
      ],
      "execution_count": null,
      "outputs": []
    },
    {
      "cell_type": "code",
      "metadata": {
        "id": "FO9PNkRCFrvW"
      },
      "source": [
        "class ResnetBlock(tf.keras.layers.Layer):\n",
        "    def __init__(self, num_channels, num_residuals, first_block=False,\n",
        "                 **kwargs):\n",
        "        super(ResnetBlock, self).__init__(**kwargs)\n",
        "        self.residual_layers = []\n",
        "        for i in range(num_residuals):\n",
        "            if i == 0 and not first_block:\n",
        "                self.residual_layers.append(\n",
        "                    Residual(num_channels, use_1x1conv=True, strides=2))\n",
        "            else:\n",
        "                self.residual_layers.append(Residual(num_channels))\n",
        "\n",
        "    def call(self, X):\n",
        "        for layer in self.residual_layers.layers:\n",
        "            X = layer(X)\n",
        "        return X"
      ],
      "execution_count": null,
      "outputs": []
    },
    {
      "cell_type": "code",
      "metadata": {
        "colab": {
          "base_uri": "https://localhost:8080/"
        },
        "id": "1l7eWqiNz6Gi",
        "outputId": "9db8af2a-2623-458d-bb1a-894666a73416"
      },
      "source": [
        "from keras.models import Sequential\n",
        "from keras.layers import Dense, Dropout, Flatten, Conv2D, MaxPool2D, BatchNormalization,Permute, TimeDistributed, Bidirectional,GRU\n",
        "from keras.layers import LeakyReLU\n",
        "from keras.optimizers import rmsprop_v2\n",
        "from keras.preprocessing.image import ImageDataGenerator\n",
        "from keras.callbacks import ReduceLROnPlateau\n",
        "hidden_unit = 32\n",
        "kernel_size = 3\n",
        "model = Sequential()\n",
        "model.add(Conv2D(filters = 64, kernel_size = (3,3),padding = 'Same' , activation ='relu',input_shape = (224,224,3)))\n",
        "model.add(BatchNormalization())\n",
        "\n",
        "model.add(ResnetBlock(64, 2, first_block=True))\n",
        "model.add(ResnetBlock(64, 2, first_block=True))\n",
        "model.add(BatchNormalization())\n",
        "\n",
        "model.add(MaxPool2D(pool_size=(2,2),strides=(2,2)))\n",
        "model.add(Dropout(0.25))\n",
        "\n",
        "model.add(ResnetBlock(128, 2))\n",
        "model.add(ResnetBlock(128, 2))\n",
        "model.add(BatchNormalization())\n",
        "\n",
        "model.add(MaxPool2D(pool_size=(2,2), strides=(2,2)))\n",
        "model.add(Dropout(0.25))\n",
        "\n",
        "model.add(ResnetBlock(256, 2))\n",
        "model.add(ResnetBlock(256, 2))\n",
        "model.add(BatchNormalization())\n",
        "\n",
        "model.add(MaxPool2D(pool_size=(1,2), strides=(1,2)))\n",
        "model.add(Dropout(0.25))\n",
        "\n",
        "model.add(TimeDistributed(Flatten()))\n",
        "model.add(Bidirectional(GRU(hidden_unit,return_sequences=True)))\n",
        "model.add(Flatten())\n",
        "model.add(Dense(256 , activation ='relu'))\n",
        "model.add(BatchNormalization())\n",
        "model.add(Dropout(0.25))\n",
        "model.add(Dense(4, activation = \"softmax\"))\n",
        "model.summary()\n"
      ],
      "execution_count": null,
      "outputs": [
        {
          "output_type": "stream",
          "name": "stdout",
          "text": [
            "Model: \"sequential_1\"\n",
            "_________________________________________________________________\n",
            " Layer (type)                Output Shape              Param #   \n",
            "=================================================================\n",
            " conv2d_5 (Conv2D)           (None, 224, 224, 64)      1792      \n",
            "                                                                 \n",
            " batch_normalization_5 (Batc  (None, 224, 224, 64)     256       \n",
            " hNormalization)                                                 \n",
            "                                                                 \n",
            " resnet_block_1 (ResnetBlock  (None, 224, 224, 64)     148736    \n",
            " )                                                               \n",
            "                                                                 \n",
            " resnet_block_2 (ResnetBlock  (None, 224, 224, 64)     148736    \n",
            " )                                                               \n",
            "                                                                 \n",
            " batch_normalization_14 (Bat  (None, 224, 224, 64)     256       \n",
            " chNormalization)                                                \n",
            "                                                                 \n",
            " max_pooling2d (MaxPooling2D  (None, 112, 112, 64)     0         \n",
            " )                                                               \n",
            "                                                                 \n",
            " dropout (Dropout)           (None, 112, 112, 64)      0         \n",
            "                                                                 \n",
            " resnet_block_3 (ResnetBlock  (None, 56, 56, 128)      526976    \n",
            " )                                                               \n",
            "                                                                 \n",
            " resnet_block_4 (ResnetBlock  (None, 28, 28, 128)      608896    \n",
            " )                                                               \n",
            "                                                                 \n",
            " batch_normalization_23 (Bat  (None, 28, 28, 128)      512       \n",
            " chNormalization)                                                \n",
            "                                                                 \n",
            " max_pooling2d_1 (MaxPooling  (None, 14, 14, 128)      0         \n",
            " 2D)                                                             \n",
            "                                                                 \n",
            " dropout_1 (Dropout)         (None, 14, 14, 128)       0         \n",
            "                                                                 \n",
            " resnet_block_5 (ResnetBlock  (None, 7, 7, 256)        2102528   \n",
            " )                                                               \n",
            "                                                                 \n",
            " resnet_block_6 (ResnetBlock  (None, 4, 4, 256)        2430208   \n",
            " )                                                               \n",
            "                                                                 \n",
            " batch_normalization_32 (Bat  (None, 4, 4, 256)        1024      \n",
            " chNormalization)                                                \n",
            "                                                                 \n",
            " max_pooling2d_2 (MaxPooling  (None, 4, 2, 256)        0         \n",
            " 2D)                                                             \n",
            "                                                                 \n",
            " dropout_2 (Dropout)         (None, 4, 2, 256)         0         \n",
            "                                                                 \n",
            " time_distributed (TimeDistr  (None, 4, 512)           0         \n",
            " ibuted)                                                         \n",
            "                                                                 \n",
            " bidirectional (Bidirectiona  (None, 4, 64)            104832    \n",
            " l)                                                              \n",
            "                                                                 \n",
            " flatten_1 (Flatten)         (None, 256)               0         \n",
            "                                                                 \n",
            " dense (Dense)               (None, 256)               65792     \n",
            "                                                                 \n",
            " batch_normalization_33 (Bat  (None, 256)              1024      \n",
            " chNormalization)                                                \n",
            "                                                                 \n",
            " dropout_3 (Dropout)         (None, 256)               0         \n",
            "                                                                 \n",
            " dense_1 (Dense)             (None, 4)                 1028      \n",
            "                                                                 \n",
            "=================================================================\n",
            "Total params: 6,142,596\n",
            "Trainable params: 6,133,892\n",
            "Non-trainable params: 8,704\n",
            "_________________________________________________________________\n"
          ]
        }
      ]
    },
    {
      "cell_type": "code",
      "metadata": {
        "id": "EG6_aO4s0tbH"
      },
      "source": [
        "opt = tf.keras.optimizers.SGD(learning_rate=0.001)\n",
        "model.compile(\n",
        "  loss='sparse_categorical_crossentropy',\n",
        "  optimizer=opt,\n",
        "  metrics=['accuracy']\n",
        ")"
      ],
      "execution_count": null,
      "outputs": []
    },
    {
      "cell_type": "code",
      "metadata": {
        "id": "yBlnGFKHOB-0"
      },
      "source": [
        "file_path = os.path.join('/content/drive/MyDrive/Models', 'Fourclass(SIIM)_Residual-Bi-GRU_without_KFold(Curated_Dataset)', 'FourCLass.h5')\n",
        "from keras.callbacks import EarlyStopping,ModelCheckpoint,ReduceLROnPlateau\n",
        "\n",
        "rlr = ReduceLROnPlateau(monitor = 'val_loss', factor = 0.1, patience = 10, verbose = 1, \n",
        "                                min_delta = 1e-4, min_lr = 1e-6, mode = 'min')\n",
        "ckp = ModelCheckpoint(filepath= file_path,monitor = 'val_loss',\n",
        "                      verbose = 1, save_best_only = True, mode = 'min', save_weights_only=True)"
      ],
      "execution_count": null,
      "outputs": []
    },
    {
      "cell_type": "code",
      "metadata": {
        "id": "TFmZEExpcrYb",
        "colab": {
          "base_uri": "https://localhost:8080/"
        },
        "outputId": "d19a99ee-9ebc-4057-d916-d6740bcd187b"
      },
      "source": [
        "fit_history = model.fit(X_train,\n",
        "                        y_train,\n",
        "                        batch_size = 8,\n",
        "                        #shuffle = True,\n",
        "                        epochs = 50,\n",
        "                        #initial_epoch=10,\n",
        "                        validation_data = (X_valid,y_valid),\n",
        "                        callbacks=[rlr,ckp])\n",
        "        "
      ],
      "execution_count": null,
      "outputs": [
        {
          "output_type": "stream",
          "name": "stdout",
          "text": [
            "Epoch 1/50\n",
            "1118/1118 [==============================] - ETA: 0s - loss: 1.4794 - accuracy: 0.3287\n",
            "Epoch 00001: val_loss improved from inf to 1.36445, saving model to /content/drive/MyDrive/Models/Fourclass(SIIM)_Residual-Bi-GRU_without_KFold(Curated_Dataset)/FourCLass.h5\n",
            "1118/1118 [==============================] - 167s 149ms/step - loss: 1.4794 - accuracy: 0.3287 - val_loss: 1.3644 - val_accuracy: 0.3730 - lr: 0.0010\n",
            "Epoch 2/50\n",
            "1118/1118 [==============================] - ETA: 0s - loss: 1.4064 - accuracy: 0.3435\n",
            "Epoch 00002: val_loss improved from 1.36445 to 1.30640, saving model to /content/drive/MyDrive/Models/Fourclass(SIIM)_Residual-Bi-GRU_without_KFold(Curated_Dataset)/FourCLass.h5\n",
            "1118/1118 [==============================] - 167s 150ms/step - loss: 1.4064 - accuracy: 0.3435 - val_loss: 1.3064 - val_accuracy: 0.4186 - lr: 0.0010\n",
            "Epoch 3/50\n",
            "1118/1118 [==============================] - ETA: 0s - loss: 1.3598 - accuracy: 0.3725\n",
            "Epoch 00003: val_loss improved from 1.30640 to 1.26747, saving model to /content/drive/MyDrive/Models/Fourclass(SIIM)_Residual-Bi-GRU_without_KFold(Curated_Dataset)/FourCLass.h5\n",
            "1118/1118 [==============================] - 167s 150ms/step - loss: 1.3598 - accuracy: 0.3725 - val_loss: 1.2675 - val_accuracy: 0.4114 - lr: 0.0010\n",
            "Epoch 4/50\n",
            "1118/1118 [==============================] - ETA: 0s - loss: 1.3274 - accuracy: 0.3909\n",
            "Epoch 00004: val_loss improved from 1.26747 to 1.26265, saving model to /content/drive/MyDrive/Models/Fourclass(SIIM)_Residual-Bi-GRU_without_KFold(Curated_Dataset)/FourCLass.h5\n",
            "1118/1118 [==============================] - 167s 150ms/step - loss: 1.3274 - accuracy: 0.3909 - val_loss: 1.2626 - val_accuracy: 0.4258 - lr: 0.0010\n",
            "Epoch 5/50\n",
            "1118/1118 [==============================] - ETA: 0s - loss: 1.3039 - accuracy: 0.4010\n",
            "Epoch 00005: val_loss improved from 1.26265 to 1.24447, saving model to /content/drive/MyDrive/Models/Fourclass(SIIM)_Residual-Bi-GRU_without_KFold(Curated_Dataset)/FourCLass.h5\n",
            "1118/1118 [==============================] - 167s 150ms/step - loss: 1.3039 - accuracy: 0.4010 - val_loss: 1.2445 - val_accuracy: 0.4240 - lr: 0.0010\n",
            "Epoch 6/50\n",
            "1118/1118 [==============================] - ETA: 0s - loss: 1.2747 - accuracy: 0.4235\n",
            "Epoch 00006: val_loss did not improve from 1.24447\n",
            "1118/1118 [==============================] - 167s 149ms/step - loss: 1.2747 - accuracy: 0.4235 - val_loss: 1.2543 - val_accuracy: 0.4428 - lr: 0.0010\n",
            "Epoch 7/50\n",
            "1118/1118 [==============================] - ETA: 0s - loss: 1.2572 - accuracy: 0.4287\n",
            "Epoch 00007: val_loss improved from 1.24447 to 1.22391, saving model to /content/drive/MyDrive/Models/Fourclass(SIIM)_Residual-Bi-GRU_without_KFold(Curated_Dataset)/FourCLass.h5\n",
            "1118/1118 [==============================] - 168s 150ms/step - loss: 1.2572 - accuracy: 0.4287 - val_loss: 1.2239 - val_accuracy: 0.4606 - lr: 0.0010\n",
            "Epoch 8/50\n",
            "1118/1118 [==============================] - ETA: 0s - loss: 1.2380 - accuracy: 0.4425\n",
            "Epoch 00008: val_loss did not improve from 1.22391\n",
            "1118/1118 [==============================] - 164s 147ms/step - loss: 1.2380 - accuracy: 0.4425 - val_loss: 1.2550 - val_accuracy: 0.4472 - lr: 0.0010\n",
            "Epoch 9/50\n",
            "1118/1118 [==============================] - ETA: 0s - loss: 1.2262 - accuracy: 0.4493\n",
            "Epoch 00009: val_loss improved from 1.22391 to 1.20480, saving model to /content/drive/MyDrive/Models/Fourclass(SIIM)_Residual-Bi-GRU_without_KFold(Curated_Dataset)/FourCLass.h5\n",
            "1118/1118 [==============================] - 167s 149ms/step - loss: 1.2262 - accuracy: 0.4493 - val_loss: 1.2048 - val_accuracy: 0.4660 - lr: 0.0010\n",
            "Epoch 10/50\n",
            "1118/1118 [==============================] - ETA: 0s - loss: 1.2078 - accuracy: 0.4673\n",
            "Epoch 00010: val_loss improved from 1.20480 to 1.18377, saving model to /content/drive/MyDrive/Models/Fourclass(SIIM)_Residual-Bi-GRU_without_KFold(Curated_Dataset)/FourCLass.h5\n",
            "1118/1118 [==============================] - 167s 150ms/step - loss: 1.2078 - accuracy: 0.4673 - val_loss: 1.1838 - val_accuracy: 0.4803 - lr: 0.0010\n",
            "Epoch 11/50\n",
            "1118/1118 [==============================] - ETA: 0s - loss: 1.1924 - accuracy: 0.4742\n",
            "Epoch 00011: val_loss improved from 1.18377 to 1.17628, saving model to /content/drive/MyDrive/Models/Fourclass(SIIM)_Residual-Bi-GRU_without_KFold(Curated_Dataset)/FourCLass.h5\n",
            "1118/1118 [==============================] - 166s 148ms/step - loss: 1.1924 - accuracy: 0.4742 - val_loss: 1.1763 - val_accuracy: 0.4705 - lr: 0.0010\n",
            "Epoch 12/50\n",
            "1118/1118 [==============================] - ETA: 0s - loss: 1.1735 - accuracy: 0.4866\n",
            "Epoch 00012: val_loss improved from 1.17628 to 1.16035, saving model to /content/drive/MyDrive/Models/Fourclass(SIIM)_Residual-Bi-GRU_without_KFold(Curated_Dataset)/FourCLass.h5\n",
            "1118/1118 [==============================] - 165s 148ms/step - loss: 1.1735 - accuracy: 0.4866 - val_loss: 1.1603 - val_accuracy: 0.4911 - lr: 0.0010\n",
            "Epoch 13/50\n",
            "1118/1118 [==============================] - ETA: 0s - loss: 1.1605 - accuracy: 0.4916\n",
            "Epoch 00013: val_loss did not improve from 1.16035\n",
            "1118/1118 [==============================] - 164s 147ms/step - loss: 1.1605 - accuracy: 0.4916 - val_loss: 1.1954 - val_accuracy: 0.4893 - lr: 0.0010\n",
            "Epoch 14/50\n",
            "1118/1118 [==============================] - ETA: 0s - loss: 1.1450 - accuracy: 0.5058\n",
            "Epoch 00014: val_loss improved from 1.16035 to 1.14900, saving model to /content/drive/MyDrive/Models/Fourclass(SIIM)_Residual-Bi-GRU_without_KFold(Curated_Dataset)/FourCLass.h5\n",
            "1118/1118 [==============================] - 165s 148ms/step - loss: 1.1450 - accuracy: 0.5058 - val_loss: 1.1490 - val_accuracy: 0.5072 - lr: 0.0010\n",
            "Epoch 15/50\n",
            "1118/1118 [==============================] - ETA: 0s - loss: 1.1237 - accuracy: 0.5212\n",
            "Epoch 00015: val_loss did not improve from 1.14900\n",
            "1118/1118 [==============================] - 164s 147ms/step - loss: 1.1237 - accuracy: 0.5212 - val_loss: 1.3394 - val_accuracy: 0.4401 - lr: 0.0010\n",
            "Epoch 16/50\n",
            "1118/1118 [==============================] - ETA: 0s - loss: 1.1177 - accuracy: 0.5247\n",
            "Epoch 00016: val_loss did not improve from 1.14900\n",
            "1118/1118 [==============================] - 164s 147ms/step - loss: 1.1177 - accuracy: 0.5247 - val_loss: 1.1822 - val_accuracy: 0.5143 - lr: 0.0010\n",
            "Epoch 17/50\n",
            "1118/1118 [==============================] - ETA: 0s - loss: 1.0918 - accuracy: 0.5375\n",
            "Epoch 00017: val_loss improved from 1.14900 to 1.11523, saving model to /content/drive/MyDrive/Models/Fourclass(SIIM)_Residual-Bi-GRU_without_KFold(Curated_Dataset)/FourCLass.h5\n",
            "1118/1118 [==============================] - 165s 148ms/step - loss: 1.0918 - accuracy: 0.5375 - val_loss: 1.1152 - val_accuracy: 0.5465 - lr: 0.0010\n",
            "Epoch 18/50\n",
            "1118/1118 [==============================] - ETA: 0s - loss: 1.0779 - accuracy: 0.5387\n",
            "Epoch 00018: val_loss improved from 1.11523 to 1.07922, saving model to /content/drive/MyDrive/Models/Fourclass(SIIM)_Residual-Bi-GRU_without_KFold(Curated_Dataset)/FourCLass.h5\n",
            "1118/1118 [==============================] - 165s 148ms/step - loss: 1.0779 - accuracy: 0.5387 - val_loss: 1.0792 - val_accuracy: 0.5510 - lr: 0.0010\n",
            "Epoch 19/50\n",
            "1118/1118 [==============================] - ETA: 0s - loss: 1.0490 - accuracy: 0.5599\n",
            "Epoch 00019: val_loss improved from 1.07922 to 1.07720, saving model to /content/drive/MyDrive/Models/Fourclass(SIIM)_Residual-Bi-GRU_without_KFold(Curated_Dataset)/FourCLass.h5\n",
            "1118/1118 [==============================] - 165s 148ms/step - loss: 1.0490 - accuracy: 0.5599 - val_loss: 1.0772 - val_accuracy: 0.5590 - lr: 0.0010\n",
            "Epoch 20/50\n",
            "1118/1118 [==============================] - ETA: 0s - loss: 1.0418 - accuracy: 0.5629\n",
            "Epoch 00020: val_loss did not improve from 1.07720\n",
            "1118/1118 [==============================] - 165s 147ms/step - loss: 1.0418 - accuracy: 0.5629 - val_loss: 1.0991 - val_accuracy: 0.5492 - lr: 0.0010\n",
            "Epoch 21/50\n",
            "1118/1118 [==============================] - ETA: 0s - loss: 1.0191 - accuracy: 0.5758\n",
            "Epoch 00021: val_loss improved from 1.07720 to 1.01978, saving model to /content/drive/MyDrive/Models/Fourclass(SIIM)_Residual-Bi-GRU_without_KFold(Curated_Dataset)/FourCLass.h5\n",
            "1118/1118 [==============================] - 165s 148ms/step - loss: 1.0191 - accuracy: 0.5758 - val_loss: 1.0198 - val_accuracy: 0.5760 - lr: 0.0010\n",
            "Epoch 22/50\n",
            "1118/1118 [==============================] - ETA: 0s - loss: 1.0129 - accuracy: 0.5794\n",
            "Epoch 00022: val_loss did not improve from 1.01978\n",
            "1118/1118 [==============================] - 164s 147ms/step - loss: 1.0129 - accuracy: 0.5794 - val_loss: 1.0323 - val_accuracy: 0.5877 - lr: 0.0010\n",
            "Epoch 23/50\n",
            "1118/1118 [==============================] - ETA: 0s - loss: 0.9933 - accuracy: 0.5910\n",
            "Epoch 00023: val_loss improved from 1.01978 to 1.00770, saving model to /content/drive/MyDrive/Models/Fourclass(SIIM)_Residual-Bi-GRU_without_KFold(Curated_Dataset)/FourCLass.h5\n",
            "1118/1118 [==============================] - 165s 148ms/step - loss: 0.9933 - accuracy: 0.5910 - val_loss: 1.0077 - val_accuracy: 0.5948 - lr: 0.0010\n",
            "Epoch 24/50\n",
            "1118/1118 [==============================] - ETA: 0s - loss: 0.9725 - accuracy: 0.5968\n",
            "Epoch 00024: val_loss improved from 1.00770 to 1.00646, saving model to /content/drive/MyDrive/Models/Fourclass(SIIM)_Residual-Bi-GRU_without_KFold(Curated_Dataset)/FourCLass.h5\n",
            "1118/1118 [==============================] - 165s 148ms/step - loss: 0.9725 - accuracy: 0.5968 - val_loss: 1.0065 - val_accuracy: 0.5993 - lr: 0.0010\n",
            "Epoch 25/50\n",
            "1118/1118 [==============================] - ETA: 0s - loss: 0.9543 - accuracy: 0.6112\n",
            "Epoch 00025: val_loss did not improve from 1.00646\n",
            "1118/1118 [==============================] - 165s 147ms/step - loss: 0.9543 - accuracy: 0.6112 - val_loss: 1.0710 - val_accuracy: 0.5760 - lr: 0.0010\n",
            "Epoch 26/50\n",
            "1118/1118 [==============================] - ETA: 0s - loss: 0.9388 - accuracy: 0.6190\n",
            "Epoch 00026: val_loss improved from 1.00646 to 0.99029, saving model to /content/drive/MyDrive/Models/Fourclass(SIIM)_Residual-Bi-GRU_without_KFold(Curated_Dataset)/FourCLass.h5\n",
            "1118/1118 [==============================] - 166s 148ms/step - loss: 0.9388 - accuracy: 0.6190 - val_loss: 0.9903 - val_accuracy: 0.6100 - lr: 0.0010\n",
            "Epoch 27/50\n",
            "1118/1118 [==============================] - ETA: 0s - loss: 0.9185 - accuracy: 0.6284\n",
            "Epoch 00027: val_loss did not improve from 0.99029\n",
            "1118/1118 [==============================] - 165s 147ms/step - loss: 0.9185 - accuracy: 0.6284 - val_loss: 0.9975 - val_accuracy: 0.5984 - lr: 0.0010\n",
            "Epoch 28/50\n",
            "1118/1118 [==============================] - ETA: 0s - loss: 0.8853 - accuracy: 0.6428\n",
            "Epoch 00028: val_loss improved from 0.99029 to 0.95472, saving model to /content/drive/MyDrive/Models/Fourclass(SIIM)_Residual-Bi-GRU_without_KFold(Curated_Dataset)/FourCLass.h5\n",
            "1118/1118 [==============================] - 166s 148ms/step - loss: 0.8853 - accuracy: 0.6428 - val_loss: 0.9547 - val_accuracy: 0.6208 - lr: 0.0010\n",
            "Epoch 29/50\n",
            "1118/1118 [==============================] - ETA: 0s - loss: 0.8721 - accuracy: 0.6472\n",
            "Epoch 00029: val_loss did not improve from 0.95472\n",
            "1118/1118 [==============================] - 165s 148ms/step - loss: 0.8721 - accuracy: 0.6472 - val_loss: 1.1080 - val_accuracy: 0.5751 - lr: 0.0010\n",
            "Epoch 30/50\n",
            "1118/1118 [==============================] - ETA: 0s - loss: 0.8311 - accuracy: 0.6699\n",
            "Epoch 00030: val_loss did not improve from 0.95472\n",
            "1118/1118 [==============================] - 165s 148ms/step - loss: 0.8311 - accuracy: 0.6699 - val_loss: 1.0326 - val_accuracy: 0.6190 - lr: 0.0010\n",
            "Epoch 31/50\n",
            "1118/1118 [==============================] - ETA: 0s - loss: 0.8381 - accuracy: 0.6673\n",
            "Epoch 00031: val_loss did not improve from 0.95472\n",
            "1118/1118 [==============================] - 166s 148ms/step - loss: 0.8381 - accuracy: 0.6673 - val_loss: 0.9622 - val_accuracy: 0.6252 - lr: 0.0010\n",
            "Epoch 32/50\n",
            "1118/1118 [==============================] - ETA: 0s - loss: 0.8060 - accuracy: 0.6796\n",
            "Epoch 00032: val_loss did not improve from 0.95472\n",
            "1118/1118 [==============================] - 165s 147ms/step - loss: 0.8060 - accuracy: 0.6796 - val_loss: 0.9644 - val_accuracy: 0.6270 - lr: 0.0010\n",
            "Epoch 33/50\n",
            "1118/1118 [==============================] - ETA: 0s - loss: 0.7699 - accuracy: 0.7026\n",
            "Epoch 00033: val_loss improved from 0.95472 to 0.90717, saving model to /content/drive/MyDrive/Models/Fourclass(SIIM)_Residual-Bi-GRU_without_KFold(Curated_Dataset)/FourCLass.h5\n",
            "1118/1118 [==============================] - 165s 148ms/step - loss: 0.7699 - accuracy: 0.7026 - val_loss: 0.9072 - val_accuracy: 0.6324 - lr: 0.0010\n",
            "Epoch 34/50\n",
            "1118/1118 [==============================] - ETA: 0s - loss: 0.7614 - accuracy: 0.7033\n",
            "Epoch 00034: val_loss did not improve from 0.90717\n",
            "1118/1118 [==============================] - 165s 147ms/step - loss: 0.7614 - accuracy: 0.7033 - val_loss: 0.9955 - val_accuracy: 0.6315 - lr: 0.0010\n",
            "Epoch 35/50\n",
            "1118/1118 [==============================] - ETA: 0s - loss: 0.7348 - accuracy: 0.7103\n",
            "Epoch 00035: val_loss did not improve from 0.90717\n",
            "1118/1118 [==============================] - 165s 147ms/step - loss: 0.7348 - accuracy: 0.7103 - val_loss: 0.9580 - val_accuracy: 0.6261 - lr: 0.0010\n",
            "Epoch 36/50\n",
            "1118/1118 [==============================] - ETA: 0s - loss: 0.7097 - accuracy: 0.7243\n",
            "Epoch 00036: val_loss improved from 0.90717 to 0.89220, saving model to /content/drive/MyDrive/Models/Fourclass(SIIM)_Residual-Bi-GRU_without_KFold(Curated_Dataset)/FourCLass.h5\n",
            "1118/1118 [==============================] - 165s 148ms/step - loss: 0.7097 - accuracy: 0.7243 - val_loss: 0.8922 - val_accuracy: 0.6592 - lr: 0.0010\n",
            "Epoch 37/50\n",
            "1118/1118 [==============================] - ETA: 0s - loss: 0.6882 - accuracy: 0.7360\n",
            "Epoch 00037: val_loss did not improve from 0.89220\n",
            "1118/1118 [==============================] - 165s 147ms/step - loss: 0.6882 - accuracy: 0.7360 - val_loss: 1.0175 - val_accuracy: 0.6422 - lr: 0.0010\n",
            "Epoch 38/50\n",
            "1118/1118 [==============================] - ETA: 0s - loss: 0.6496 - accuracy: 0.7523\n",
            "Epoch 00038: val_loss did not improve from 0.89220\n",
            "1118/1118 [==============================] - 165s 147ms/step - loss: 0.6496 - accuracy: 0.7523 - val_loss: 1.0195 - val_accuracy: 0.6512 - lr: 0.0010\n",
            "Epoch 39/50\n",
            "1118/1118 [==============================] - ETA: 0s - loss: 0.6499 - accuracy: 0.7516\n",
            "Epoch 00039: val_loss did not improve from 0.89220\n",
            "1118/1118 [==============================] - 165s 147ms/step - loss: 0.6499 - accuracy: 0.7516 - val_loss: 0.8967 - val_accuracy: 0.6816 - lr: 0.0010\n",
            "Epoch 40/50\n",
            "1118/1118 [==============================] - ETA: 0s - loss: 0.6133 - accuracy: 0.7686\n",
            "Epoch 00040: val_loss did not improve from 0.89220\n",
            "1118/1118 [==============================] - 165s 147ms/step - loss: 0.6133 - accuracy: 0.7686 - val_loss: 0.9853 - val_accuracy: 0.6592 - lr: 0.0010\n",
            "Epoch 41/50\n",
            "1118/1118 [==============================] - ETA: 0s - loss: 0.5965 - accuracy: 0.7779\n",
            "Epoch 00041: val_loss did not improve from 0.89220\n",
            "1118/1118 [==============================] - 165s 147ms/step - loss: 0.5965 - accuracy: 0.7779 - val_loss: 0.9466 - val_accuracy: 0.6646 - lr: 0.0010\n",
            "Epoch 42/50\n",
            "1118/1118 [==============================] - ETA: 0s - loss: 0.5783 - accuracy: 0.7832\n",
            "Epoch 00042: val_loss did not improve from 0.89220\n",
            "1118/1118 [==============================] - 164s 147ms/step - loss: 0.5783 - accuracy: 0.7832 - val_loss: 0.9163 - val_accuracy: 0.6780 - lr: 0.0010\n",
            "Epoch 43/50\n",
            "1118/1118 [==============================] - ETA: 0s - loss: 0.5494 - accuracy: 0.7936\n",
            "Epoch 00043: val_loss improved from 0.89220 to 0.88973, saving model to /content/drive/MyDrive/Models/Fourclass(SIIM)_Residual-Bi-GRU_without_KFold(Curated_Dataset)/FourCLass.h5\n",
            "1118/1118 [==============================] - 165s 148ms/step - loss: 0.5494 - accuracy: 0.7936 - val_loss: 0.8897 - val_accuracy: 0.6959 - lr: 0.0010\n",
            "Epoch 44/50\n",
            "1118/1118 [==============================] - ETA: 0s - loss: 0.5213 - accuracy: 0.8088\n",
            "Epoch 00044: val_loss did not improve from 0.88973\n",
            "1118/1118 [==============================] - 165s 147ms/step - loss: 0.5213 - accuracy: 0.8088 - val_loss: 0.9091 - val_accuracy: 0.6753 - lr: 0.0010\n",
            "Epoch 45/50\n",
            "1118/1118 [==============================] - ETA: 0s - loss: 0.5057 - accuracy: 0.8133\n",
            "Epoch 00045: val_loss did not improve from 0.88973\n",
            "1118/1118 [==============================] - 164s 147ms/step - loss: 0.5057 - accuracy: 0.8133 - val_loss: 0.9689 - val_accuracy: 0.6825 - lr: 0.0010\n",
            "Epoch 46/50\n",
            "1118/1118 [==============================] - ETA: 0s - loss: 0.4844 - accuracy: 0.8222\n",
            "Epoch 00046: val_loss did not improve from 0.88973\n",
            "1118/1118 [==============================] - 165s 148ms/step - loss: 0.4844 - accuracy: 0.8222 - val_loss: 0.8941 - val_accuracy: 0.7102 - lr: 0.0010\n",
            "Epoch 47/50\n",
            "1118/1118 [==============================] - ETA: 0s - loss: 0.4685 - accuracy: 0.8279\n",
            "Epoch 00047: val_loss did not improve from 0.88973\n",
            "1118/1118 [==============================] - 165s 147ms/step - loss: 0.4685 - accuracy: 0.8279 - val_loss: 0.9035 - val_accuracy: 0.7111 - lr: 0.0010\n",
            "Epoch 48/50\n",
            "1118/1118 [==============================] - ETA: 0s - loss: 0.4648 - accuracy: 0.8297\n",
            "Epoch 00048: val_loss did not improve from 0.88973\n",
            "1118/1118 [==============================] - 164s 147ms/step - loss: 0.4648 - accuracy: 0.8297 - val_loss: 0.8934 - val_accuracy: 0.6995 - lr: 0.0010\n",
            "Epoch 49/50\n",
            "1118/1118 [==============================] - ETA: 0s - loss: 0.4437 - accuracy: 0.8401\n",
            "Epoch 00049: val_loss did not improve from 0.88973\n",
            "1118/1118 [==============================] - 165s 147ms/step - loss: 0.4437 - accuracy: 0.8401 - val_loss: 0.9302 - val_accuracy: 0.7093 - lr: 0.0010\n",
            "Epoch 50/50\n",
            "1118/1118 [==============================] - ETA: 0s - loss: 0.4021 - accuracy: 0.8526\n",
            "Epoch 00050: val_loss did not improve from 0.88973\n",
            "1118/1118 [==============================] - 165s 148ms/step - loss: 0.4021 - accuracy: 0.8526 - val_loss: 0.9192 - val_accuracy: 0.7057 - lr: 0.0010\n"
          ]
        }
      ]
    },
    {
      "cell_type": "code",
      "metadata": {
        "colab": {
          "base_uri": "https://localhost:8080/",
          "height": 573
        },
        "id": "uKq1Lwyp9s6b",
        "outputId": "72a70442-aa8e-4d09-ed1d-1aea2640d774"
      },
      "source": [
        "# summarize history for accuracy\n",
        "plt.plot(fit_history.history['accuracy'])\n",
        "plt.plot(fit_history.history['val_accuracy'])\n",
        "plt.title('model accuracy')\n",
        "plt.ylabel('accuracy')\n",
        "plt.xlabel('epoch')\n",
        "plt.legend(['train', 'test'], loc='upper left')\n",
        "plt.show()\n",
        "# summarize history for loss\n",
        "plt.plot(fit_history.history['loss'])\n",
        "plt.plot(fit_history.history['val_loss'])\n",
        "plt.title('model loss')\n",
        "plt.ylabel('loss')\n",
        "plt.xlabel('epoch')\n",
        "plt.legend(['train', 'test'], loc='upper left')\n",
        "plt.show()"
      ],
      "execution_count": null,
      "outputs": [
        {
          "output_type": "display_data",
          "data": {
            "image/png": "[encoded data removed]",
            "text/plain": [
              "<Figure size 432x288 with 1 Axes>"
            ]
          },
          "metadata": {
            "needs_background": "light"
          }
        },
        {
          "output_type": "display_data",
          "data": {
            "image/png": "[encoded data removed]",
            "text/plain": [
              "<Figure size 432x288 with 1 Axes>"
            ]
          },
          "metadata": {
            "needs_background": "light"
          }
        }
      ]
    },
    {
      "cell_type": "markdown",
      "metadata": {
        "id": "TtsjaZBa-f1O"
      },
      "source": [
        "# **Evaluation on Testing Data**"
      ]
    },
    {
      "cell_type": "code",
      "metadata": {
        "colab": {
          "base_uri": "https://localhost:8080/"
        },
        "id": "rHh3gTtt8SwF",
        "outputId": "a7dbff2d-5788-47e7-ccee-45c977d6d74a"
      },
      "source": [
        "from tensorflow.math import confusion_matrix\n",
        "from sklearn.metrics import accuracy_score\n",
        "\n",
        "#actual =  valid_data.labels\n",
        "preds = np.argmax(model.predict(X_test), axis=1)\n",
        "cfmx = confusion_matrix(y_test, preds)\n",
        "acc = accuracy_score(y_test,preds)\n",
        "print ('Test Accuracy:', acc )\n",
        "print('Confusion matrix:', cfmx)"
      ],
      "execution_count": null,
      "outputs": [
        {
          "output_type": "stream",
          "name": "stdout",
          "text": [
            "Test Accuracy: 0.8067978533094812\n",
            "Confusion matrix: tf.Tensor(\n",
            "[[199  17  21  24]\n",
            " [  5 292   4   6]\n",
            " [ 24  13 228  28]\n",
            " [ 36   6  32 183]], shape=(4, 4), dtype=int32)\n"
          ]
        }
      ]
    },
    {
      "cell_type": "code",
      "metadata": {
        "colab": {
          "base_uri": "https://localhost:8080/",
          "height": 310
        },
        "id": "uKCNhtJO8Vqx",
        "outputId": "96cb38ee-e9ff-4c03-b070-6a3a95142269"
      },
      "source": [
        "from sklearn.svm import SVC\n",
        "import pandas as pd\n",
        "import seaborn as sns\n",
        "from sklearn.metrics import accuracy_score, confusion_matrix, precision_recall_fscore_support\n",
        "\n",
        "\n",
        "# Creates a confusion matrix\n",
        "cm = confusion_matrix(y_test, preds) \n",
        "\n",
        "# Transform to df for easier plotting\n",
        "cm_df = pd.DataFrame(cm,\n",
        "                     index = ['Negative','Atypical', 'Indeterminate','Typical'], \n",
        "                     columns = ['Negative','Atypical', 'Indeterminate','Typical'])\n",
        "\n",
        "plt.figure(figsize=(5.5,4))\n",
        "sns.heatmap(cm_df, annot=True, cmap='Blues')\n",
        "plt.title('CNN-Bi_GRU \\n Test Accuracy:{0:.3f}'.format(accuracy_score(y_test, preds)))\n",
        "plt.ylabel('True label')\n",
        "plt.xlabel('Predicted label')\n",
        "plt.show()"
      ],
      "execution_count": null,
      "outputs": [
        {
          "output_type": "display_data",
          "data": {
            "image/png": "[encoded data removed]",
            "text/plain": [
              "<Figure size 396x288 with 2 Axes>"
            ]
          },
          "metadata": {
            "needs_background": "light"
          }
        }
      ]
    },
    {
      "cell_type": "code",
      "metadata": {
        "colab": {
          "base_uri": "https://localhost:8080/"
        },
        "id": "yedwnmEA8eaC",
        "outputId": "5ce9b38b-1b33-44b0-c487-d04f24b49fc6"
      },
      "source": [
        "from sklearn.metrics import classification_report\n",
        "print(classification_report(y_test,preds))"
      ],
      "execution_count": null,
      "outputs": [
        {
          "output_type": "stream",
          "name": "stdout",
          "text": [
            "              precision    recall  f1-score   support\n",
            "\n",
            "           0       0.75      0.76      0.76       261\n",
            "           1       0.89      0.95      0.92       307\n",
            "           2       0.80      0.78      0.79       293\n",
            "           3       0.76      0.71      0.73       257\n",
            "\n",
            "    accuracy                           0.81      1118\n",
            "   macro avg       0.80      0.80      0.80      1118\n",
            "weighted avg       0.80      0.81      0.81      1118\n",
            "\n"
          ]
        }
      ]
    },
    {
      "cell_type": "code",
      "metadata": {
        "colab": {
          "base_uri": "https://localhost:8080/"
        },
        "id": "UAb9D3hF8g4E",
        "outputId": "5607df30-6113-4988-904c-c3f4c26e221b"
      },
      "source": [
        "from sklearn.metrics import precision_score,recall_score,f1_score\n",
        "precision = precision_score(y_test, preds, average='weighted')\n",
        "print('Precision: %.3f' % precision)\n",
        "recall = recall_score(y_test, preds, average='weighted')\n",
        "print('Recall: %.3f' % recall)\n",
        "score = f1_score(y_test, preds, average='weighted')\n",
        "print('F-Measure: %.3f' % score)"
      ],
      "execution_count": null,
      "outputs": [
        {
          "output_type": "stream",
          "name": "stdout",
          "text": [
            "Precision: 0.805\n",
            "Recall: 0.807\n",
            "F-Measure: 0.805\n"
          ]
        }
      ]
    }
  ]
}